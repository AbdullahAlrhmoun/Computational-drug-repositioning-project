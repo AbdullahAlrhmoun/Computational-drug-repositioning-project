{
 "cells": [
  {
   "cell_type": "markdown",
   "metadata": {},
   "source": [
    "## Import packages"
   ]
  },
  {
   "cell_type": "code",
   "execution_count": 1,
   "metadata": {
    "collapsed": true
   },
   "outputs": [],
   "source": [
    "import pandas as pd\n",
    "import numpy as np\n",
    "import pylab as P\n",
    "from sklearn.ensemble import ExtraTreesClassifier\n",
    "from sklearn.feature_selection import RFE\n",
    "from sklearn.linear_model import LogisticRegression\n",
    "from sklearn.decomposition import PCA\n",
    "from sklearn.metrics import roc_curve, auc\n",
    "\n",
    "from sklearn.svm import SVC\n",
    "import matplotlib.pyplot as plt\n",
    "\n",
    "from scipy.stats import pearsonr\n",
    "import seaborn as sns \n",
    "import random\n",
    "\n",
    "from sklearn.multiclass import OneVsRestClassifier\n",
    "from sklearn.svm import LinearSVC\n",
    "\n",
    "from sklearn.metrics import confusion_matrix\n",
    "from sklearn import svm\n",
    "from sklearn import grid_search\n",
    "\n",
    "import itertools\n",
    "\n",
    "from sklearn.datasets import make_classification\n",
    "from sklearn.linear_model import LogisticRegression\n",
    "\n",
    "%matplotlib inline "
   ]
  },
  {
   "cell_type": "markdown",
   "metadata": {},
   "source": [
    "## Read data"
   ]
  },
  {
   "cell_type": "code",
   "execution_count": 2,
   "metadata": {
    "collapsed": false
   },
   "outputs": [
    {
     "data": {
      "text/html": [
       "<div>\n",
       "<table border=\"1\" class=\"dataframe\">\n",
       "  <thead>\n",
       "    <tr style=\"text-align: right;\">\n",
       "      <th></th>\n",
       "      <th>Disease-Drug</th>\n",
       "      <th>sub2</th>\n",
       "      <th>sub3</th>\n",
       "      <th>sub4</th>\n",
       "      <th>sub10</th>\n",
       "      <th>sub11</th>\n",
       "      <th>sub12</th>\n",
       "      <th>sub13</th>\n",
       "      <th>sub14</th>\n",
       "      <th>sub15</th>\n",
       "      <th>...</th>\n",
       "      <th>hsa-mir-7-1</th>\n",
       "      <th>hsa-mir-7-2</th>\n",
       "      <th>hsa-mir-7-3</th>\n",
       "      <th>hsa-mir-765</th>\n",
       "      <th>hsa-mir-9-1</th>\n",
       "      <th>hsa-mir-9-2</th>\n",
       "      <th>hsa-mir-9-3</th>\n",
       "      <th>hsa-mir-92a-1</th>\n",
       "      <th>hsa-mir-96</th>\n",
       "      <th>Class</th>\n",
       "    </tr>\n",
       "  </thead>\n",
       "  <tbody>\n",
       "    <tr>\n",
       "      <th>0</th>\n",
       "      <td>acute lymphoblastic leukemia (all) (precursor ...</td>\n",
       "      <td>1</td>\n",
       "      <td>1</td>\n",
       "      <td>0</td>\n",
       "      <td>1</td>\n",
       "      <td>1</td>\n",
       "      <td>1</td>\n",
       "      <td>1</td>\n",
       "      <td>0</td>\n",
       "      <td>1</td>\n",
       "      <td>...</td>\n",
       "      <td>0</td>\n",
       "      <td>0</td>\n",
       "      <td>0</td>\n",
       "      <td>0</td>\n",
       "      <td>0</td>\n",
       "      <td>0</td>\n",
       "      <td>0</td>\n",
       "      <td>0</td>\n",
       "      <td>0</td>\n",
       "      <td>1</td>\n",
       "    </tr>\n",
       "    <tr>\n",
       "      <th>1</th>\n",
       "      <td>acute lymphoblastic leukemia (all) (precursor ...</td>\n",
       "      <td>1</td>\n",
       "      <td>1</td>\n",
       "      <td>0</td>\n",
       "      <td>1</td>\n",
       "      <td>1</td>\n",
       "      <td>1</td>\n",
       "      <td>1</td>\n",
       "      <td>0</td>\n",
       "      <td>0</td>\n",
       "      <td>...</td>\n",
       "      <td>0</td>\n",
       "      <td>0</td>\n",
       "      <td>0</td>\n",
       "      <td>0</td>\n",
       "      <td>0</td>\n",
       "      <td>0</td>\n",
       "      <td>0</td>\n",
       "      <td>0</td>\n",
       "      <td>0</td>\n",
       "      <td>1</td>\n",
       "    </tr>\n",
       "    <tr>\n",
       "      <th>2</th>\n",
       "      <td>acute lymphoblastic leukemia (all) (precursor ...</td>\n",
       "      <td>1</td>\n",
       "      <td>1</td>\n",
       "      <td>0</td>\n",
       "      <td>1</td>\n",
       "      <td>1</td>\n",
       "      <td>1</td>\n",
       "      <td>1</td>\n",
       "      <td>0</td>\n",
       "      <td>1</td>\n",
       "      <td>...</td>\n",
       "      <td>0</td>\n",
       "      <td>0</td>\n",
       "      <td>0</td>\n",
       "      <td>0</td>\n",
       "      <td>0</td>\n",
       "      <td>0</td>\n",
       "      <td>0</td>\n",
       "      <td>0</td>\n",
       "      <td>0</td>\n",
       "      <td>1</td>\n",
       "    </tr>\n",
       "  </tbody>\n",
       "</table>\n",
       "<p>3 rows × 1648 columns</p>\n",
       "</div>"
      ],
      "text/plain": [
       "                                        Disease-Drug  sub2  sub3  sub4  sub10  \\\n",
       "0  acute lymphoblastic leukemia (all) (precursor ...     1     1     0      1   \n",
       "1  acute lymphoblastic leukemia (all) (precursor ...     1     1     0      1   \n",
       "2  acute lymphoblastic leukemia (all) (precursor ...     1     1     0      1   \n",
       "\n",
       "   sub11  sub12  sub13  sub14  sub15  ...    hsa-mir-7-1  hsa-mir-7-2  \\\n",
       "0      1      1      1      0      1  ...              0            0   \n",
       "1      1      1      1      0      0  ...              0            0   \n",
       "2      1      1      1      0      1  ...              0            0   \n",
       "\n",
       "   hsa-mir-7-3  hsa-mir-765  hsa-mir-9-1  hsa-mir-9-2  hsa-mir-9-3  \\\n",
       "0            0            0            0            0            0   \n",
       "1            0            0            0            0            0   \n",
       "2            0            0            0            0            0   \n",
       "\n",
       "   hsa-mir-92a-1  hsa-mir-96  Class  \n",
       "0              0           0      1  \n",
       "1              0           0      1  \n",
       "2              0           0      1  \n",
       "\n",
       "[3 rows x 1648 columns]"
      ]
     },
     "execution_count": 2,
     "metadata": {},
     "output_type": "execute_result"
    }
   ],
   "source": [
    "# read excel file with pandas\n",
    "train_data = pd.read_excel(\"rand_combine_disease-drug_trainData1000.xlsx\")\n",
    "train_data[:3]"
   ]
  },
  {
   "cell_type": "markdown",
   "metadata": {},
   "source": [
    "## Get data statistic information"
   ]
  },
  {
   "cell_type": "code",
   "execution_count": 3,
   "metadata": {
    "collapsed": false
   },
   "outputs": [
    {
     "data": {
      "text/plain": [
       "1000"
      ]
     },
     "execution_count": 3,
     "metadata": {},
     "output_type": "execute_result"
    }
   ],
   "source": [
    "# get number of rows\n",
    "len(train_data)"
   ]
  },
  {
   "cell_type": "code",
   "execution_count": 4,
   "metadata": {
    "collapsed": false
   },
   "outputs": [
    {
     "data": {
      "text/plain": [
       "1648"
      ]
     },
     "execution_count": 4,
     "metadata": {},
     "output_type": "execute_result"
    }
   ],
   "source": [
    "# get number of columns\n",
    "len(train_data.columns)"
   ]
  },
  {
   "cell_type": "code",
   "execution_count": 5,
   "metadata": {
    "collapsed": false
   },
   "outputs": [
    {
     "data": {
      "text/html": [
       "<div>\n",
       "<table border=\"1\" class=\"dataframe\">\n",
       "  <thead>\n",
       "    <tr style=\"text-align: right;\">\n",
       "      <th></th>\n",
       "      <th>sub2</th>\n",
       "      <th>sub3</th>\n",
       "      <th>sub4</th>\n",
       "      <th>sub10</th>\n",
       "      <th>sub11</th>\n",
       "      <th>sub12</th>\n",
       "      <th>sub13</th>\n",
       "      <th>sub14</th>\n",
       "      <th>sub15</th>\n",
       "      <th>sub16</th>\n",
       "      <th>...</th>\n",
       "      <th>hsa-mir-7-1</th>\n",
       "      <th>hsa-mir-7-2</th>\n",
       "      <th>hsa-mir-7-3</th>\n",
       "      <th>hsa-mir-765</th>\n",
       "      <th>hsa-mir-9-1</th>\n",
       "      <th>hsa-mir-9-2</th>\n",
       "      <th>hsa-mir-9-3</th>\n",
       "      <th>hsa-mir-92a-1</th>\n",
       "      <th>hsa-mir-96</th>\n",
       "      <th>Class</th>\n",
       "    </tr>\n",
       "  </thead>\n",
       "  <tbody>\n",
       "    <tr>\n",
       "      <th>count</th>\n",
       "      <td>1000.000000</td>\n",
       "      <td>1000.000000</td>\n",
       "      <td>1000.000000</td>\n",
       "      <td>1000.000000</td>\n",
       "      <td>1000.000000</td>\n",
       "      <td>1000.000000</td>\n",
       "      <td>1000.000000</td>\n",
       "      <td>1000.000000</td>\n",
       "      <td>1000.000000</td>\n",
       "      <td>1000.000000</td>\n",
       "      <td>...</td>\n",
       "      <td>1000.000000</td>\n",
       "      <td>1000.000000</td>\n",
       "      <td>1000.000000</td>\n",
       "      <td>1000.000000</td>\n",
       "      <td>1000.000000</td>\n",
       "      <td>1000.000000</td>\n",
       "      <td>1000.000000</td>\n",
       "      <td>1000</td>\n",
       "      <td>1000.000000</td>\n",
       "      <td>1000.000000</td>\n",
       "    </tr>\n",
       "    <tr>\n",
       "      <th>mean</th>\n",
       "      <td>0.983000</td>\n",
       "      <td>0.851000</td>\n",
       "      <td>0.476000</td>\n",
       "      <td>0.998000</td>\n",
       "      <td>0.998000</td>\n",
       "      <td>0.974000</td>\n",
       "      <td>0.851000</td>\n",
       "      <td>0.394000</td>\n",
       "      <td>0.833000</td>\n",
       "      <td>0.447000</td>\n",
       "      <td>...</td>\n",
       "      <td>0.047000</td>\n",
       "      <td>0.047000</td>\n",
       "      <td>0.047000</td>\n",
       "      <td>0.003000</td>\n",
       "      <td>0.031000</td>\n",
       "      <td>0.031000</td>\n",
       "      <td>0.031000</td>\n",
       "      <td>0</td>\n",
       "      <td>0.079000</td>\n",
       "      <td>0.381000</td>\n",
       "    </tr>\n",
       "    <tr>\n",
       "      <th>std</th>\n",
       "      <td>0.129336</td>\n",
       "      <td>0.356267</td>\n",
       "      <td>0.499674</td>\n",
       "      <td>0.044699</td>\n",
       "      <td>0.044699</td>\n",
       "      <td>0.159215</td>\n",
       "      <td>0.356267</td>\n",
       "      <td>0.488879</td>\n",
       "      <td>0.373162</td>\n",
       "      <td>0.497432</td>\n",
       "      <td>...</td>\n",
       "      <td>0.211745</td>\n",
       "      <td>0.211745</td>\n",
       "      <td>0.211745</td>\n",
       "      <td>0.054717</td>\n",
       "      <td>0.173404</td>\n",
       "      <td>0.173404</td>\n",
       "      <td>0.173404</td>\n",
       "      <td>0</td>\n",
       "      <td>0.269874</td>\n",
       "      <td>0.485876</td>\n",
       "    </tr>\n",
       "    <tr>\n",
       "      <th>min</th>\n",
       "      <td>0.000000</td>\n",
       "      <td>0.000000</td>\n",
       "      <td>0.000000</td>\n",
       "      <td>0.000000</td>\n",
       "      <td>0.000000</td>\n",
       "      <td>0.000000</td>\n",
       "      <td>0.000000</td>\n",
       "      <td>0.000000</td>\n",
       "      <td>0.000000</td>\n",
       "      <td>0.000000</td>\n",
       "      <td>...</td>\n",
       "      <td>0.000000</td>\n",
       "      <td>0.000000</td>\n",
       "      <td>0.000000</td>\n",
       "      <td>0.000000</td>\n",
       "      <td>0.000000</td>\n",
       "      <td>0.000000</td>\n",
       "      <td>0.000000</td>\n",
       "      <td>0</td>\n",
       "      <td>0.000000</td>\n",
       "      <td>0.000000</td>\n",
       "    </tr>\n",
       "    <tr>\n",
       "      <th>25%</th>\n",
       "      <td>1.000000</td>\n",
       "      <td>1.000000</td>\n",
       "      <td>0.000000</td>\n",
       "      <td>1.000000</td>\n",
       "      <td>1.000000</td>\n",
       "      <td>1.000000</td>\n",
       "      <td>1.000000</td>\n",
       "      <td>0.000000</td>\n",
       "      <td>1.000000</td>\n",
       "      <td>0.000000</td>\n",
       "      <td>...</td>\n",
       "      <td>0.000000</td>\n",
       "      <td>0.000000</td>\n",
       "      <td>0.000000</td>\n",
       "      <td>0.000000</td>\n",
       "      <td>0.000000</td>\n",
       "      <td>0.000000</td>\n",
       "      <td>0.000000</td>\n",
       "      <td>0</td>\n",
       "      <td>0.000000</td>\n",
       "      <td>0.000000</td>\n",
       "    </tr>\n",
       "    <tr>\n",
       "      <th>50%</th>\n",
       "      <td>1.000000</td>\n",
       "      <td>1.000000</td>\n",
       "      <td>0.000000</td>\n",
       "      <td>1.000000</td>\n",
       "      <td>1.000000</td>\n",
       "      <td>1.000000</td>\n",
       "      <td>1.000000</td>\n",
       "      <td>0.000000</td>\n",
       "      <td>1.000000</td>\n",
       "      <td>0.000000</td>\n",
       "      <td>...</td>\n",
       "      <td>0.000000</td>\n",
       "      <td>0.000000</td>\n",
       "      <td>0.000000</td>\n",
       "      <td>0.000000</td>\n",
       "      <td>0.000000</td>\n",
       "      <td>0.000000</td>\n",
       "      <td>0.000000</td>\n",
       "      <td>0</td>\n",
       "      <td>0.000000</td>\n",
       "      <td>0.000000</td>\n",
       "    </tr>\n",
       "    <tr>\n",
       "      <th>75%</th>\n",
       "      <td>1.000000</td>\n",
       "      <td>1.000000</td>\n",
       "      <td>1.000000</td>\n",
       "      <td>1.000000</td>\n",
       "      <td>1.000000</td>\n",
       "      <td>1.000000</td>\n",
       "      <td>1.000000</td>\n",
       "      <td>1.000000</td>\n",
       "      <td>1.000000</td>\n",
       "      <td>1.000000</td>\n",
       "      <td>...</td>\n",
       "      <td>0.000000</td>\n",
       "      <td>0.000000</td>\n",
       "      <td>0.000000</td>\n",
       "      <td>0.000000</td>\n",
       "      <td>0.000000</td>\n",
       "      <td>0.000000</td>\n",
       "      <td>0.000000</td>\n",
       "      <td>0</td>\n",
       "      <td>0.000000</td>\n",
       "      <td>1.000000</td>\n",
       "    </tr>\n",
       "    <tr>\n",
       "      <th>max</th>\n",
       "      <td>1.000000</td>\n",
       "      <td>1.000000</td>\n",
       "      <td>1.000000</td>\n",
       "      <td>1.000000</td>\n",
       "      <td>1.000000</td>\n",
       "      <td>1.000000</td>\n",
       "      <td>1.000000</td>\n",
       "      <td>1.000000</td>\n",
       "      <td>1.000000</td>\n",
       "      <td>1.000000</td>\n",
       "      <td>...</td>\n",
       "      <td>1.000000</td>\n",
       "      <td>1.000000</td>\n",
       "      <td>1.000000</td>\n",
       "      <td>1.000000</td>\n",
       "      <td>1.000000</td>\n",
       "      <td>1.000000</td>\n",
       "      <td>1.000000</td>\n",
       "      <td>0</td>\n",
       "      <td>1.000000</td>\n",
       "      <td>1.000000</td>\n",
       "    </tr>\n",
       "  </tbody>\n",
       "</table>\n",
       "<p>8 rows × 1647 columns</p>\n",
       "</div>"
      ],
      "text/plain": [
       "              sub2         sub3         sub4        sub10        sub11  \\\n",
       "count  1000.000000  1000.000000  1000.000000  1000.000000  1000.000000   \n",
       "mean      0.983000     0.851000     0.476000     0.998000     0.998000   \n",
       "std       0.129336     0.356267     0.499674     0.044699     0.044699   \n",
       "min       0.000000     0.000000     0.000000     0.000000     0.000000   \n",
       "25%       1.000000     1.000000     0.000000     1.000000     1.000000   \n",
       "50%       1.000000     1.000000     0.000000     1.000000     1.000000   \n",
       "75%       1.000000     1.000000     1.000000     1.000000     1.000000   \n",
       "max       1.000000     1.000000     1.000000     1.000000     1.000000   \n",
       "\n",
       "             sub12        sub13        sub14        sub15        sub16  \\\n",
       "count  1000.000000  1000.000000  1000.000000  1000.000000  1000.000000   \n",
       "mean      0.974000     0.851000     0.394000     0.833000     0.447000   \n",
       "std       0.159215     0.356267     0.488879     0.373162     0.497432   \n",
       "min       0.000000     0.000000     0.000000     0.000000     0.000000   \n",
       "25%       1.000000     1.000000     0.000000     1.000000     0.000000   \n",
       "50%       1.000000     1.000000     0.000000     1.000000     0.000000   \n",
       "75%       1.000000     1.000000     1.000000     1.000000     1.000000   \n",
       "max       1.000000     1.000000     1.000000     1.000000     1.000000   \n",
       "\n",
       "          ...       hsa-mir-7-1  hsa-mir-7-2  hsa-mir-7-3  hsa-mir-765  \\\n",
       "count     ...       1000.000000  1000.000000  1000.000000  1000.000000   \n",
       "mean      ...          0.047000     0.047000     0.047000     0.003000   \n",
       "std       ...          0.211745     0.211745     0.211745     0.054717   \n",
       "min       ...          0.000000     0.000000     0.000000     0.000000   \n",
       "25%       ...          0.000000     0.000000     0.000000     0.000000   \n",
       "50%       ...          0.000000     0.000000     0.000000     0.000000   \n",
       "75%       ...          0.000000     0.000000     0.000000     0.000000   \n",
       "max       ...          1.000000     1.000000     1.000000     1.000000   \n",
       "\n",
       "       hsa-mir-9-1  hsa-mir-9-2  hsa-mir-9-3  hsa-mir-92a-1   hsa-mir-96  \\\n",
       "count  1000.000000  1000.000000  1000.000000           1000  1000.000000   \n",
       "mean      0.031000     0.031000     0.031000              0     0.079000   \n",
       "std       0.173404     0.173404     0.173404              0     0.269874   \n",
       "min       0.000000     0.000000     0.000000              0     0.000000   \n",
       "25%       0.000000     0.000000     0.000000              0     0.000000   \n",
       "50%       0.000000     0.000000     0.000000              0     0.000000   \n",
       "75%       0.000000     0.000000     0.000000              0     0.000000   \n",
       "max       1.000000     1.000000     1.000000              0     1.000000   \n",
       "\n",
       "             Class  \n",
       "count  1000.000000  \n",
       "mean      0.381000  \n",
       "std       0.485876  \n",
       "min       0.000000  \n",
       "25%       0.000000  \n",
       "50%       0.000000  \n",
       "75%       1.000000  \n",
       "max       1.000000  \n",
       "\n",
       "[8 rows x 1647 columns]"
      ]
     },
     "execution_count": 5,
     "metadata": {},
     "output_type": "execute_result"
    }
   ],
   "source": [
    "# get statistical information\n",
    "train_data.describe()"
   ]
  },
  {
   "cell_type": "markdown",
   "metadata": {},
   "source": [
    "Detailed information about columns nature\n",
    "\n",
    "1. Text info: Desease-Drug\n",
    "2. Chemical substructure similarity between drugs. - drugs\n",
    "3. Side effect that describe drug-drug similarity. - drugs\n",
    "4. Sharing targets between drugs. - drugs\n",
    "5. Sharing genes between diseases. - diseases\n",
    "6. miRNA sharing between diseases. - diseases\n",
    "\n",
    "\n",
    "\n",
    "-- 1 Text: Desease-Drug\n",
    "\n",
    "-- 491 chemical substructure\n",
    "\n",
    "-- 817 side effect\n",
    "\n",
    "-- 136 drug target features for drugs classification\n",
    "\n",
    "-- 136 miRNAs\n",
    "\n",
    "-- 64 genes as a feature for diseases\n",
    "\n",
    "-- class"
   ]
  },
  {
   "cell_type": "code",
   "execution_count": 6,
   "metadata": {
    "collapsed": false
   },
   "outputs": [
    {
     "data": {
      "text/plain": [
       "Index([ u'Disease-Drug',          u'sub2',          u'sub3',          u'sub4',\n",
       "               u'sub10',         u'sub11',         u'sub12',         u'sub13',\n",
       "               u'sub14',         u'sub15', \n",
       "       ...\n",
       "         u'hsa-mir-7-1',   u'hsa-mir-7-2',   u'hsa-mir-7-3',   u'hsa-mir-765',\n",
       "         u'hsa-mir-9-1',   u'hsa-mir-9-2',   u'hsa-mir-9-3', u'hsa-mir-92a-1',\n",
       "          u'hsa-mir-96',         u'Class'],\n",
       "      dtype='object', length=1648)"
      ]
     },
     "execution_count": 6,
     "metadata": {},
     "output_type": "execute_result"
    }
   ],
   "source": [
    "# save columns names to variable\n",
    "col = train_data.columns\n",
    "col"
   ]
  },
  {
   "cell_type": "code",
   "execution_count": 7,
   "metadata": {
    "collapsed": false
   },
   "outputs": [
    {
     "data": {
      "text/html": [
       "<div>\n",
       "<table border=\"1\" class=\"dataframe\">\n",
       "  <thead>\n",
       "    <tr style=\"text-align: right;\">\n",
       "      <th></th>\n",
       "      <th>sub2</th>\n",
       "      <th>sub3</th>\n",
       "      <th>sub4</th>\n",
       "      <th>sub10</th>\n",
       "      <th>sub11</th>\n",
       "      <th>sub12</th>\n",
       "      <th>sub13</th>\n",
       "      <th>sub14</th>\n",
       "      <th>sub15</th>\n",
       "      <th>sub16</th>\n",
       "      <th>...</th>\n",
       "      <th>sub825</th>\n",
       "      <th>sub827</th>\n",
       "      <th>sub831</th>\n",
       "      <th>sub834</th>\n",
       "      <th>sub835</th>\n",
       "      <th>sub840</th>\n",
       "      <th>sub841</th>\n",
       "      <th>sub861</th>\n",
       "      <th>sub862</th>\n",
       "      <th>sub867</th>\n",
       "    </tr>\n",
       "  </thead>\n",
       "  <tbody>\n",
       "    <tr>\n",
       "      <th>0</th>\n",
       "      <td>1</td>\n",
       "      <td>1</td>\n",
       "      <td>0</td>\n",
       "      <td>1</td>\n",
       "      <td>1</td>\n",
       "      <td>1</td>\n",
       "      <td>1</td>\n",
       "      <td>0</td>\n",
       "      <td>1</td>\n",
       "      <td>1</td>\n",
       "      <td>...</td>\n",
       "      <td>0</td>\n",
       "      <td>0</td>\n",
       "      <td>0</td>\n",
       "      <td>0</td>\n",
       "      <td>0</td>\n",
       "      <td>0</td>\n",
       "      <td>0</td>\n",
       "      <td>0</td>\n",
       "      <td>0</td>\n",
       "      <td>0</td>\n",
       "    </tr>\n",
       "    <tr>\n",
       "      <th>1</th>\n",
       "      <td>1</td>\n",
       "      <td>1</td>\n",
       "      <td>0</td>\n",
       "      <td>1</td>\n",
       "      <td>1</td>\n",
       "      <td>1</td>\n",
       "      <td>1</td>\n",
       "      <td>0</td>\n",
       "      <td>0</td>\n",
       "      <td>0</td>\n",
       "      <td>...</td>\n",
       "      <td>0</td>\n",
       "      <td>0</td>\n",
       "      <td>0</td>\n",
       "      <td>0</td>\n",
       "      <td>0</td>\n",
       "      <td>1</td>\n",
       "      <td>1</td>\n",
       "      <td>1</td>\n",
       "      <td>1</td>\n",
       "      <td>0</td>\n",
       "    </tr>\n",
       "    <tr>\n",
       "      <th>2</th>\n",
       "      <td>1</td>\n",
       "      <td>1</td>\n",
       "      <td>0</td>\n",
       "      <td>1</td>\n",
       "      <td>1</td>\n",
       "      <td>1</td>\n",
       "      <td>1</td>\n",
       "      <td>0</td>\n",
       "      <td>1</td>\n",
       "      <td>1</td>\n",
       "      <td>...</td>\n",
       "      <td>0</td>\n",
       "      <td>0</td>\n",
       "      <td>0</td>\n",
       "      <td>0</td>\n",
       "      <td>0</td>\n",
       "      <td>0</td>\n",
       "      <td>0</td>\n",
       "      <td>0</td>\n",
       "      <td>0</td>\n",
       "      <td>0</td>\n",
       "    </tr>\n",
       "  </tbody>\n",
       "</table>\n",
       "<p>3 rows × 490 columns</p>\n",
       "</div>"
      ],
      "text/plain": [
       "   sub2  sub3  sub4  sub10  sub11  sub12  sub13  sub14  sub15  sub16   ...    \\\n",
       "0     1     1     0      1      1      1      1      0      1      1   ...     \n",
       "1     1     1     0      1      1      1      1      0      0      0   ...     \n",
       "2     1     1     0      1      1      1      1      0      1      1   ...     \n",
       "\n",
       "   sub825  sub827  sub831  sub834  sub835  sub840  sub841  sub861  sub862  \\\n",
       "0       0       0       0       0       0       0       0       0       0   \n",
       "1       0       0       0       0       0       1       1       1       1   \n",
       "2       0       0       0       0       0       0       0       0       0   \n",
       "\n",
       "   sub867  \n",
       "0       0  \n",
       "1       0  \n",
       "2       0  \n",
       "\n",
       "[3 rows x 490 columns]"
      ]
     },
     "execution_count": 7,
     "metadata": {},
     "output_type": "execute_result"
    }
   ],
   "source": [
    "# select only columns with chemical substructure similarity between drugs information\n",
    "chemical_str = train_data[col[1:491]]\n",
    "chemical_str[:3]"
   ]
  },
  {
   "cell_type": "code",
   "execution_count": 8,
   "metadata": {
    "collapsed": false
   },
   "outputs": [
    {
     "data": {
      "text/html": [
       "<div>\n",
       "<table border=\"1\" class=\"dataframe\">\n",
       "  <thead>\n",
       "    <tr style=\"text-align: right;\">\n",
       "      <th></th>\n",
       "      <th>abdominal.cramps</th>\n",
       "      <th>abdominal.distention</th>\n",
       "      <th>abdominal.pain</th>\n",
       "      <th>malformations</th>\n",
       "      <th>abscess</th>\n",
       "      <th>acidosis</th>\n",
       "      <th>acquired.immunodeficiency.syndrome</th>\n",
       "      <th>acute.pancreatitis</th>\n",
       "      <th>adenocarcinoma</th>\n",
       "      <th>adenomas</th>\n",
       "      <th>...</th>\n",
       "      <th>bleeding.diathesis</th>\n",
       "      <th>breast.neoplasm</th>\n",
       "      <th>thrombophlebitis.superficial</th>\n",
       "      <th>drug.dependence</th>\n",
       "      <th>prostatic.hypertrophy</th>\n",
       "      <th>allergic.reaction</th>\n",
       "      <th>dysphonia</th>\n",
       "      <th>eosinophilic.pneumonia</th>\n",
       "      <th>retinal.vein.thrombosis</th>\n",
       "      <th>renal.insufficiency</th>\n",
       "    </tr>\n",
       "  </thead>\n",
       "  <tbody>\n",
       "    <tr>\n",
       "      <th>0</th>\n",
       "      <td>0</td>\n",
       "      <td>0</td>\n",
       "      <td>0</td>\n",
       "      <td>0</td>\n",
       "      <td>0</td>\n",
       "      <td>0</td>\n",
       "      <td>0</td>\n",
       "      <td>0</td>\n",
       "      <td>0</td>\n",
       "      <td>0</td>\n",
       "      <td>...</td>\n",
       "      <td>0</td>\n",
       "      <td>0</td>\n",
       "      <td>0</td>\n",
       "      <td>0</td>\n",
       "      <td>0</td>\n",
       "      <td>0</td>\n",
       "      <td>0</td>\n",
       "      <td>0</td>\n",
       "      <td>1</td>\n",
       "      <td>0</td>\n",
       "    </tr>\n",
       "    <tr>\n",
       "      <th>1</th>\n",
       "      <td>0</td>\n",
       "      <td>1</td>\n",
       "      <td>0</td>\n",
       "      <td>0</td>\n",
       "      <td>0</td>\n",
       "      <td>0</td>\n",
       "      <td>0</td>\n",
       "      <td>0</td>\n",
       "      <td>0</td>\n",
       "      <td>0</td>\n",
       "      <td>...</td>\n",
       "      <td>0</td>\n",
       "      <td>0</td>\n",
       "      <td>0</td>\n",
       "      <td>0</td>\n",
       "      <td>0</td>\n",
       "      <td>0</td>\n",
       "      <td>0</td>\n",
       "      <td>0</td>\n",
       "      <td>0</td>\n",
       "      <td>0</td>\n",
       "    </tr>\n",
       "    <tr>\n",
       "      <th>2</th>\n",
       "      <td>0</td>\n",
       "      <td>1</td>\n",
       "      <td>1</td>\n",
       "      <td>0</td>\n",
       "      <td>0</td>\n",
       "      <td>0</td>\n",
       "      <td>0</td>\n",
       "      <td>0</td>\n",
       "      <td>0</td>\n",
       "      <td>0</td>\n",
       "      <td>...</td>\n",
       "      <td>0</td>\n",
       "      <td>0</td>\n",
       "      <td>0</td>\n",
       "      <td>0</td>\n",
       "      <td>0</td>\n",
       "      <td>0</td>\n",
       "      <td>0</td>\n",
       "      <td>0</td>\n",
       "      <td>0</td>\n",
       "      <td>0</td>\n",
       "    </tr>\n",
       "  </tbody>\n",
       "</table>\n",
       "<p>3 rows × 816 columns</p>\n",
       "</div>"
      ],
      "text/plain": [
       "   abdominal.cramps  abdominal.distention  abdominal.pain  malformations  \\\n",
       "0                 0                     0               0              0   \n",
       "1                 0                     1               0              0   \n",
       "2                 0                     1               1              0   \n",
       "\n",
       "   abscess  acidosis  acquired.immunodeficiency.syndrome  acute.pancreatitis  \\\n",
       "0        0         0                                   0                   0   \n",
       "1        0         0                                   0                   0   \n",
       "2        0         0                                   0                   0   \n",
       "\n",
       "   adenocarcinoma  adenomas         ...           bleeding.diathesis  \\\n",
       "0               0         0         ...                            0   \n",
       "1               0         0         ...                            0   \n",
       "2               0         0         ...                            0   \n",
       "\n",
       "   breast.neoplasm  thrombophlebitis.superficial  drug.dependence  \\\n",
       "0                0                             0                0   \n",
       "1                0                             0                0   \n",
       "2                0                             0                0   \n",
       "\n",
       "   prostatic.hypertrophy  allergic.reaction  dysphonia  \\\n",
       "0                      0                  0          0   \n",
       "1                      0                  0          0   \n",
       "2                      0                  0          0   \n",
       "\n",
       "   eosinophilic.pneumonia  retinal.vein.thrombosis  renal.insufficiency  \n",
       "0                       0                        1                    0  \n",
       "1                       0                        0                    0  \n",
       "2                       0                        0                    0  \n",
       "\n",
       "[3 rows x 816 columns]"
      ]
     },
     "execution_count": 8,
     "metadata": {},
     "output_type": "execute_result"
    }
   ],
   "source": [
    "# select only columns with side effect information\n",
    "n = 491 + 816\n",
    "side_effect = train_data[col[491:n]]\n",
    "side_effect[:3]"
   ]
  },
  {
   "cell_type": "code",
   "execution_count": 9,
   "metadata": {
    "collapsed": false
   },
   "outputs": [
    {
     "data": {
      "text/html": [
       "<div>\n",
       "<table border=\"1\" class=\"dataframe\">\n",
       "  <thead>\n",
       "    <tr style=\"text-align: right;\">\n",
       "      <th></th>\n",
       "      <th>abcc8</th>\n",
       "      <th>abl1</th>\n",
       "      <th>abl2</th>\n",
       "      <th>ache</th>\n",
       "      <th>adora1</th>\n",
       "      <th>adora2a</th>\n",
       "      <th>adora2b</th>\n",
       "      <th>adra1a</th>\n",
       "      <th>adra1b</th>\n",
       "      <th>adra1d</th>\n",
       "      <th>...</th>\n",
       "      <th>tubb</th>\n",
       "      <th>tubb1</th>\n",
       "      <th>tubb2a</th>\n",
       "      <th>tubb2b</th>\n",
       "      <th>tubb3</th>\n",
       "      <th>tubb4a</th>\n",
       "      <th>tubb4b</th>\n",
       "      <th>tubb6</th>\n",
       "      <th>tubb7p</th>\n",
       "      <th>tubb8</th>\n",
       "    </tr>\n",
       "  </thead>\n",
       "  <tbody>\n",
       "    <tr>\n",
       "      <th>0</th>\n",
       "      <td>0</td>\n",
       "      <td>0</td>\n",
       "      <td>0</td>\n",
       "      <td>0</td>\n",
       "      <td>0</td>\n",
       "      <td>0</td>\n",
       "      <td>0</td>\n",
       "      <td>0</td>\n",
       "      <td>0</td>\n",
       "      <td>0</td>\n",
       "      <td>...</td>\n",
       "      <td>0</td>\n",
       "      <td>0</td>\n",
       "      <td>0</td>\n",
       "      <td>0</td>\n",
       "      <td>0</td>\n",
       "      <td>0</td>\n",
       "      <td>0</td>\n",
       "      <td>0</td>\n",
       "      <td>0</td>\n",
       "      <td>0</td>\n",
       "    </tr>\n",
       "    <tr>\n",
       "      <th>1</th>\n",
       "      <td>0</td>\n",
       "      <td>0</td>\n",
       "      <td>0</td>\n",
       "      <td>0</td>\n",
       "      <td>0</td>\n",
       "      <td>0</td>\n",
       "      <td>0</td>\n",
       "      <td>0</td>\n",
       "      <td>0</td>\n",
       "      <td>0</td>\n",
       "      <td>...</td>\n",
       "      <td>0</td>\n",
       "      <td>0</td>\n",
       "      <td>0</td>\n",
       "      <td>0</td>\n",
       "      <td>0</td>\n",
       "      <td>0</td>\n",
       "      <td>0</td>\n",
       "      <td>0</td>\n",
       "      <td>0</td>\n",
       "      <td>0</td>\n",
       "    </tr>\n",
       "    <tr>\n",
       "      <th>2</th>\n",
       "      <td>0</td>\n",
       "      <td>1</td>\n",
       "      <td>0</td>\n",
       "      <td>0</td>\n",
       "      <td>0</td>\n",
       "      <td>0</td>\n",
       "      <td>0</td>\n",
       "      <td>0</td>\n",
       "      <td>0</td>\n",
       "      <td>0</td>\n",
       "      <td>...</td>\n",
       "      <td>0</td>\n",
       "      <td>0</td>\n",
       "      <td>0</td>\n",
       "      <td>0</td>\n",
       "      <td>0</td>\n",
       "      <td>0</td>\n",
       "      <td>0</td>\n",
       "      <td>0</td>\n",
       "      <td>0</td>\n",
       "      <td>0</td>\n",
       "    </tr>\n",
       "  </tbody>\n",
       "</table>\n",
       "<p>3 rows × 142 columns</p>\n",
       "</div>"
      ],
      "text/plain": [
       "   abcc8  abl1  abl2  ache  adora1  adora2a  adora2b  adra1a  adra1b  adra1d  \\\n",
       "0      0     0     0     0       0        0        0       0       0       0   \n",
       "1      0     0     0     0       0        0        0       0       0       0   \n",
       "2      0     1     0     0       0        0        0       0       0       0   \n",
       "\n",
       "   ...    tubb  tubb1  tubb2a  tubb2b  tubb3  tubb4a  tubb4b  tubb6  tubb7p  \\\n",
       "0  ...       0      0       0       0      0       0       0      0       0   \n",
       "1  ...       0      0       0       0      0       0       0      0       0   \n",
       "2  ...       0      0       0       0      0       0       0      0       0   \n",
       "\n",
       "   tubb8  \n",
       "0      0  \n",
       "1      0  \n",
       "2      0  \n",
       "\n",
       "[3 rows x 142 columns]"
      ]
     },
     "execution_count": 9,
     "metadata": {},
     "output_type": "execute_result"
    }
   ],
   "source": [
    "# select only columns with drug target features for drugs classification information\n",
    "m = n + 142\n",
    "sharing_targets = train_data[col[n:(m)]]\n",
    "sharing_targets[:3]"
   ]
  },
  {
   "cell_type": "code",
   "execution_count": 10,
   "metadata": {
    "collapsed": false
   },
   "outputs": [
    {
     "data": {
      "text/html": [
       "<div>\n",
       "<table border=\"1\" class=\"dataframe\">\n",
       "  <thead>\n",
       "    <tr style=\"text-align: right;\">\n",
       "      <th></th>\n",
       "      <th>tyms</th>\n",
       "      <th>yes1</th>\n",
       "      <th>app</th>\n",
       "      <th>ar.y</th>\n",
       "      <th>bax</th>\n",
       "      <th>bcl2.y</th>\n",
       "      <th>bmi1</th>\n",
       "      <th>brca2</th>\n",
       "      <th>cacna1c.y</th>\n",
       "      <th>ccnd1.y</th>\n",
       "      <th>...</th>\n",
       "      <th>slitrk1</th>\n",
       "      <th>smad4</th>\n",
       "      <th>smo.y</th>\n",
       "      <th>spi1</th>\n",
       "      <th>stat1</th>\n",
       "      <th>stat3</th>\n",
       "      <th>tgfbr2.y</th>\n",
       "      <th>tnf.y</th>\n",
       "      <th>vegfa.y</th>\n",
       "      <th>vhl</th>\n",
       "    </tr>\n",
       "  </thead>\n",
       "  <tbody>\n",
       "    <tr>\n",
       "      <th>0</th>\n",
       "      <td>0</td>\n",
       "      <td>0</td>\n",
       "      <td>0</td>\n",
       "      <td>0</td>\n",
       "      <td>0</td>\n",
       "      <td>0</td>\n",
       "      <td>0</td>\n",
       "      <td>0</td>\n",
       "      <td>0</td>\n",
       "      <td>0</td>\n",
       "      <td>...</td>\n",
       "      <td>0</td>\n",
       "      <td>0</td>\n",
       "      <td>0</td>\n",
       "      <td>0</td>\n",
       "      <td>0</td>\n",
       "      <td>0</td>\n",
       "      <td>0</td>\n",
       "      <td>0</td>\n",
       "      <td>0</td>\n",
       "      <td>0</td>\n",
       "    </tr>\n",
       "    <tr>\n",
       "      <th>1</th>\n",
       "      <td>0</td>\n",
       "      <td>0</td>\n",
       "      <td>0</td>\n",
       "      <td>0</td>\n",
       "      <td>0</td>\n",
       "      <td>0</td>\n",
       "      <td>0</td>\n",
       "      <td>0</td>\n",
       "      <td>0</td>\n",
       "      <td>0</td>\n",
       "      <td>...</td>\n",
       "      <td>0</td>\n",
       "      <td>0</td>\n",
       "      <td>0</td>\n",
       "      <td>0</td>\n",
       "      <td>0</td>\n",
       "      <td>0</td>\n",
       "      <td>0</td>\n",
       "      <td>0</td>\n",
       "      <td>0</td>\n",
       "      <td>0</td>\n",
       "    </tr>\n",
       "    <tr>\n",
       "      <th>2</th>\n",
       "      <td>0</td>\n",
       "      <td>0</td>\n",
       "      <td>0</td>\n",
       "      <td>0</td>\n",
       "      <td>0</td>\n",
       "      <td>0</td>\n",
       "      <td>0</td>\n",
       "      <td>0</td>\n",
       "      <td>0</td>\n",
       "      <td>0</td>\n",
       "      <td>...</td>\n",
       "      <td>0</td>\n",
       "      <td>0</td>\n",
       "      <td>0</td>\n",
       "      <td>0</td>\n",
       "      <td>0</td>\n",
       "      <td>0</td>\n",
       "      <td>0</td>\n",
       "      <td>0</td>\n",
       "      <td>0</td>\n",
       "      <td>0</td>\n",
       "    </tr>\n",
       "  </tbody>\n",
       "</table>\n",
       "<p>3 rows × 62 columns</p>\n",
       "</div>"
      ],
      "text/plain": [
       "   tyms  yes1  app  ar.y  bax  bcl2.y  bmi1  brca2  cacna1c.y  ccnd1.y ...   \\\n",
       "0     0     0    0     0    0       0     0      0          0        0 ...    \n",
       "1     0     0    0     0    0       0     0      0          0        0 ...    \n",
       "2     0     0    0     0    0       0     0      0          0        0 ...    \n",
       "\n",
       "   slitrk1  smad4  smo.y  spi1  stat1  stat3  tgfbr2.y  tnf.y  vegfa.y  vhl  \n",
       "0        0      0      0     0      0      0         0      0        0    0  \n",
       "1        0      0      0     0      0      0         0      0        0    0  \n",
       "2        0      0      0     0      0      0         0      0        0    0  \n",
       "\n",
       "[3 rows x 62 columns]"
      ]
     },
     "execution_count": 10,
     "metadata": {},
     "output_type": "execute_result"
    }
   ],
   "source": [
    "# select only columns with genes as a feature for diseases information\n",
    "k = m + 62\n",
    "sharing_genes = train_data[col[m:k]]\n",
    "sharing_genes[:3]"
   ]
  },
  {
   "cell_type": "code",
   "execution_count": 11,
   "metadata": {
    "collapsed": false
   },
   "outputs": [
    {
     "data": {
      "text/html": [
       "<div>\n",
       "<table border=\"1\" class=\"dataframe\">\n",
       "  <thead>\n",
       "    <tr style=\"text-align: right;\">\n",
       "      <th></th>\n",
       "      <th>hsa-let-7a-1</th>\n",
       "      <th>hsa-let-7a-2</th>\n",
       "      <th>hsa-let-7a-3</th>\n",
       "      <th>hsa-let-7b</th>\n",
       "      <th>hsa-let-7c</th>\n",
       "      <th>hsa-let-7d</th>\n",
       "      <th>hsa-let-7e</th>\n",
       "      <th>hsa-let-7f-1</th>\n",
       "      <th>hsa-let-7f-2</th>\n",
       "      <th>hsa-let-7g</th>\n",
       "      <th>...</th>\n",
       "      <th>hsa-mir-630</th>\n",
       "      <th>hsa-mir-7-1</th>\n",
       "      <th>hsa-mir-7-2</th>\n",
       "      <th>hsa-mir-7-3</th>\n",
       "      <th>hsa-mir-765</th>\n",
       "      <th>hsa-mir-9-1</th>\n",
       "      <th>hsa-mir-9-2</th>\n",
       "      <th>hsa-mir-9-3</th>\n",
       "      <th>hsa-mir-92a-1</th>\n",
       "      <th>hsa-mir-96</th>\n",
       "    </tr>\n",
       "  </thead>\n",
       "  <tbody>\n",
       "    <tr>\n",
       "      <th>0</th>\n",
       "      <td>1</td>\n",
       "      <td>1</td>\n",
       "      <td>1</td>\n",
       "      <td>0</td>\n",
       "      <td>0</td>\n",
       "      <td>0</td>\n",
       "      <td>0</td>\n",
       "      <td>0</td>\n",
       "      <td>0</td>\n",
       "      <td>0</td>\n",
       "      <td>...</td>\n",
       "      <td>0</td>\n",
       "      <td>0</td>\n",
       "      <td>0</td>\n",
       "      <td>0</td>\n",
       "      <td>0</td>\n",
       "      <td>0</td>\n",
       "      <td>0</td>\n",
       "      <td>0</td>\n",
       "      <td>0</td>\n",
       "      <td>0</td>\n",
       "    </tr>\n",
       "    <tr>\n",
       "      <th>1</th>\n",
       "      <td>1</td>\n",
       "      <td>1</td>\n",
       "      <td>1</td>\n",
       "      <td>0</td>\n",
       "      <td>0</td>\n",
       "      <td>0</td>\n",
       "      <td>0</td>\n",
       "      <td>0</td>\n",
       "      <td>0</td>\n",
       "      <td>0</td>\n",
       "      <td>...</td>\n",
       "      <td>0</td>\n",
       "      <td>0</td>\n",
       "      <td>0</td>\n",
       "      <td>0</td>\n",
       "      <td>0</td>\n",
       "      <td>0</td>\n",
       "      <td>0</td>\n",
       "      <td>0</td>\n",
       "      <td>0</td>\n",
       "      <td>0</td>\n",
       "    </tr>\n",
       "    <tr>\n",
       "      <th>2</th>\n",
       "      <td>0</td>\n",
       "      <td>0</td>\n",
       "      <td>0</td>\n",
       "      <td>0</td>\n",
       "      <td>0</td>\n",
       "      <td>0</td>\n",
       "      <td>0</td>\n",
       "      <td>0</td>\n",
       "      <td>0</td>\n",
       "      <td>0</td>\n",
       "      <td>...</td>\n",
       "      <td>0</td>\n",
       "      <td>0</td>\n",
       "      <td>0</td>\n",
       "      <td>0</td>\n",
       "      <td>0</td>\n",
       "      <td>0</td>\n",
       "      <td>0</td>\n",
       "      <td>0</td>\n",
       "      <td>0</td>\n",
       "      <td>0</td>\n",
       "    </tr>\n",
       "  </tbody>\n",
       "</table>\n",
       "<p>3 rows × 136 columns</p>\n",
       "</div>"
      ],
      "text/plain": [
       "   hsa-let-7a-1  hsa-let-7a-2  hsa-let-7a-3  hsa-let-7b  hsa-let-7c  \\\n",
       "0             1             1             1           0           0   \n",
       "1             1             1             1           0           0   \n",
       "2             0             0             0           0           0   \n",
       "\n",
       "   hsa-let-7d  hsa-let-7e  hsa-let-7f-1  hsa-let-7f-2  hsa-let-7g     ...      \\\n",
       "0           0           0             0             0           0     ...       \n",
       "1           0           0             0             0           0     ...       \n",
       "2           0           0             0             0           0     ...       \n",
       "\n",
       "   hsa-mir-630  hsa-mir-7-1  hsa-mir-7-2  hsa-mir-7-3  hsa-mir-765  \\\n",
       "0            0            0            0            0            0   \n",
       "1            0            0            0            0            0   \n",
       "2            0            0            0            0            0   \n",
       "\n",
       "   hsa-mir-9-1  hsa-mir-9-2  hsa-mir-9-3  hsa-mir-92a-1  hsa-mir-96  \n",
       "0            0            0            0              0           0  \n",
       "1            0            0            0              0           0  \n",
       "2            0            0            0              0           0  \n",
       "\n",
       "[3 rows x 136 columns]"
      ]
     },
     "execution_count": 11,
     "metadata": {},
     "output_type": "execute_result"
    }
   ],
   "source": [
    "# select only columns with miRNAs information\n",
    "l = k + 136\n",
    "miRNAs = train_data[col[k:l]]\n",
    "miRNAs[:3]"
   ]
  },
  {
   "cell_type": "code",
   "execution_count": 12,
   "metadata": {
    "collapsed": false
   },
   "outputs": [
    {
     "data": {
      "text/html": [
       "<div>\n",
       "<table border=\"1\" class=\"dataframe\">\n",
       "  <thead>\n",
       "    <tr style=\"text-align: right;\">\n",
       "      <th></th>\n",
       "      <th>0</th>\n",
       "    </tr>\n",
       "  </thead>\n",
       "  <tbody>\n",
       "    <tr>\n",
       "      <th>chemical_str</th>\n",
       "      <td>0.319308</td>\n",
       "    </tr>\n",
       "    <tr>\n",
       "      <th>side_effect</th>\n",
       "      <td>0.139238</td>\n",
       "    </tr>\n",
       "    <tr>\n",
       "      <th>sharing_targets</th>\n",
       "      <td>0.030746</td>\n",
       "    </tr>\n",
       "    <tr>\n",
       "      <th>sharing_genes</th>\n",
       "      <td>0.021823</td>\n",
       "    </tr>\n",
       "    <tr>\n",
       "      <th>miRNAs</th>\n",
       "      <td>0.039346</td>\n",
       "    </tr>\n",
       "  </tbody>\n",
       "</table>\n",
       "</div>"
      ],
      "text/plain": [
       "                        0\n",
       "chemical_str     0.319308\n",
       "side_effect      0.139238\n",
       "sharing_targets  0.030746\n",
       "sharing_genes    0.021823\n",
       "miRNAs           0.039346"
      ]
     },
     "execution_count": 12,
     "metadata": {},
     "output_type": "execute_result"
    }
   ],
   "source": [
    "# calculate the mean value for each table with particular type of features\n",
    "mean_df = pd.DataFrame([chemical_str.unstack().mean(), side_effect.unstack().mean(), sharing_targets.unstack().mean(), \n",
    "          sharing_genes.unstack().mean(), miRNAs.unstack().mean()], index = ['chemical_str', 'side_effect', 'sharing_targets', \n",
    "                                                                            'sharing_genes', 'miRNAs'])\n",
    "mean_df"
   ]
  },
  {
   "cell_type": "code",
   "execution_count": 13,
   "metadata": {
    "collapsed": false,
    "scrolled": true
   },
   "outputs": [
    {
     "data": {
      "text/plain": [
       "<matplotlib.figure.Figure at 0x1812a5c0>"
      ]
     },
     "metadata": {},
     "output_type": "display_data"
    },
    {
     "data": {
      "image/png": "[encoded data removed]",
      "text/plain": [
       "<matplotlib.figure.Figure at 0x180f67b8>"
      ]
     },
     "metadata": {},
     "output_type": "display_data"
    }
   ],
   "source": [
    "# plot mean value per type\n",
    "plt.figure(figsize=(15,10))\n",
    "plt.figure()\n",
    "plt.title(\"Mean value per each type of features\", size = 20)\n",
    "plt.bar(range(5), mean_df.values, color=\"b\",align=\"center\")\n",
    "plt.xticks(range(5),  ['chemical_str', 'side_effect', 'sharing_targets', \n",
    "                        'sharing_genes', 'miRNAs'], rotation = 45, size = 15)\n",
    "plt.yticks(size = 15)\n",
    "plt.savefig('Mean_value_per_type_of_features.jpg', bbox_inches='tight')\n",
    "plt.show()"
   ]
  },
  {
   "cell_type": "markdown",
   "metadata": {},
   "source": [
    "### In this chart we can see the mean value per ech type of features in the general table"
   ]
  },
  {
   "cell_type": "code",
   "execution_count": 14,
   "metadata": {
    "collapsed": false
   },
   "outputs": [
    {
     "data": {
      "text/html": [
       "<div>\n",
       "<table border=\"1\" class=\"dataframe\">\n",
       "  <thead>\n",
       "    <tr style=\"text-align: right;\">\n",
       "      <th></th>\n",
       "      <th>0</th>\n",
       "    </tr>\n",
       "  </thead>\n",
       "  <tbody>\n",
       "    <tr>\n",
       "      <th>chemical_str</th>\n",
       "      <td>0.466209</td>\n",
       "    </tr>\n",
       "    <tr>\n",
       "      <th>side_effect</th>\n",
       "      <td>0.346195</td>\n",
       "    </tr>\n",
       "    <tr>\n",
       "      <th>sharing_targets</th>\n",
       "      <td>0.172631</td>\n",
       "    </tr>\n",
       "    <tr>\n",
       "      <th>sharing_genes</th>\n",
       "      <td>0.146105</td>\n",
       "    </tr>\n",
       "    <tr>\n",
       "      <th>miRNAs</th>\n",
       "      <td>0.194417</td>\n",
       "    </tr>\n",
       "  </tbody>\n",
       "</table>\n",
       "</div>"
      ],
      "text/plain": [
       "                        0\n",
       "chemical_str     0.466209\n",
       "side_effect      0.346195\n",
       "sharing_targets  0.172631\n",
       "sharing_genes    0.146105\n",
       "miRNAs           0.194417"
      ]
     },
     "execution_count": 14,
     "metadata": {},
     "output_type": "execute_result"
    }
   ],
   "source": [
    "# calculate the Standard Deviation value for each table with particular type of features\n",
    "std_df = pd.DataFrame([chemical_str.unstack().std(), side_effect.unstack().std(), sharing_targets.unstack().std(), \n",
    "          sharing_genes.unstack().std(), miRNAs.unstack().std()], index = ['chemical_str', 'side_effect', 'sharing_targets', \n",
    "                                                                            'sharing_genes', 'miRNAs'])\n",
    "std_df"
   ]
  },
  {
   "cell_type": "code",
   "execution_count": 15,
   "metadata": {
    "collapsed": false
   },
   "outputs": [
    {
     "data": {
      "text/plain": [
       "<matplotlib.figure.Figure at 0x181b06d8>"
      ]
     },
     "metadata": {},
     "output_type": "display_data"
    },
    {
     "data": {
      "image/png": "[encoded data removed]",
      "text/plain": [
       "<matplotlib.figure.Figure at 0x181b0ac8>"
      ]
     },
     "metadata": {},
     "output_type": "display_data"
    }
   ],
   "source": [
    "# plot the Standart Deviation for each type of features\n",
    "plt.figure(figsize=(15,10))\n",
    "plt.figure()\n",
    "plt.title(\"Standard Deviation per each type of features\", size = 15)\n",
    "plt.bar(range(5), std_df.values, color=\"g\",align=\"center\")\n",
    "plt.xticks(range(5),  ['chemical_str', 'side_effect', 'sharing_targets', \n",
    "                        'sharing_genes', 'miRNAs'], rotation = 45, size = 15)\n",
    "plt.yticks(size = 15)\n",
    "plt.savefig('SD_value_per_type_of_features.jpg', bbox_inches='tight')\n",
    "plt.show()"
   ]
  },
  {
   "cell_type": "markdown",
   "metadata": {},
   "source": [
    "### In this chart we can see the Standart Deviation value per ech type of features in the general table"
   ]
  },
  {
   "cell_type": "markdown",
   "metadata": {},
   "source": [
    "# Features dimensionality reduction (to 100 and to 20 features features)"
   ]
  },
  {
   "cell_type": "markdown",
   "metadata": {},
   "source": [
    "# 1. Features importance"
   ]
  },
  {
   "cell_type": "code",
   "execution_count": 16,
   "metadata": {
    "collapsed": false
   },
   "outputs": [
    {
     "data": {
      "text/plain": [
       "array([[1, 1, 0, ..., 0, 0, 0],\n",
       "       [1, 1, 0, ..., 0, 0, 0],\n",
       "       [1, 1, 0, ..., 0, 0, 0]], dtype=int64)"
      ]
     },
     "execution_count": 16,
     "metadata": {},
     "output_type": "execute_result"
    }
   ],
   "source": [
    "# build the table with only features\n",
    "X = train_data[col[1:(len(col)-1)]].values\n",
    "X[:3]"
   ]
  },
  {
   "cell_type": "code",
   "execution_count": 17,
   "metadata": {
    "collapsed": false
   },
   "outputs": [
    {
     "data": {
      "text/plain": [
       "array([1, 1, 1], dtype=int64)"
      ]
     },
     "execution_count": 17,
     "metadata": {},
     "output_type": "execute_result"
    }
   ],
   "source": [
    "# get the target\n",
    "y = train_data[col[len(col)-1]].values\n",
    "y[:3]"
   ]
  },
  {
   "cell_type": "code",
   "execution_count": 18,
   "metadata": {
    "collapsed": false
   },
   "outputs": [
    {
     "name": "stdout",
     "output_type": "stream",
     "text": [
      "Feature ranking:\n",
      "1. feature  1620 (0.022669) hsa-mir-34b\n",
      "2. feature  1457 (0.020868) ccnd1.y\n",
      "3. feature  1490 (0.018952) myc\n",
      "4. feature  1619 (0.016706) hsa-mir-34a\n",
      "5. feature  1532 (0.016097) hsa-mir-125b-2\n",
      "6. feature  1531 (0.016060) hsa-mir-125b-1\n",
      "7. feature  1498 (0.015942) rb1.y\n",
      "8. feature  1563 (0.015272) hsa-mir-16-1\n",
      "9. feature  1614 (0.014700) hsa-mir-331\n",
      "10. feature  1453 (0.014367) bcl2.y\n",
      "11. feature  1605 (0.013313) hsa-mir-27a\n",
      "12. feature  1513 (0.012836) hsa-let-7b\n",
      "13. feature  1497 (0.012436) ptgs2.y\n",
      "14. feature  1469 (0.012238) erbb2.y\n",
      "15. feature  1511 (0.011164) hsa-let-7a-2\n",
      "16. feature  1575 (0.010545) hsa-mir-195\n",
      "17. feature  1561 (0.010484) hsa-mir-15a\n",
      "18. feature  1621 (0.010422) hsa-mir-34c\n",
      "19. feature  1510 (0.010212) hsa-let-7a-1\n",
      "20. feature  1565 (0.010194) hsa-mir-17\n"
     ]
    }
   ],
   "source": [
    "# get features names\n",
    "col_f = col[1:len(col)-1]\n",
    "\n",
    "# Build a forest and compute the feature importances\n",
    "forest = ExtraTreesClassifier(n_estimators=250,\n",
    "                              random_state=0)\n",
    "\n",
    "forest.fit(X, y)\n",
    "importances = forest.feature_importances_\n",
    "std = np.std([tree.feature_importances_ for tree in forest.estimators_],\n",
    "             axis=0)\n",
    "indices = np.argsort(importances)[::-1]\n",
    "\n",
    "# print the feature ranking for 10 most important features\n",
    "print(\"Feature ranking:\")\n",
    "\n",
    "for f in range(20):\n",
    "    print(\"%d. feature  %d (%f) %s\" % (f + 1, indices[f], importances[indices[f]], col_f[indices[f]]))"
   ]
  },
  {
   "cell_type": "code",
   "execution_count": 19,
   "metadata": {
    "collapsed": false
   },
   "outputs": [
    {
     "data": {
      "text/plain": [
       "<matplotlib.figure.Figure at 0x1a106a58>"
      ]
     },
     "metadata": {},
     "output_type": "display_data"
    },
    {
     "data": {
      "image/png": "[encoded data removed]",
      "text/plain": [
       "<matplotlib.figure.Figure at 0x1a106a20>"
      ]
     },
     "metadata": {},
     "output_type": "display_data"
    }
   ],
   "source": [
    "# Plot the feature importances of the forest\n",
    "\n",
    "plt.figure()\n",
    "plt.figure(figsize=(15,5))\n",
    "plt.title(\"Feature importances\", size = 20)\n",
    "plt.bar(range(20), importances[indices[:20]], color=\"r\", yerr=std[indices[:20]])\n",
    "plt.xticks(range(20),  col_f[indices[:20]], rotation = 75, size = 15)\n",
    "plt.yticks(size = 15)\n",
    "plt.savefig('Features importances.jpg', bbox_inches='tight')\n",
    "plt.show()"
   ]
  },
  {
   "cell_type": "markdown",
   "metadata": {},
   "source": [
    "### In this chart we can see the weights of the 20 most important features for class prediction. The feature hsa-mir-34b has the biggest weight for prediction."
   ]
  },
  {
   "cell_type": "markdown",
   "metadata": {},
   "source": [
    "# Reduction to 100 features"
   ]
  },
  {
   "cell_type": "code",
   "execution_count": 20,
   "metadata": {
    "collapsed": false
   },
   "outputs": [
    {
     "data": {
      "text/plain": [
       "[u'hsa-mir-34b', u'ccnd1.y', u'myc']"
      ]
     },
     "execution_count": 20,
     "metadata": {},
     "output_type": "execute_result"
    }
   ],
   "source": [
    "# select only 100 important features from raw dataset\n",
    "indices_100 = indices[:100]\n",
    "col_important = []\n",
    "\n",
    "for index in indices_100:\n",
    "    col_important.append(col_f[index])\n",
    "    \n",
    "col_important[:3]"
   ]
  },
  {
   "cell_type": "code",
   "execution_count": 21,
   "metadata": {
    "collapsed": false
   },
   "outputs": [
    {
     "data": {
      "text/plain": [
       "array([[1, 0, 1, 0, 0, 0, 0, 0, 0, 0, 0, 0, 0, 0, 1, 0, 0, 1, 1, 0, 1, 0,\n",
       "        0, 1, 0, 0, 0, 0, 0, 0, 0, 0, 0, 0, 1, 0, 0, 1, 1, 0, 0, 0, 0, 0,\n",
       "        0, 0, 0, 0, 0, 0, 0, 0, 0, 0, 0, 0, 0, 0, 0, 0, 0, 0, 0, 0, 0, 0,\n",
       "        0, 0, 0, 0, 0, 0, 0, 0, 0, 0, 0, 0, 0, 0, 0, 0, 0, 0, 0, 0, 0, 0,\n",
       "        0, 0, 0, 0, 0, 0, 0, 0, 0, 0, 0, 0],\n",
       "       [1, 0, 1, 0, 0, 0, 0, 0, 0, 0, 0, 0, 0, 0, 1, 0, 0, 1, 1, 0, 1, 0,\n",
       "        0, 1, 0, 0, 0, 0, 0, 0, 0, 0, 0, 0, 1, 0, 0, 1, 1, 0, 0, 0, 0, 0,\n",
       "        0, 0, 0, 0, 0, 0, 0, 0, 0, 0, 0, 0, 0, 0, 0, 0, 0, 0, 0, 0, 0, 0,\n",
       "        0, 0, 0, 0, 0, 0, 0, 0, 0, 0, 0, 0, 0, 0, 0, 0, 0, 0, 0, 0, 0, 0,\n",
       "        0, 0, 0, 0, 0, 0, 0, 0, 0, 0, 0, 0],\n",
       "       [0, 0, 1, 1, 0, 0, 0, 0, 0, 0, 0, 0, 0, 0, 0, 0, 0, 0, 0, 0, 0, 0,\n",
       "        0, 0, 0, 0, 0, 0, 0, 0, 0, 0, 0, 0, 0, 0, 0, 0, 0, 0, 0, 0, 0, 0,\n",
       "        0, 0, 0, 0, 0, 0, 0, 0, 0, 0, 0, 0, 0, 0, 0, 0, 0, 0, 0, 0, 0, 0,\n",
       "        0, 0, 0, 0, 0, 0, 0, 0, 0, 0, 0, 0, 0, 0, 0, 0, 0, 0, 0, 0, 0, 0,\n",
       "        0, 0, 0, 0, 0, 0, 0, 0, 0, 0, 0, 0]], dtype=int64)"
      ]
     },
     "execution_count": 21,
     "metadata": {},
     "output_type": "execute_result"
    }
   ],
   "source": [
    "# save important features to matrix for prediction\n",
    "X_FI_100 = train_data[col_important].values\n",
    "X_FI_100[:3]"
   ]
  },
  {
   "cell_type": "code",
   "execution_count": 22,
   "metadata": {
    "collapsed": false
   },
   "outputs": [
    {
     "data": {
      "text/html": [
       "<div>\n",
       "<table border=\"1\" class=\"dataframe\">\n",
       "  <thead>\n",
       "    <tr style=\"text-align: right;\">\n",
       "      <th></th>\n",
       "      <th>Disease-Drug</th>\n",
       "      <th>hsa-mir-34b</th>\n",
       "      <th>ccnd1.y</th>\n",
       "      <th>myc</th>\n",
       "      <th>hsa-mir-34a</th>\n",
       "      <th>hsa-mir-125b-2</th>\n",
       "      <th>hsa-mir-125b-1</th>\n",
       "      <th>rb1.y</th>\n",
       "      <th>hsa-mir-16-1</th>\n",
       "      <th>hsa-mir-331</th>\n",
       "      <th>...</th>\n",
       "      <th>hsa-mir-153-2</th>\n",
       "      <th>hsa-mir-144</th>\n",
       "      <th>hsa-mir-20a</th>\n",
       "      <th>tnf.y</th>\n",
       "      <th>hsa-mir-26a-1</th>\n",
       "      <th>hsa-mir-21</th>\n",
       "      <th>hsa-mir-338</th>\n",
       "      <th>hypertrichosis</th>\n",
       "      <th>met.y</th>\n",
       "      <th>Class</th>\n",
       "    </tr>\n",
       "  </thead>\n",
       "  <tbody>\n",
       "    <tr>\n",
       "      <th>0</th>\n",
       "      <td>acute lymphoblastic leukemia (all) (precursor ...</td>\n",
       "      <td>1</td>\n",
       "      <td>0</td>\n",
       "      <td>1</td>\n",
       "      <td>0</td>\n",
       "      <td>0</td>\n",
       "      <td>0</td>\n",
       "      <td>0</td>\n",
       "      <td>0</td>\n",
       "      <td>0</td>\n",
       "      <td>...</td>\n",
       "      <td>0</td>\n",
       "      <td>0</td>\n",
       "      <td>0</td>\n",
       "      <td>0</td>\n",
       "      <td>0</td>\n",
       "      <td>0</td>\n",
       "      <td>0</td>\n",
       "      <td>0</td>\n",
       "      <td>0</td>\n",
       "      <td>1</td>\n",
       "    </tr>\n",
       "    <tr>\n",
       "      <th>1</th>\n",
       "      <td>acute lymphoblastic leukemia (all) (precursor ...</td>\n",
       "      <td>1</td>\n",
       "      <td>0</td>\n",
       "      <td>1</td>\n",
       "      <td>0</td>\n",
       "      <td>0</td>\n",
       "      <td>0</td>\n",
       "      <td>0</td>\n",
       "      <td>0</td>\n",
       "      <td>0</td>\n",
       "      <td>...</td>\n",
       "      <td>0</td>\n",
       "      <td>0</td>\n",
       "      <td>0</td>\n",
       "      <td>0</td>\n",
       "      <td>0</td>\n",
       "      <td>0</td>\n",
       "      <td>0</td>\n",
       "      <td>0</td>\n",
       "      <td>0</td>\n",
       "      <td>1</td>\n",
       "    </tr>\n",
       "    <tr>\n",
       "      <th>2</th>\n",
       "      <td>acute lymphoblastic leukemia (all) (precursor ...</td>\n",
       "      <td>0</td>\n",
       "      <td>0</td>\n",
       "      <td>1</td>\n",
       "      <td>1</td>\n",
       "      <td>0</td>\n",
       "      <td>0</td>\n",
       "      <td>0</td>\n",
       "      <td>0</td>\n",
       "      <td>0</td>\n",
       "      <td>...</td>\n",
       "      <td>0</td>\n",
       "      <td>0</td>\n",
       "      <td>0</td>\n",
       "      <td>0</td>\n",
       "      <td>0</td>\n",
       "      <td>0</td>\n",
       "      <td>0</td>\n",
       "      <td>0</td>\n",
       "      <td>0</td>\n",
       "      <td>1</td>\n",
       "    </tr>\n",
       "  </tbody>\n",
       "</table>\n",
       "<p>3 rows × 102 columns</p>\n",
       "</div>"
      ],
      "text/plain": [
       "                                        Disease-Drug  hsa-mir-34b  ccnd1.y  \\\n",
       "0  acute lymphoblastic leukemia (all) (precursor ...            1        0   \n",
       "1  acute lymphoblastic leukemia (all) (precursor ...            1        0   \n",
       "2  acute lymphoblastic leukemia (all) (precursor ...            0        0   \n",
       "\n",
       "   myc  hsa-mir-34a  hsa-mir-125b-2  hsa-mir-125b-1  rb1.y  hsa-mir-16-1  \\\n",
       "0    1            0               0               0      0             0   \n",
       "1    1            0               0               0      0             0   \n",
       "2    1            1               0               0      0             0   \n",
       "\n",
       "   hsa-mir-331  ...    hsa-mir-153-2  hsa-mir-144  hsa-mir-20a  tnf.y  \\\n",
       "0            0  ...                0            0            0      0   \n",
       "1            0  ...                0            0            0      0   \n",
       "2            0  ...                0            0            0      0   \n",
       "\n",
       "   hsa-mir-26a-1  hsa-mir-21  hsa-mir-338  hypertrichosis  met.y  Class  \n",
       "0              0           0            0               0      0      1  \n",
       "1              0           0            0               0      0      1  \n",
       "2              0           0            0               0      0      1  \n",
       "\n",
       "[3 rows x 102 columns]"
      ]
     },
     "execution_count": 22,
     "metadata": {},
     "output_type": "execute_result"
    }
   ],
   "source": [
    "df_FI_100 = train_data[['Disease-Drug'] + col_important + ['Class']]\n",
    "df_FI_100.to_csv('Train_data_from_Features_Importances100.csv', index = False)\n",
    "df_FI_100[:3]"
   ]
  },
  {
   "cell_type": "markdown",
   "metadata": {},
   "source": [
    "# Reduction to 20 features"
   ]
  },
  {
   "cell_type": "code",
   "execution_count": 23,
   "metadata": {
    "collapsed": false
   },
   "outputs": [
    {
     "data": {
      "text/html": [
       "<div>\n",
       "<table border=\"1\" class=\"dataframe\">\n",
       "  <thead>\n",
       "    <tr style=\"text-align: right;\">\n",
       "      <th></th>\n",
       "      <th>Disease-Drug</th>\n",
       "      <th>hsa-mir-34b</th>\n",
       "      <th>ccnd1.y</th>\n",
       "      <th>myc</th>\n",
       "      <th>hsa-mir-34a</th>\n",
       "      <th>hsa-mir-125b-2</th>\n",
       "      <th>hsa-mir-125b-1</th>\n",
       "      <th>rb1.y</th>\n",
       "      <th>hsa-mir-16-1</th>\n",
       "      <th>hsa-mir-331</th>\n",
       "      <th>...</th>\n",
       "      <th>hsa-let-7b</th>\n",
       "      <th>ptgs2.y</th>\n",
       "      <th>erbb2.y</th>\n",
       "      <th>hsa-let-7a-2</th>\n",
       "      <th>hsa-mir-195</th>\n",
       "      <th>hsa-mir-15a</th>\n",
       "      <th>hsa-mir-34c</th>\n",
       "      <th>hsa-let-7a-1</th>\n",
       "      <th>hsa-mir-17</th>\n",
       "      <th>Class</th>\n",
       "    </tr>\n",
       "  </thead>\n",
       "  <tbody>\n",
       "    <tr>\n",
       "      <th>0</th>\n",
       "      <td>acute lymphoblastic leukemia (all) (precursor ...</td>\n",
       "      <td>1</td>\n",
       "      <td>0</td>\n",
       "      <td>1</td>\n",
       "      <td>0</td>\n",
       "      <td>0</td>\n",
       "      <td>0</td>\n",
       "      <td>0</td>\n",
       "      <td>0</td>\n",
       "      <td>0</td>\n",
       "      <td>...</td>\n",
       "      <td>0</td>\n",
       "      <td>0</td>\n",
       "      <td>0</td>\n",
       "      <td>1</td>\n",
       "      <td>0</td>\n",
       "      <td>0</td>\n",
       "      <td>1</td>\n",
       "      <td>1</td>\n",
       "      <td>0</td>\n",
       "      <td>1</td>\n",
       "    </tr>\n",
       "    <tr>\n",
       "      <th>1</th>\n",
       "      <td>acute lymphoblastic leukemia (all) (precursor ...</td>\n",
       "      <td>1</td>\n",
       "      <td>0</td>\n",
       "      <td>1</td>\n",
       "      <td>0</td>\n",
       "      <td>0</td>\n",
       "      <td>0</td>\n",
       "      <td>0</td>\n",
       "      <td>0</td>\n",
       "      <td>0</td>\n",
       "      <td>...</td>\n",
       "      <td>0</td>\n",
       "      <td>0</td>\n",
       "      <td>0</td>\n",
       "      <td>1</td>\n",
       "      <td>0</td>\n",
       "      <td>0</td>\n",
       "      <td>1</td>\n",
       "      <td>1</td>\n",
       "      <td>0</td>\n",
       "      <td>1</td>\n",
       "    </tr>\n",
       "    <tr>\n",
       "      <th>2</th>\n",
       "      <td>acute lymphoblastic leukemia (all) (precursor ...</td>\n",
       "      <td>0</td>\n",
       "      <td>0</td>\n",
       "      <td>1</td>\n",
       "      <td>1</td>\n",
       "      <td>0</td>\n",
       "      <td>0</td>\n",
       "      <td>0</td>\n",
       "      <td>0</td>\n",
       "      <td>0</td>\n",
       "      <td>...</td>\n",
       "      <td>0</td>\n",
       "      <td>0</td>\n",
       "      <td>0</td>\n",
       "      <td>0</td>\n",
       "      <td>0</td>\n",
       "      <td>0</td>\n",
       "      <td>0</td>\n",
       "      <td>0</td>\n",
       "      <td>0</td>\n",
       "      <td>1</td>\n",
       "    </tr>\n",
       "  </tbody>\n",
       "</table>\n",
       "<p>3 rows × 22 columns</p>\n",
       "</div>"
      ],
      "text/plain": [
       "                                        Disease-Drug  hsa-mir-34b  ccnd1.y  \\\n",
       "0  acute lymphoblastic leukemia (all) (precursor ...            1        0   \n",
       "1  acute lymphoblastic leukemia (all) (precursor ...            1        0   \n",
       "2  acute lymphoblastic leukemia (all) (precursor ...            0        0   \n",
       "\n",
       "   myc  hsa-mir-34a  hsa-mir-125b-2  hsa-mir-125b-1  rb1.y  hsa-mir-16-1  \\\n",
       "0    1            0               0               0      0             0   \n",
       "1    1            0               0               0      0             0   \n",
       "2    1            1               0               0      0             0   \n",
       "\n",
       "   hsa-mir-331  ...    hsa-let-7b  ptgs2.y  erbb2.y  hsa-let-7a-2  \\\n",
       "0            0  ...             0        0        0             1   \n",
       "1            0  ...             0        0        0             1   \n",
       "2            0  ...             0        0        0             0   \n",
       "\n",
       "   hsa-mir-195  hsa-mir-15a  hsa-mir-34c  hsa-let-7a-1  hsa-mir-17  Class  \n",
       "0            0            0            1             1           0      1  \n",
       "1            0            0            1             1           0      1  \n",
       "2            0            0            0             0           0      1  \n",
       "\n",
       "[3 rows x 22 columns]"
      ]
     },
     "execution_count": 23,
     "metadata": {},
     "output_type": "execute_result"
    }
   ],
   "source": [
    "# select only 20 important features from raw dataset\n",
    "indices_20 = indices[:20]\n",
    "col_important20 = []\n",
    "\n",
    "for index in indices_20:\n",
    "    col_important20.append(col_f[index])\n",
    "    \n",
    "# save important features to matrix for prediction\n",
    "X_FI_20 = train_data[col_important20].values\n",
    "\n",
    "\n",
    "df_FI_20 = train_data[['Disease-Drug'] + col_important20 + ['Class']]\n",
    "df_FI_20.to_csv('Train_data_from_Features_Importances20.csv', index = False)\n",
    "df_FI_20[:3]"
   ]
  },
  {
   "cell_type": "markdown",
   "metadata": {},
   "source": [
    "## Calculate the percent of features of each type in the table with the  100 most important features"
   ]
  },
  {
   "cell_type": "code",
   "execution_count": 24,
   "metadata": {
    "collapsed": false
   },
   "outputs": [
    {
     "data": {
      "text/plain": [
       "{'chemical_str': [],\n",
       " 'miRNAs': [],\n",
       " 'sharing_genes': [],\n",
       " 'sharing_targets': [],\n",
       " 'side_effect': []}"
      ]
     },
     "execution_count": 24,
     "metadata": {},
     "output_type": "execute_result"
    }
   ],
   "source": [
    "# create empty dictionary\n",
    "types_dic = dict()\n",
    "for name in ['chemical_str', 'side_effect', 'sharing_targets', 'sharing_genes', 'miRNAs']:\n",
    "    types_dic[name] = []\n",
    "types_dic"
   ]
  },
  {
   "cell_type": "code",
   "execution_count": 25,
   "metadata": {
    "collapsed": false
   },
   "outputs": [],
   "source": [
    "# save impoartant feature in its type\n",
    "for i in xrange(len(col_important)):\n",
    "    if col_important[i] in chemical_str.columns:\n",
    "        types_dic['chemical_str'] = types_dic['chemical_str'] + [col_important[i]]\n",
    "    elif col_important[i] in side_effect.columns:\n",
    "        types_dic['side_effect'] = types_dic['side_effect'] + [col_important[i]]\n",
    "    elif col_important[i] in sharing_targets.columns:\n",
    "        types_dic['sharing_targets'] = types_dic['sharing_targets'] + [col_important[i]]\n",
    "    elif col_important[i] in sharing_genes.columns:\n",
    "        types_dic['sharing_genes'] = types_dic['sharing_genes'] + [col_important[i]]\n",
    "    elif col_important[i] in miRNAs.columns:\n",
    "        types_dic['miRNAs'] = types_dic['miRNAs'] + [col_important[i]]    \n"
   ]
  },
  {
   "cell_type": "code",
   "execution_count": 26,
   "metadata": {
    "collapsed": false
   },
   "outputs": [
    {
     "data": {
      "text/plain": [
       "{'chemical_str': 0,\n",
       " 'miRNAs': 74,\n",
       " 'sharing_genes': 25,\n",
       " 'sharing_targets': 0,\n",
       " 'side_effect': 1}"
      ]
     },
     "execution_count": 26,
     "metadata": {},
     "output_type": "execute_result"
    }
   ],
   "source": [
    "# percent calculate\n",
    "percent = dict()\n",
    "for name in ['chemical_str', 'side_effect', 'sharing_targets', 'sharing_genes', 'miRNAs']:\n",
    "    percent[name] = len(types_dic[name])\n",
    "percent"
   ]
  },
  {
   "cell_type": "code",
   "execution_count": 27,
   "metadata": {
    "collapsed": false
   },
   "outputs": [
    {
     "data": {
      "text/plain": [
       "<matplotlib.figure.Figure at 0x1a290a58>"
      ]
     },
     "metadata": {},
     "output_type": "display_data"
    },
    {
     "data": {
      "image/png": "[encoded data removed]",
      "text/plain": [
       "<matplotlib.figure.Figure at 0x1a290e48>"
      ]
     },
     "metadata": {},
     "output_type": "display_data"
    }
   ],
   "source": [
    "# plot percents of each type\n",
    "plt.figure()\n",
    "plt.figure(figsize=(10,5))\n",
    "plt.title(\"Percent of features from each type in most 100 important features set\", size = 15)\n",
    "plt.bar(range(5), percent.values(), color=\"y\",align=\"center\")\n",
    "plt.xticks(range(5),  ['chemical_str', 'side_effect', 'sharing_targets', \n",
    "                        'sharing_genes', 'miRNAs'], rotation = 45, size = 15)\n",
    "plt.yticks(size = 15)\n",
    "plt.savefig('Features_importances_percent_of_features_100.jpg', bbox_inches='tight')\n",
    "plt.show()\n",
    "\n"
   ]
  },
  {
   "cell_type": "markdown",
   "metadata": {},
   "source": [
    "### We have shown the percent of important features according to each type of features. We can see that the biggest number of important features is from miRNA (sharing between diseases) type. Also , types chemical structure and sharing genes do  not have inportant features."
   ]
  },
  {
   "cell_type": "markdown",
   "metadata": {},
   "source": [
    "# Calculate the percent of features of each type in the table with the  20 most important features"
   ]
  },
  {
   "cell_type": "code",
   "execution_count": 28,
   "metadata": {
    "collapsed": false
   },
   "outputs": [
    {
     "data": {
      "text/plain": [
       "{'chemical_str': 0,\n",
       " 'miRNAs': 14,\n",
       " 'sharing_genes': 6,\n",
       " 'sharing_targets': 0,\n",
       " 'side_effect': 0}"
      ]
     },
     "execution_count": 28,
     "metadata": {},
     "output_type": "execute_result"
    }
   ],
   "source": [
    "# create empty dictionary\n",
    "types_dic = dict()\n",
    "for name in ['chemical_str', 'side_effect', 'sharing_targets', 'sharing_genes', 'miRNAs']:\n",
    "    types_dic[name] = []\n",
    "\n",
    "\n",
    "# save impoartant feature in its type\n",
    "for i in xrange(len(col_important20)):\n",
    "    if col_important20[i] in chemical_str.columns:\n",
    "        types_dic['chemical_str'] = types_dic['chemical_str'] + [col_important20[i]]\n",
    "    elif col_important[i] in side_effect.columns:\n",
    "        types_dic['side_effect'] = types_dic['side_effect'] + [col_important20[i]]\n",
    "    elif col_important20[i] in sharing_targets.columns:\n",
    "        types_dic['sharing_targets'] = types_dic['sharing_targets'] + [col_important20[i]]\n",
    "    elif col_important20[i] in sharing_genes.columns:\n",
    "        types_dic['sharing_genes'] = types_dic['sharing_genes'] + [col_important20[i]]\n",
    "    elif col_important20[i] in miRNAs.columns:\n",
    "        types_dic['miRNAs'] = types_dic['miRNAs'] + [col_important20[i]]    \n",
    "\n",
    "        \n",
    "# percent calculate\n",
    "percent = dict()\n",
    "for name in ['chemical_str', 'side_effect', 'sharing_targets', 'sharing_genes', 'miRNAs']:\n",
    "    percent[name] = len(types_dic[name])\n",
    "percent"
   ]
  },
  {
   "cell_type": "code",
   "execution_count": 29,
   "metadata": {
    "collapsed": false
   },
   "outputs": [
    {
     "data": {
      "text/plain": [
       "<matplotlib.figure.Figure at 0x1a290a58>"
      ]
     },
     "metadata": {},
     "output_type": "display_data"
    },
    {
     "data": {
      "image/png": "[encoded data removed]",
      "text/plain": [
       "<matplotlib.figure.Figure at 0x1a2909e8>"
      ]
     },
     "metadata": {},
     "output_type": "display_data"
    }
   ],
   "source": [
    "# plot percents of each type\n",
    "plt.figure()\n",
    "plt.figure(figsize=(10,5))\n",
    "plt.title(\"Percent of features from each type in most 20 important features set\", size = 15)\n",
    "plt.bar(range(5), percent.values(), color=\"b\",align=\"center\")\n",
    "plt.xticks(range(5),  ['chemical_str', 'side_effect', 'sharing_targets', \n",
    "                        'sharing_genes', 'miRNAs'], rotation = 45, size = 15)\n",
    "plt.yticks(size = 15)\n",
    "plt.savefig('Features_importances_percent_of_features_20.jpg', bbox_inches='tight')\n",
    "plt.show()"
   ]
  },
  {
   "cell_type": "markdown",
   "metadata": {},
   "source": [
    "### We have shown the percent of important features according to each type of features. We can see that the biggest number of important features is from miRNA (sharing between diseases) type. Also , types chemical structure. side effect and sharing genes do  not have members between 20 the most  important features."
   ]
  },
  {
   "cell_type": "markdown",
   "metadata": {},
   "source": [
    "# 2. Recursive Feature Elimination"
   ]
  },
  {
   "cell_type": "markdown",
   "metadata": {},
   "source": [
    "# 100 features"
   ]
  },
  {
   "cell_type": "code",
   "execution_count": 30,
   "metadata": {
    "collapsed": false
   },
   "outputs": [
    {
     "name": "stdout",
     "output_type": "stream",
     "text": [
      "[False False False ..., False False False]\n",
      "[ 242  240 1352 ...,  101 1533  877]\n"
     ]
    }
   ],
   "source": [
    "# create a base classifier used to evaluate a subset of attributes\n",
    "model = LogisticRegression()\n",
    "\n",
    "# create the RFE model and select 100 attributes\n",
    "rfe = RFE(model, 100)\n",
    "rfe = rfe.fit(X, y)\n",
    "rank = rfe.ranking_\n",
    "# summarize the selection of the attributes\n",
    "print(rfe.support_)\n",
    "print(rfe.ranking_)"
   ]
  },
  {
   "cell_type": "code",
   "execution_count": 31,
   "metadata": {
    "collapsed": false
   },
   "outputs": [
    {
     "data": {
      "text/plain": [
       "[u'sub200', u'sub422', u'sub439']"
      ]
     },
     "execution_count": 31,
     "metadata": {},
     "output_type": "execute_result"
    }
   ],
   "source": [
    "FT = rfe.support_\n",
    "col_important100 = []\n",
    "\n",
    "for i in xrange(len(FT)):\n",
    "    if FT[i] == True:\n",
    "        col_important100.append(col_f[i])\n",
    "    \n",
    "col_important100[:3]"
   ]
  },
  {
   "cell_type": "code",
   "execution_count": 32,
   "metadata": {
    "collapsed": false
   },
   "outputs": [
    {
     "data": {
      "text/plain": [
       "100"
      ]
     },
     "execution_count": 32,
     "metadata": {},
     "output_type": "execute_result"
    }
   ],
   "source": [
    "len(col_important100)"
   ]
  },
  {
   "cell_type": "code",
   "execution_count": 33,
   "metadata": {
    "collapsed": false
   },
   "outputs": [
    {
     "data": {
      "text/plain": [
       "array([[0, 0, 1, 1, 0, 0, 1, 0, 0, 0, 1, 1, 0, 1, 1, 0, 0, 0, 0, 0, 1, 0,\n",
       "        0, 0, 1, 0, 0, 0, 0, 0, 0, 0, 0, 0, 0, 0, 0, 0, 0, 0, 0, 0, 0, 0,\n",
       "        0, 0, 0, 0, 0, 0, 1, 0, 0, 0, 0, 0, 0, 0, 1, 1, 0, 0, 0, 0, 0, 0,\n",
       "        0, 0, 0, 0, 0, 0, 0, 0, 0, 0, 0, 0, 0, 1, 0, 0, 0, 0, 0, 0, 0, 0,\n",
       "        0, 0, 0, 0, 0, 1, 1, 0, 0, 0, 0, 0],\n",
       "       [0, 0, 0, 0, 0, 0, 0, 0, 1, 0, 0, 0, 0, 0, 0, 0, 0, 0, 0, 0, 0, 0,\n",
       "        0, 0, 0, 0, 0, 0, 0, 0, 0, 0, 0, 0, 0, 0, 0, 0, 0, 0, 0, 0, 0, 0,\n",
       "        0, 0, 0, 0, 0, 0, 1, 0, 0, 0, 0, 0, 0, 0, 1, 1, 0, 0, 0, 0, 0, 0,\n",
       "        0, 0, 0, 0, 0, 0, 0, 0, 0, 0, 0, 0, 0, 1, 0, 0, 0, 0, 0, 0, 0, 0,\n",
       "        0, 0, 0, 0, 0, 1, 1, 0, 0, 0, 0, 0],\n",
       "       [1, 0, 0, 1, 0, 0, 1, 0, 0, 0, 1, 1, 0, 0, 1, 1, 1, 0, 0, 1, 1, 1,\n",
       "        0, 0, 1, 0, 0, 0, 0, 0, 0, 0, 0, 0, 0, 0, 0, 0, 0, 0, 0, 0, 0, 0,\n",
       "        0, 0, 0, 0, 0, 0, 1, 1, 0, 0, 0, 0, 0, 0, 0, 0, 0, 0, 0, 0, 0, 0,\n",
       "        0, 0, 0, 0, 0, 0, 0, 0, 0, 0, 0, 0, 0, 0, 0, 0, 0, 0, 0, 0, 0, 0,\n",
       "        0, 0, 0, 0, 0, 0, 0, 0, 0, 0, 0, 0]], dtype=int64)"
      ]
     },
     "execution_count": 33,
     "metadata": {},
     "output_type": "execute_result"
    }
   ],
   "source": [
    "X_FE_100 = train_data[col_important100].values\n",
    "X_FE_100[:3]"
   ]
  },
  {
   "cell_type": "code",
   "execution_count": 34,
   "metadata": {
    "collapsed": false
   },
   "outputs": [
    {
     "data": {
      "text/html": [
       "<div>\n",
       "<table border=\"1\" class=\"dataframe\">\n",
       "  <thead>\n",
       "    <tr style=\"text-align: right;\">\n",
       "      <th></th>\n",
       "      <th>Disease-Drug</th>\n",
       "      <th>sub200</th>\n",
       "      <th>sub422</th>\n",
       "      <th>sub439</th>\n",
       "      <th>sub440</th>\n",
       "      <th>sub455</th>\n",
       "      <th>sub515</th>\n",
       "      <th>sub547</th>\n",
       "      <th>sub559</th>\n",
       "      <th>sub572</th>\n",
       "      <th>...</th>\n",
       "      <th>hsa-mir-29b-2</th>\n",
       "      <th>hsa-mir-335</th>\n",
       "      <th>hsa-mir-34b</th>\n",
       "      <th>hsa-mir-34c</th>\n",
       "      <th>hsa-mir-429</th>\n",
       "      <th>hsa-mir-491</th>\n",
       "      <th>hsa-mir-513a-1</th>\n",
       "      <th>hsa-mir-513a-2</th>\n",
       "      <th>hsa-mir-590</th>\n",
       "      <th>Class</th>\n",
       "    </tr>\n",
       "  </thead>\n",
       "  <tbody>\n",
       "    <tr>\n",
       "      <th>0</th>\n",
       "      <td>acute lymphoblastic leukemia (all) (precursor ...</td>\n",
       "      <td>0</td>\n",
       "      <td>0</td>\n",
       "      <td>1</td>\n",
       "      <td>1</td>\n",
       "      <td>0</td>\n",
       "      <td>0</td>\n",
       "      <td>1</td>\n",
       "      <td>0</td>\n",
       "      <td>0</td>\n",
       "      <td>...</td>\n",
       "      <td>0</td>\n",
       "      <td>0</td>\n",
       "      <td>1</td>\n",
       "      <td>1</td>\n",
       "      <td>0</td>\n",
       "      <td>0</td>\n",
       "      <td>0</td>\n",
       "      <td>0</td>\n",
       "      <td>0</td>\n",
       "      <td>1</td>\n",
       "    </tr>\n",
       "    <tr>\n",
       "      <th>1</th>\n",
       "      <td>acute lymphoblastic leukemia (all) (precursor ...</td>\n",
       "      <td>0</td>\n",
       "      <td>0</td>\n",
       "      <td>0</td>\n",
       "      <td>0</td>\n",
       "      <td>0</td>\n",
       "      <td>0</td>\n",
       "      <td>0</td>\n",
       "      <td>0</td>\n",
       "      <td>1</td>\n",
       "      <td>...</td>\n",
       "      <td>0</td>\n",
       "      <td>0</td>\n",
       "      <td>1</td>\n",
       "      <td>1</td>\n",
       "      <td>0</td>\n",
       "      <td>0</td>\n",
       "      <td>0</td>\n",
       "      <td>0</td>\n",
       "      <td>0</td>\n",
       "      <td>1</td>\n",
       "    </tr>\n",
       "    <tr>\n",
       "      <th>2</th>\n",
       "      <td>acute lymphoblastic leukemia (all) (precursor ...</td>\n",
       "      <td>1</td>\n",
       "      <td>0</td>\n",
       "      <td>0</td>\n",
       "      <td>1</td>\n",
       "      <td>0</td>\n",
       "      <td>0</td>\n",
       "      <td>1</td>\n",
       "      <td>0</td>\n",
       "      <td>0</td>\n",
       "      <td>...</td>\n",
       "      <td>0</td>\n",
       "      <td>0</td>\n",
       "      <td>0</td>\n",
       "      <td>0</td>\n",
       "      <td>0</td>\n",
       "      <td>0</td>\n",
       "      <td>0</td>\n",
       "      <td>0</td>\n",
       "      <td>0</td>\n",
       "      <td>1</td>\n",
       "    </tr>\n",
       "  </tbody>\n",
       "</table>\n",
       "<p>3 rows × 102 columns</p>\n",
       "</div>"
      ],
      "text/plain": [
       "                                        Disease-Drug  sub200  sub422  sub439  \\\n",
       "0  acute lymphoblastic leukemia (all) (precursor ...       0       0       1   \n",
       "1  acute lymphoblastic leukemia (all) (precursor ...       0       0       0   \n",
       "2  acute lymphoblastic leukemia (all) (precursor ...       1       0       0   \n",
       "\n",
       "   sub440  sub455  sub515  sub547  sub559  sub572  ...    hsa-mir-29b-2  \\\n",
       "0       1       0       0       1       0       0  ...                0   \n",
       "1       0       0       0       0       0       1  ...                0   \n",
       "2       1       0       0       1       0       0  ...                0   \n",
       "\n",
       "   hsa-mir-335  hsa-mir-34b  hsa-mir-34c  hsa-mir-429  hsa-mir-491  \\\n",
       "0            0            1            1            0            0   \n",
       "1            0            1            1            0            0   \n",
       "2            0            0            0            0            0   \n",
       "\n",
       "   hsa-mir-513a-1  hsa-mir-513a-2  hsa-mir-590  Class  \n",
       "0               0               0            0      1  \n",
       "1               0               0            0      1  \n",
       "2               0               0            0      1  \n",
       "\n",
       "[3 rows x 102 columns]"
      ]
     },
     "execution_count": 34,
     "metadata": {},
     "output_type": "execute_result"
    }
   ],
   "source": [
    "df_FE_100 = train_data[['Disease-Drug'] + col_important100 + ['Class']]\n",
    "df_FE_100.to_csv('Train_data_from_Recursive_Feature_Elimination100.csv', index = False)\n",
    "df_FE_100[:3]"
   ]
  },
  {
   "cell_type": "markdown",
   "metadata": {},
   "source": [
    "# 20 features"
   ]
  },
  {
   "cell_type": "code",
   "execution_count": 35,
   "metadata": {
    "collapsed": false
   },
   "outputs": [
    {
     "name": "stdout",
     "output_type": "stream",
     "text": [
      "[False False False ..., False False False]\n",
      "[ 322  320 1432 ...,  181 1613  957]\n"
     ]
    },
    {
     "data": {
      "text/html": [
       "<div>\n",
       "<table border=\"1\" class=\"dataframe\">\n",
       "  <thead>\n",
       "    <tr style=\"text-align: right;\">\n",
       "      <th></th>\n",
       "      <th>Disease-Drug</th>\n",
       "      <th>sub422</th>\n",
       "      <th>ESR.increased</th>\n",
       "      <th>grin1</th>\n",
       "      <th>kcnh7</th>\n",
       "      <th>kcnn2</th>\n",
       "      <th>nos2</th>\n",
       "      <th>gstp1.y</th>\n",
       "      <th>lrrk2</th>\n",
       "      <th>met.y</th>\n",
       "      <th>...</th>\n",
       "      <th>pten</th>\n",
       "      <th>hsa-mir-155</th>\n",
       "      <th>hsa-mir-15a</th>\n",
       "      <th>hsa-mir-17</th>\n",
       "      <th>hsa-mir-195</th>\n",
       "      <th>hsa-mir-29b-1</th>\n",
       "      <th>hsa-mir-29b-2</th>\n",
       "      <th>hsa-mir-34b</th>\n",
       "      <th>hsa-mir-513a-1</th>\n",
       "      <th>Class</th>\n",
       "    </tr>\n",
       "  </thead>\n",
       "  <tbody>\n",
       "    <tr>\n",
       "      <th>0</th>\n",
       "      <td>acute lymphoblastic leukemia (all) (precursor ...</td>\n",
       "      <td>0</td>\n",
       "      <td>0</td>\n",
       "      <td>0</td>\n",
       "      <td>0</td>\n",
       "      <td>0</td>\n",
       "      <td>0</td>\n",
       "      <td>0</td>\n",
       "      <td>0</td>\n",
       "      <td>0</td>\n",
       "      <td>...</td>\n",
       "      <td>0</td>\n",
       "      <td>0</td>\n",
       "      <td>0</td>\n",
       "      <td>0</td>\n",
       "      <td>0</td>\n",
       "      <td>0</td>\n",
       "      <td>0</td>\n",
       "      <td>1</td>\n",
       "      <td>0</td>\n",
       "      <td>1</td>\n",
       "    </tr>\n",
       "    <tr>\n",
       "      <th>1</th>\n",
       "      <td>acute lymphoblastic leukemia (all) (precursor ...</td>\n",
       "      <td>0</td>\n",
       "      <td>0</td>\n",
       "      <td>0</td>\n",
       "      <td>0</td>\n",
       "      <td>0</td>\n",
       "      <td>0</td>\n",
       "      <td>0</td>\n",
       "      <td>0</td>\n",
       "      <td>0</td>\n",
       "      <td>...</td>\n",
       "      <td>0</td>\n",
       "      <td>0</td>\n",
       "      <td>0</td>\n",
       "      <td>0</td>\n",
       "      <td>0</td>\n",
       "      <td>0</td>\n",
       "      <td>0</td>\n",
       "      <td>1</td>\n",
       "      <td>0</td>\n",
       "      <td>1</td>\n",
       "    </tr>\n",
       "    <tr>\n",
       "      <th>2</th>\n",
       "      <td>acute lymphoblastic leukemia (all) (precursor ...</td>\n",
       "      <td>0</td>\n",
       "      <td>0</td>\n",
       "      <td>0</td>\n",
       "      <td>0</td>\n",
       "      <td>0</td>\n",
       "      <td>0</td>\n",
       "      <td>0</td>\n",
       "      <td>0</td>\n",
       "      <td>0</td>\n",
       "      <td>...</td>\n",
       "      <td>0</td>\n",
       "      <td>0</td>\n",
       "      <td>0</td>\n",
       "      <td>0</td>\n",
       "      <td>0</td>\n",
       "      <td>0</td>\n",
       "      <td>0</td>\n",
       "      <td>0</td>\n",
       "      <td>0</td>\n",
       "      <td>1</td>\n",
       "    </tr>\n",
       "  </tbody>\n",
       "</table>\n",
       "<p>3 rows × 22 columns</p>\n",
       "</div>"
      ],
      "text/plain": [
       "                                        Disease-Drug  sub422  ESR.increased  \\\n",
       "0  acute lymphoblastic leukemia (all) (precursor ...       0              0   \n",
       "1  acute lymphoblastic leukemia (all) (precursor ...       0              0   \n",
       "2  acute lymphoblastic leukemia (all) (precursor ...       0              0   \n",
       "\n",
       "   grin1  kcnh7  kcnn2  nos2  gstp1.y  lrrk2  met.y  ...    pten  hsa-mir-155  \\\n",
       "0      0      0      0     0        0      0      0  ...       0            0   \n",
       "1      0      0      0     0        0      0      0  ...       0            0   \n",
       "2      0      0      0     0        0      0      0  ...       0            0   \n",
       "\n",
       "   hsa-mir-15a  hsa-mir-17  hsa-mir-195  hsa-mir-29b-1  hsa-mir-29b-2  \\\n",
       "0            0           0            0              0              0   \n",
       "1            0           0            0              0              0   \n",
       "2            0           0            0              0              0   \n",
       "\n",
       "   hsa-mir-34b  hsa-mir-513a-1  Class  \n",
       "0            1               0      1  \n",
       "1            1               0      1  \n",
       "2            0               0      1  \n",
       "\n",
       "[3 rows x 22 columns]"
      ]
     },
     "execution_count": 35,
     "metadata": {},
     "output_type": "execute_result"
    }
   ],
   "source": [
    "# create a base classifier used to evaluate a subset of attributes\n",
    "model = LogisticRegression()\n",
    "\n",
    "# create the RFE model and select 100 attributes\n",
    "rfe = RFE(model, 20)\n",
    "rfe = rfe.fit(X, y)\n",
    "rank = rfe.ranking_\n",
    "# summarize the selection of the attributes\n",
    "print(rfe.support_)\n",
    "print(rfe.ranking_)\n",
    "\n",
    "\n",
    "FT = rfe.support_\n",
    "col_important_FE_20 = []\n",
    "\n",
    "for i in xrange(len(FT)):\n",
    "    if FT[i] == True:\n",
    "        col_important_FE_20.append(col_f[i])\n",
    "\n",
    "X_FE_20 = train_data[col_important_FE_20].values\n",
    "df_FE_20 = train_data[['Disease-Drug'] + col_important_FE_20 + ['Class']]\n",
    "df_FE_20.to_csv('Train_data_from_Recursive_Feature_Elimination20.csv', index = False)\n",
    "df_FE_20[:3]"
   ]
  },
  {
   "cell_type": "markdown",
   "metadata": {},
   "source": [
    "# Percent of each type calculating"
   ]
  },
  {
   "cell_type": "markdown",
   "metadata": {},
   "source": [
    "# 100 features"
   ]
  },
  {
   "cell_type": "code",
   "execution_count": 36,
   "metadata": {
    "collapsed": false
   },
   "outputs": [
    {
     "data": {
      "text/plain": [
       "{'chemical_str': [],\n",
       " 'miRNAs': [],\n",
       " 'sharing_genes': [],\n",
       " 'sharing_targets': [],\n",
       " 'side_effect': []}"
      ]
     },
     "execution_count": 36,
     "metadata": {},
     "output_type": "execute_result"
    }
   ],
   "source": [
    "types_dic = dict()\n",
    "for name in ['chemical_str', 'side_effect', 'sharing_targets', 'sharing_genes', 'miRNAs']:\n",
    "    types_dic[name] = []\n",
    "types_dic"
   ]
  },
  {
   "cell_type": "code",
   "execution_count": 37,
   "metadata": {
    "collapsed": false
   },
   "outputs": [],
   "source": [
    "for i in xrange(len(col_important100)):\n",
    "    if col_important100[i] in chemical_str.columns:\n",
    "        types_dic['chemical_str'] = types_dic['chemical_str'] + [col_important100[i]]\n",
    "    elif col_important100[i] in side_effect.columns:\n",
    "        types_dic['side_effect'] = types_dic['side_effect'] + [col_important100[i]]\n",
    "    elif col_important100[i] in sharing_targets.columns:\n",
    "        types_dic['sharing_targets'] = types_dic['sharing_targets'] + [col_important100[i]]\n",
    "    elif col_important100[i] in sharing_genes.columns:\n",
    "        types_dic['sharing_genes'] = types_dic['sharing_genes'] + [col_important100[i]]\n",
    "    elif col_important100[i] in miRNAs.columns:\n",
    "        types_dic['miRNAs'] = types_dic['miRNAs'] + [col_important100[i]]"
   ]
  },
  {
   "cell_type": "code",
   "execution_count": 38,
   "metadata": {
    "collapsed": false
   },
   "outputs": [
    {
     "data": {
      "text/plain": [
       "{'chemical_str': 11,\n",
       " 'miRNAs': 42,\n",
       " 'sharing_genes': 23,\n",
       " 'sharing_targets': 10,\n",
       " 'side_effect': 14}"
      ]
     },
     "execution_count": 38,
     "metadata": {},
     "output_type": "execute_result"
    }
   ],
   "source": [
    "percent = dict()\n",
    "for name in ['chemical_str', 'side_effect', 'sharing_targets', 'sharing_genes', 'miRNAs']:\n",
    "    percent[name] = len(types_dic[name])\n",
    "percent"
   ]
  },
  {
   "cell_type": "code",
   "execution_count": 39,
   "metadata": {
    "collapsed": false
   },
   "outputs": [
    {
     "data": {
      "text/plain": [
       "<matplotlib.figure.Figure at 0x180ef6a0>"
      ]
     },
     "metadata": {},
     "output_type": "display_data"
    },
    {
     "data": {
      "image/png": "[encoded data removed]",
      "text/plain": [
       "<matplotlib.figure.Figure at 0x1bfdf240>"
      ]
     },
     "metadata": {},
     "output_type": "display_data"
    }
   ],
   "source": [
    "plt.figure()\n",
    "plt.figure(figsize=(10,5))\n",
    "plt.title(\"Percent of features from each type in most 100 important features set\", size = 15)\n",
    "plt.bar(range(5), percent.values(), color=\"y\",align=\"center\")\n",
    "plt.xticks(range(5),  ['chemical_str', 'side_effect', 'sharing_targets', \n",
    "                        'sharing_genes', 'miRNAs'], rotation = 45, size = 15)\n",
    "plt.yticks(size = 15)\n",
    "plt.savefig('Features_Elimination_percent_of_features_100.jpg', bbox_inches='tight')\n",
    "plt.show()\n",
    "\n"
   ]
  },
  {
   "cell_type": "markdown",
   "metadata": {},
   "source": [
    "# 20 features"
   ]
  },
  {
   "cell_type": "code",
   "execution_count": 40,
   "metadata": {
    "collapsed": false
   },
   "outputs": [
    {
     "name": "stdout",
     "output_type": "stream",
     "text": [
      "{'sharing_targets': 4, 'side_effect': 1, 'sharing_genes': 6, 'chemical_str': 1, 'miRNAs': 8}\n"
     ]
    },
    {
     "data": {
      "text/plain": [
       "<matplotlib.figure.Figure at 0x1be6e278>"
      ]
     },
     "metadata": {},
     "output_type": "display_data"
    },
    {
     "data": {
      "image/png": "[encoded data removed]",
      "text/plain": [
       "<matplotlib.figure.Figure at 0x1be6e0f0>"
      ]
     },
     "metadata": {},
     "output_type": "display_data"
    }
   ],
   "source": [
    "types_dic = dict()\n",
    "for name in ['chemical_str', 'side_effect', 'sharing_targets', 'sharing_genes', 'miRNAs']:\n",
    "    types_dic[name] = []\n",
    "types_dic\n",
    "\n",
    "for i in xrange(len(col_important_FE_20)):\n",
    "    if col_important_FE_20[i] in chemical_str.columns:\n",
    "        types_dic['chemical_str'] = types_dic['chemical_str'] + [col_important_FE_20[i]]\n",
    "    elif col_important_FE_20[i] in side_effect.columns:\n",
    "        types_dic['side_effect'] = types_dic['side_effect'] + [col_important_FE_20[i]]\n",
    "    elif col_important_FE_20[i] in sharing_targets.columns:\n",
    "        types_dic['sharing_targets'] = types_dic['sharing_targets'] + [col_important_FE_20[i]]\n",
    "    elif col_important_FE_20[i] in sharing_genes.columns:\n",
    "        types_dic['sharing_genes'] = types_dic['sharing_genes'] + [col_important_FE_20[i]]\n",
    "    elif col_important_FE_20[i] in miRNAs.columns:\n",
    "        types_dic['miRNAs'] = types_dic['miRNAs'] + [col_important_FE_20[i]]\n",
    "        \n",
    "percent = dict()\n",
    "for name in ['chemical_str', 'side_effect', 'sharing_targets', 'sharing_genes', 'miRNAs']:\n",
    "    percent[name] = len(types_dic[name])\n",
    "print percent\n",
    "\n",
    "plt.figure()\n",
    "plt.figure(figsize=(10,5))\n",
    "plt.title(\"Percent of features from each type in most 20 important features set\", size = 15)\n",
    "plt.bar(range(5), percent.values(), color=\"b\",align=\"center\")\n",
    "plt.xticks(range(5),  ['chemical_str', 'side_effect', 'sharing_targets', \n",
    "                        'sharing_genes', 'miRNAs'], rotation = 45, size = 15)\n",
    "plt.yticks(size = 15)\n",
    "plt.savefig('Features_Elimination_percent_of_features_20.jpg', bbox_inches='tight')\n",
    "plt.show()"
   ]
  },
  {
   "cell_type": "markdown",
   "metadata": {},
   "source": [
    "# 3. PCA"
   ]
  },
  {
   "cell_type": "markdown",
   "metadata": {},
   "source": [
    "# 100 features"
   ]
  },
  {
   "cell_type": "code",
   "execution_count": 41,
   "metadata": {
    "collapsed": false
   },
   "outputs": [
    {
     "data": {
      "text/plain": [
       "array([[ -6.69336830e+00,  -1.65822460e+00,   9.36268899e+00,\n",
       "         -1.90427608e-01,   4.01648873e+00,  -1.76526688e+00,\n",
       "          3.81426412e-01,  -4.16057529e-02,   7.47266654e-01,\n",
       "         -9.73196514e-01,   7.75430286e-01,  -6.20272760e-02,\n",
       "          2.05017204e-01,   2.14079517e-01,  -4.01671079e-01,\n",
       "          2.24124560e-01,  -2.46262685e-02,   6.06801278e-02,\n",
       "         -3.70836824e-01,   4.30826084e-01,  -1.08213516e-01,\n",
       "          5.82454294e-01,  -7.37907318e-02,   5.90123847e-01,\n",
       "         -3.55428418e-01,   1.80649646e-01,  -4.51479718e-02,\n",
       "         -1.83439734e-02,   1.51427809e-01,  -2.34047189e-01,\n",
       "         -2.48965719e-02,   2.12022900e-01,  -2.96566923e-01,\n",
       "         -1.45089723e-01,   1.71087448e-01,   3.21205477e-02,\n",
       "          4.46543293e-01,  -4.19862637e-01,  -1.58512480e+00,\n",
       "          2.49170192e-01,   5.72713187e-01,   2.23528909e-01,\n",
       "         -1.05046770e+00,  -4.91497296e-01,   6.69857442e-01,\n",
       "          4.57554804e-01,   9.62053634e-02,  -3.09157963e-01,\n",
       "         -1.62908276e-01,   2.78032825e-01,  -3.97862041e-02,\n",
       "          2.43573062e-01,  -1.78075188e-01,   2.19714985e-01,\n",
       "         -2.24220090e-02,   3.31618457e-01,  -2.31235295e-01,\n",
       "          1.91052741e-02,  -3.64493948e-01,   2.41520009e-02,\n",
       "         -1.06943696e-01,   1.84698204e-01,  -1.66089428e-01,\n",
       "          1.20365778e-01,  -7.51515521e-02,   1.03405441e-01,\n",
       "         -2.59287298e-01,   2.05466309e-01,  -1.56765827e-01,\n",
       "          3.94435622e-02,  -1.58382252e-02,  -2.96829223e-01,\n",
       "          1.79241180e-01,  -3.17856023e-03,  -4.85212604e-02,\n",
       "          2.32164760e-01,  -8.84257053e-02,   2.33173760e-01,\n",
       "         -1.81743056e-01,  -1.74046582e-01,   1.24096131e-01,\n",
       "          8.05022193e-02,   3.12594779e-01,  -1.21456618e-01,\n",
       "         -1.25263896e-01,   1.14855292e-01,   6.32302064e-02,\n",
       "          1.90597268e-02,   1.11442072e-01,  -1.81786008e-02,\n",
       "         -1.00723774e-01,   7.48309885e-02,   5.64643570e-02,\n",
       "          2.18570103e-01,  -5.74837601e-02,  -3.64052828e-02,\n",
       "         -5.99651211e-02,  -1.01639167e-01,  -8.52529827e-02,\n",
       "          2.67863318e-01]])"
      ]
     },
     "execution_count": 41,
     "metadata": {},
     "output_type": "execute_result"
    }
   ],
   "source": [
    "# use PCA algorithm for features selection\n",
    "nf = 100\n",
    "pca100 = PCA(n_components=nf)\n",
    "\n",
    "# X is the matrix transposed (n samples on the rows, m features on the columns)\n",
    "pca100.fit(X)\n",
    "\n",
    "X_PCA_100 = pca100.transform(X)\n",
    "X_PCA_100[:1]"
   ]
  },
  {
   "cell_type": "code",
   "execution_count": 42,
   "metadata": {
    "collapsed": false
   },
   "outputs": [
    {
     "data": {
      "text/html": [
       "<div>\n",
       "<table border=\"1\" class=\"dataframe\">\n",
       "  <thead>\n",
       "    <tr style=\"text-align: right;\">\n",
       "      <th></th>\n",
       "      <th>Disease-Drug</th>\n",
       "      <th>0</th>\n",
       "      <th>1</th>\n",
       "      <th>2</th>\n",
       "      <th>3</th>\n",
       "      <th>4</th>\n",
       "      <th>5</th>\n",
       "      <th>6</th>\n",
       "      <th>7</th>\n",
       "      <th>8</th>\n",
       "      <th>...</th>\n",
       "      <th>91</th>\n",
       "      <th>92</th>\n",
       "      <th>93</th>\n",
       "      <th>94</th>\n",
       "      <th>95</th>\n",
       "      <th>96</th>\n",
       "      <th>97</th>\n",
       "      <th>98</th>\n",
       "      <th>99</th>\n",
       "      <th>Class</th>\n",
       "    </tr>\n",
       "  </thead>\n",
       "  <tbody>\n",
       "    <tr>\n",
       "      <th>0</th>\n",
       "      <td>acute lymphoblastic leukemia (all) (precursor ...</td>\n",
       "      <td>-6.693368</td>\n",
       "      <td>-1.658225</td>\n",
       "      <td>9.362689</td>\n",
       "      <td>-0.190428</td>\n",
       "      <td>4.016489</td>\n",
       "      <td>-1.765267</td>\n",
       "      <td>0.381426</td>\n",
       "      <td>-0.041606</td>\n",
       "      <td>0.747267</td>\n",
       "      <td>...</td>\n",
       "      <td>0.074831</td>\n",
       "      <td>0.056464</td>\n",
       "      <td>0.218570</td>\n",
       "      <td>-0.057484</td>\n",
       "      <td>-0.036405</td>\n",
       "      <td>-0.059965</td>\n",
       "      <td>-0.101639</td>\n",
       "      <td>-0.085253</td>\n",
       "      <td>0.267863</td>\n",
       "      <td>1</td>\n",
       "    </tr>\n",
       "    <tr>\n",
       "      <th>1</th>\n",
       "      <td>acute lymphoblastic leukemia (all) (precursor ...</td>\n",
       "      <td>-2.295896</td>\n",
       "      <td>0.810448</td>\n",
       "      <td>-6.167722</td>\n",
       "      <td>2.030408</td>\n",
       "      <td>4.156993</td>\n",
       "      <td>0.223584</td>\n",
       "      <td>5.124359</td>\n",
       "      <td>-1.778741</td>\n",
       "      <td>3.750664</td>\n",
       "      <td>...</td>\n",
       "      <td>0.129776</td>\n",
       "      <td>0.037141</td>\n",
       "      <td>0.225162</td>\n",
       "      <td>-0.020574</td>\n",
       "      <td>-0.055024</td>\n",
       "      <td>-0.007154</td>\n",
       "      <td>-0.076124</td>\n",
       "      <td>-0.196433</td>\n",
       "      <td>0.382179</td>\n",
       "      <td>1</td>\n",
       "    </tr>\n",
       "    <tr>\n",
       "      <th>2</th>\n",
       "      <td>acute lymphoblastic leukemia (all) (precursor ...</td>\n",
       "      <td>-4.662952</td>\n",
       "      <td>0.021688</td>\n",
       "      <td>4.578135</td>\n",
       "      <td>1.424623</td>\n",
       "      <td>-1.357322</td>\n",
       "      <td>0.205435</td>\n",
       "      <td>-1.470713</td>\n",
       "      <td>0.142984</td>\n",
       "      <td>0.007939</td>\n",
       "      <td>...</td>\n",
       "      <td>-0.084612</td>\n",
       "      <td>-0.060065</td>\n",
       "      <td>-0.208815</td>\n",
       "      <td>0.053075</td>\n",
       "      <td>0.058932</td>\n",
       "      <td>0.046720</td>\n",
       "      <td>0.131784</td>\n",
       "      <td>0.068773</td>\n",
       "      <td>-0.243772</td>\n",
       "      <td>1</td>\n",
       "    </tr>\n",
       "  </tbody>\n",
       "</table>\n",
       "<p>3 rows × 102 columns</p>\n",
       "</div>"
      ],
      "text/plain": [
       "                                        Disease-Drug         0         1  \\\n",
       "0  acute lymphoblastic leukemia (all) (precursor ... -6.693368 -1.658225   \n",
       "1  acute lymphoblastic leukemia (all) (precursor ... -2.295896  0.810448   \n",
       "2  acute lymphoblastic leukemia (all) (precursor ... -4.662952  0.021688   \n",
       "\n",
       "          2         3         4         5         6         7         8  \\\n",
       "0  9.362689 -0.190428  4.016489 -1.765267  0.381426 -0.041606  0.747267   \n",
       "1 -6.167722  2.030408  4.156993  0.223584  5.124359 -1.778741  3.750664   \n",
       "2  4.578135  1.424623 -1.357322  0.205435 -1.470713  0.142984  0.007939   \n",
       "\n",
       "   ...          91        92        93        94        95        96  \\\n",
       "0  ...    0.074831  0.056464  0.218570 -0.057484 -0.036405 -0.059965   \n",
       "1  ...    0.129776  0.037141  0.225162 -0.020574 -0.055024 -0.007154   \n",
       "2  ...   -0.084612 -0.060065 -0.208815  0.053075  0.058932  0.046720   \n",
       "\n",
       "         97        98        99  Class  \n",
       "0 -0.101639 -0.085253  0.267863      1  \n",
       "1 -0.076124 -0.196433  0.382179      1  \n",
       "2  0.131784  0.068773 -0.243772      1  \n",
       "\n",
       "[3 rows x 102 columns]"
      ]
     },
     "execution_count": 42,
     "metadata": {},
     "output_type": "execute_result"
    }
   ],
   "source": [
    "df_PCA_100 = train_data[['Disease-Drug']]\n",
    "pca_df = pd.DataFrame(X_PCA_100)\n",
    "df_PCA_100 = pd.merge(df_PCA_100, pca_df, left_index = True, right_index=True)\n",
    "df_PCA_100.loc[:, 'Class'] = train_data.loc[:, 'Class']\n",
    "df_PCA_100.to_csv('Train_data_from_PCA_100_2_classes.csv', index = False)\n",
    "df_PCA_100[:3]"
   ]
  },
  {
   "cell_type": "markdown",
   "metadata": {},
   "source": [
    "# 20 features"
   ]
  },
  {
   "cell_type": "code",
   "execution_count": 43,
   "metadata": {
    "collapsed": false
   },
   "outputs": [
    {
     "data": {
      "text/html": [
       "<div>\n",
       "<table border=\"1\" class=\"dataframe\">\n",
       "  <thead>\n",
       "    <tr style=\"text-align: right;\">\n",
       "      <th></th>\n",
       "      <th>Disease-Drug</th>\n",
       "      <th>0</th>\n",
       "      <th>1</th>\n",
       "      <th>2</th>\n",
       "      <th>3</th>\n",
       "      <th>4</th>\n",
       "      <th>5</th>\n",
       "      <th>6</th>\n",
       "      <th>7</th>\n",
       "      <th>8</th>\n",
       "      <th>...</th>\n",
       "      <th>11</th>\n",
       "      <th>12</th>\n",
       "      <th>13</th>\n",
       "      <th>14</th>\n",
       "      <th>15</th>\n",
       "      <th>16</th>\n",
       "      <th>17</th>\n",
       "      <th>18</th>\n",
       "      <th>19</th>\n",
       "      <th>Class</th>\n",
       "    </tr>\n",
       "  </thead>\n",
       "  <tbody>\n",
       "    <tr>\n",
       "      <th>0</th>\n",
       "      <td>acute lymphoblastic leukemia (all) (precursor ...</td>\n",
       "      <td>-6.693368</td>\n",
       "      <td>-1.658225</td>\n",
       "      <td>9.362689</td>\n",
       "      <td>-0.190428</td>\n",
       "      <td>4.016489</td>\n",
       "      <td>-1.765267</td>\n",
       "      <td>0.381426</td>\n",
       "      <td>-0.041606</td>\n",
       "      <td>0.747267</td>\n",
       "      <td>...</td>\n",
       "      <td>-0.062027</td>\n",
       "      <td>0.205017</td>\n",
       "      <td>0.214080</td>\n",
       "      <td>-0.401671</td>\n",
       "      <td>0.224125</td>\n",
       "      <td>-0.024626</td>\n",
       "      <td>0.060680</td>\n",
       "      <td>-0.370837</td>\n",
       "      <td>0.430826</td>\n",
       "      <td>1</td>\n",
       "    </tr>\n",
       "    <tr>\n",
       "      <th>1</th>\n",
       "      <td>acute lymphoblastic leukemia (all) (precursor ...</td>\n",
       "      <td>-2.295896</td>\n",
       "      <td>0.810448</td>\n",
       "      <td>-6.167722</td>\n",
       "      <td>2.030408</td>\n",
       "      <td>4.156993</td>\n",
       "      <td>0.223584</td>\n",
       "      <td>5.124359</td>\n",
       "      <td>-1.778741</td>\n",
       "      <td>3.750664</td>\n",
       "      <td>...</td>\n",
       "      <td>0.843940</td>\n",
       "      <td>0.372490</td>\n",
       "      <td>0.678334</td>\n",
       "      <td>0.714677</td>\n",
       "      <td>-0.460900</td>\n",
       "      <td>0.132151</td>\n",
       "      <td>-0.064677</td>\n",
       "      <td>-0.022743</td>\n",
       "      <td>-0.698899</td>\n",
       "      <td>1</td>\n",
       "    </tr>\n",
       "    <tr>\n",
       "      <th>2</th>\n",
       "      <td>acute lymphoblastic leukemia (all) (precursor ...</td>\n",
       "      <td>-4.662952</td>\n",
       "      <td>0.021688</td>\n",
       "      <td>4.578135</td>\n",
       "      <td>1.424623</td>\n",
       "      <td>-1.357322</td>\n",
       "      <td>0.205435</td>\n",
       "      <td>-1.470713</td>\n",
       "      <td>0.142984</td>\n",
       "      <td>0.007939</td>\n",
       "      <td>...</td>\n",
       "      <td>2.234398</td>\n",
       "      <td>-2.740005</td>\n",
       "      <td>0.429561</td>\n",
       "      <td>2.411247</td>\n",
       "      <td>-3.230653</td>\n",
       "      <td>-0.521450</td>\n",
       "      <td>-0.249185</td>\n",
       "      <td>1.876191</td>\n",
       "      <td>0.664828</td>\n",
       "      <td>1</td>\n",
       "    </tr>\n",
       "  </tbody>\n",
       "</table>\n",
       "<p>3 rows × 22 columns</p>\n",
       "</div>"
      ],
      "text/plain": [
       "                                        Disease-Drug         0         1  \\\n",
       "0  acute lymphoblastic leukemia (all) (precursor ... -6.693368 -1.658225   \n",
       "1  acute lymphoblastic leukemia (all) (precursor ... -2.295896  0.810448   \n",
       "2  acute lymphoblastic leukemia (all) (precursor ... -4.662952  0.021688   \n",
       "\n",
       "          2         3         4         5         6         7         8  \\\n",
       "0  9.362689 -0.190428  4.016489 -1.765267  0.381426 -0.041606  0.747267   \n",
       "1 -6.167722  2.030408  4.156993  0.223584  5.124359 -1.778741  3.750664   \n",
       "2  4.578135  1.424623 -1.357322  0.205435 -1.470713  0.142984  0.007939   \n",
       "\n",
       "   ...          11        12        13        14        15        16  \\\n",
       "0  ...   -0.062027  0.205017  0.214080 -0.401671  0.224125 -0.024626   \n",
       "1  ...    0.843940  0.372490  0.678334  0.714677 -0.460900  0.132151   \n",
       "2  ...    2.234398 -2.740005  0.429561  2.411247 -3.230653 -0.521450   \n",
       "\n",
       "         17        18        19  Class  \n",
       "0  0.060680 -0.370837  0.430826      1  \n",
       "1 -0.064677 -0.022743 -0.698899      1  \n",
       "2 -0.249185  1.876191  0.664828      1  \n",
       "\n",
       "[3 rows x 22 columns]"
      ]
     },
     "execution_count": 43,
     "metadata": {},
     "output_type": "execute_result"
    }
   ],
   "source": [
    "# use PCA algorithm for features selection\n",
    "nf = 20\n",
    "pca20 = PCA(n_components=nf)\n",
    "\n",
    "# X is the matrix transposed (n samples on the rows, m features on the columns)\n",
    "pca20.fit(X)\n",
    "\n",
    "X_PCA_20 = pca20.transform(X)\n",
    "\n",
    "df_PCA_20 = train_data[['Disease-Drug']]\n",
    "pca_df = pd.DataFrame(X_PCA_20)\n",
    "df_PCA_20 = pd.merge(df_PCA_20, pca_df, left_index = True, right_index=True)\n",
    "df_PCA_20.loc[:, 'Class'] = train_data.loc[:, 'Class']\n",
    "df_PCA_20.to_csv('Train_data_from_PCA_20_2_classes.csv', index = False)\n",
    "df_PCA_20[:3]"
   ]
  },
  {
   "cell_type": "markdown",
   "metadata": {},
   "source": [
    "## Pearson correlation coefficient between important features and predicted variable"
   ]
  },
  {
   "cell_type": "markdown",
   "metadata": {},
   "source": [
    "#### The Pearson's correlation coefficient is calculated by dividing the covariance of the two variables by the product of their standard deviations. It ranges from 1 for perfectly correlated variables to -1 for perfectly anticorrelated variables. 0 means uncorrelated. "
   ]
  },
  {
   "cell_type": "markdown",
   "metadata": {},
   "source": [
    "#### Let's calculate Pearson correlation coefficient between all features and choose features with high and low correlations"
   ]
  },
  {
   "cell_type": "code",
   "execution_count": 44,
   "metadata": {
    "collapsed": false
   },
   "outputs": [
    {
     "data": {
      "text/html": [
       "<div>\n",
       "<table border=\"1\" class=\"dataframe\">\n",
       "  <thead>\n",
       "    <tr style=\"text-align: right;\">\n",
       "      <th></th>\n",
       "      <th>features</th>\n",
       "      <th>Pearson correlation coefficient between features and class</th>\n",
       "    </tr>\n",
       "  </thead>\n",
       "  <tbody>\n",
       "    <tr>\n",
       "      <th>0</th>\n",
       "      <td>hsa-mir-195</td>\n",
       "      <td>-0.038520</td>\n",
       "    </tr>\n",
       "    <tr>\n",
       "      <th>1</th>\n",
       "      <td>met.y</td>\n",
       "      <td>-0.037954</td>\n",
       "    </tr>\n",
       "    <tr>\n",
       "      <th>2</th>\n",
       "      <td>ESR.increased</td>\n",
       "      <td>-0.031158</td>\n",
       "    </tr>\n",
       "    <tr>\n",
       "      <th>3</th>\n",
       "      <td>sub422</td>\n",
       "      <td>-0.024224</td>\n",
       "    </tr>\n",
       "    <tr>\n",
       "      <th>4</th>\n",
       "      <td>hsa-mir-15a</td>\n",
       "      <td>-0.009321</td>\n",
       "    </tr>\n",
       "    <tr>\n",
       "      <th>5</th>\n",
       "      <td>hsa-mir-17</td>\n",
       "      <td>-0.009282</td>\n",
       "    </tr>\n",
       "    <tr>\n",
       "      <th>6</th>\n",
       "      <td>hsa-mir-34b</td>\n",
       "      <td>0.024048</td>\n",
       "    </tr>\n",
       "    <tr>\n",
       "      <th>7</th>\n",
       "      <td>lrrk2</td>\n",
       "      <td>0.034254</td>\n",
       "    </tr>\n",
       "    <tr>\n",
       "      <th>8</th>\n",
       "      <td>nos2</td>\n",
       "      <td>0.037212</td>\n",
       "    </tr>\n",
       "    <tr>\n",
       "      <th>9</th>\n",
       "      <td>pten</td>\n",
       "      <td>0.038292</td>\n",
       "    </tr>\n",
       "    <tr>\n",
       "      <th>10</th>\n",
       "      <td>kcnh7</td>\n",
       "      <td>0.040327</td>\n",
       "    </tr>\n",
       "    <tr>\n",
       "      <th>11</th>\n",
       "      <td>kcnn2</td>\n",
       "      <td>0.040327</td>\n",
       "    </tr>\n",
       "    <tr>\n",
       "      <th>12</th>\n",
       "      <td>grin1</td>\n",
       "      <td>0.040327</td>\n",
       "    </tr>\n",
       "    <tr>\n",
       "      <th>13</th>\n",
       "      <td>mlh1</td>\n",
       "      <td>0.045120</td>\n",
       "    </tr>\n",
       "    <tr>\n",
       "      <th>14</th>\n",
       "      <td>hsa-mir-155</td>\n",
       "      <td>0.045120</td>\n",
       "    </tr>\n",
       "    <tr>\n",
       "      <th>15</th>\n",
       "      <td>gstp1.y</td>\n",
       "      <td>0.045323</td>\n",
       "    </tr>\n",
       "    <tr>\n",
       "      <th>16</th>\n",
       "      <td>hsa-mir-513a-1</td>\n",
       "      <td>0.045323</td>\n",
       "    </tr>\n",
       "    <tr>\n",
       "      <th>17</th>\n",
       "      <td>mmp2.y</td>\n",
       "      <td>0.057060</td>\n",
       "    </tr>\n",
       "    <tr>\n",
       "      <th>18</th>\n",
       "      <td>hsa-mir-29b-1</td>\n",
       "      <td>0.057060</td>\n",
       "    </tr>\n",
       "    <tr>\n",
       "      <th>19</th>\n",
       "      <td>hsa-mir-29b-2</td>\n",
       "      <td>0.057060</td>\n",
       "    </tr>\n",
       "  </tbody>\n",
       "</table>\n",
       "</div>"
      ],
      "text/plain": [
       "          features  Pearson correlation coefficient between features and class\n",
       "0      hsa-mir-195                                          -0.038520         \n",
       "1            met.y                                          -0.037954         \n",
       "2    ESR.increased                                          -0.031158         \n",
       "3           sub422                                          -0.024224         \n",
       "4      hsa-mir-15a                                          -0.009321         \n",
       "5       hsa-mir-17                                          -0.009282         \n",
       "6      hsa-mir-34b                                           0.024048         \n",
       "7            lrrk2                                           0.034254         \n",
       "8             nos2                                           0.037212         \n",
       "9             pten                                           0.038292         \n",
       "10           kcnh7                                           0.040327         \n",
       "11           kcnn2                                           0.040327         \n",
       "12           grin1                                           0.040327         \n",
       "13            mlh1                                           0.045120         \n",
       "14     hsa-mir-155                                           0.045120         \n",
       "15         gstp1.y                                           0.045323         \n",
       "16  hsa-mir-513a-1                                           0.045323         \n",
       "17          mmp2.y                                           0.057060         \n",
       "18   hsa-mir-29b-1                                           0.057060         \n",
       "19   hsa-mir-29b-2                                           0.057060         "
      ]
     },
     "execution_count": 44,
     "metadata": {},
     "output_type": "execute_result"
    }
   ],
   "source": [
    "f1 = []\n",
    "cc = []\n",
    "\n",
    "for i in col_important_FE_20:\n",
    "            f1.append(i)\n",
    "            cc.append(pearsonr(train_data[i], train_data['Class'])[0])\n",
    "           \n",
    "            \n",
    "pcc3 = pd.DataFrame()\n",
    "pcc3['features']=f1\n",
    "pcc3['Pearson correlation coefficient between features and class'] = cc\n",
    "\n",
    "pcc3 = pcc3.sort(['Pearson correlation coefficient between features and class'])\n",
    "pcc3.index = range(len(pcc3['features']))\n",
    "pcc3 = pcc3[:20]\n",
    "pcc3"
   ]
  },
  {
   "cell_type": "markdown",
   "metadata": {},
   "source": [
    "We can see that we have very low correlation between features and target. It is less than 0."
   ]
  },
  {
   "cell_type": "code",
   "execution_count": 45,
   "metadata": {
    "collapsed": false
   },
   "outputs": [
    {
     "data": {
      "image/png": "[encoded data removed]",
      "text/plain": [
       "<matplotlib.figure.Figure at 0x1be98668>"
      ]
     },
     "metadata": {},
     "output_type": "display_data"
    }
   ],
   "source": [
    "fig = plt.figure(figsize=(10,10))\n",
    "headers = pcc3['features']    \n",
    "rects = plt.barh(range(len(pcc3['Pearson correlation coefficient between features and class'])),\n",
    "                 pcc3['Pearson correlation coefficient between features and class'],\n",
    "                 height=0.8,\n",
    "                 align=\"edge\",\n",
    "                 color=\"purple\",\n",
    "                 edgecolor=\"none\")\n",
    "\n",
    "plt.xticks(rotation = 45)\n",
    "    \n",
    "plt.yticks(range(len(headers)), headers, ha='right', va='bottom', size='14')\n",
    "plt.subplots_adjust(left=0.3)\n",
    "plt.title('Pearson correlation coefficient between features and class', size='16')\n",
    "plt.grid(True)  \n",
    "plt.savefig('Pearson correlation coefficient between features_20.jpg', bbox_inches='tight')\n",
    "plt.show()"
   ]
  },
  {
   "cell_type": "markdown",
   "metadata": {},
   "source": [
    "### Pearson correlation between important features"
   ]
  },
  {
   "cell_type": "code",
   "execution_count": 46,
   "metadata": {
    "collapsed": false
   },
   "outputs": [
    {
     "name": "stderr",
     "output_type": "stream",
     "text": [
      "C:\\Anaconda\\lib\\site-packages\\seaborn-0.6.0-py2.7.egg\\seaborn\\linearmodels.py:1283: UserWarning: The `corrplot` function has been deprecated in favor of `heatmap` and will be removed in a forthcoming release. Please update your code.\n",
      "  warnings.warn((\"The `corrplot` function has been deprecated in favor \"\n",
      "C:\\Anaconda\\lib\\site-packages\\seaborn-0.6.0-py2.7.egg\\seaborn\\linearmodels.py:1349: UserWarning: The `symmatplot` function has been deprecated in favor of `heatmap` and will be removed in a forthcoming release. Please update your code.\n",
      "  warnings.warn((\"The `symmatplot` function has been deprecated in favor \"\n"
     ]
    },
    {
     "data": {
      "image/png": "[encoded data removed]",
      "text/plain": [
       "<matplotlib.figure.Figure at 0x4b790f0>"
      ]
     },
     "metadata": {},
     "output_type": "display_data"
    }
   ],
   "source": [
    "# let's plot the correlation between features, where blue is - the most correlated, red - lowest correlation\n",
    "%matplotlib inline\n",
    "fig, ax = plt.subplots(figsize=(20, 20))\n",
    "#sns.corrplot(train_data[col_important2], ax = ax, cmap=sns.diverging_palette(250, 10, n=3, as_cmap=True), diag_names=False)\n",
    "sns.corrplot(train_data[col_important_FE_20], annot=False, sig_stars=False, diag_names=False)\n",
    "plt.savefig('Pearson correlation coefficient between features hot chart.jpg', bbox_inches='tight')"
   ]
  },
  {
   "cell_type": "markdown",
   "metadata": {},
   "source": [
    "## Test data loading"
   ]
  },
  {
   "cell_type": "code",
   "execution_count": 47,
   "metadata": {
    "collapsed": false
   },
   "outputs": [
    {
     "data": {
      "text/html": [
       "<div>\n",
       "<table border=\"1\" class=\"dataframe\">\n",
       "  <thead>\n",
       "    <tr style=\"text-align: right;\">\n",
       "      <th></th>\n",
       "      <th>Disease-Drug</th>\n",
       "      <th>sub2</th>\n",
       "      <th>sub3</th>\n",
       "      <th>sub4</th>\n",
       "      <th>sub10</th>\n",
       "      <th>sub11</th>\n",
       "      <th>sub12</th>\n",
       "      <th>sub13</th>\n",
       "      <th>sub14</th>\n",
       "      <th>sub15</th>\n",
       "      <th>...</th>\n",
       "      <th>hsa-mir-7-1</th>\n",
       "      <th>hsa-mir-7-2</th>\n",
       "      <th>hsa-mir-7-3</th>\n",
       "      <th>hsa-mir-765</th>\n",
       "      <th>hsa-mir-9-1</th>\n",
       "      <th>hsa-mir-9-2</th>\n",
       "      <th>hsa-mir-9-3</th>\n",
       "      <th>hsa-mir-92a-1</th>\n",
       "      <th>hsa-mir-96</th>\n",
       "      <th>Class</th>\n",
       "    </tr>\n",
       "  </thead>\n",
       "  <tbody>\n",
       "    <tr>\n",
       "      <th>0</th>\n",
       "      <td>gallbladder cancer-doxorubicin</td>\n",
       "      <td>1</td>\n",
       "      <td>1</td>\n",
       "      <td>0</td>\n",
       "      <td>1</td>\n",
       "      <td>1</td>\n",
       "      <td>1</td>\n",
       "      <td>1</td>\n",
       "      <td>0</td>\n",
       "      <td>1</td>\n",
       "      <td>...</td>\n",
       "      <td>0</td>\n",
       "      <td>0</td>\n",
       "      <td>0</td>\n",
       "      <td>0</td>\n",
       "      <td>0</td>\n",
       "      <td>0</td>\n",
       "      <td>0</td>\n",
       "      <td>0</td>\n",
       "      <td>1</td>\n",
       "      <td>1</td>\n",
       "    </tr>\n",
       "    <tr>\n",
       "      <th>1</th>\n",
       "      <td>kaposi's sarcoma-doxorubicin</td>\n",
       "      <td>1</td>\n",
       "      <td>1</td>\n",
       "      <td>0</td>\n",
       "      <td>1</td>\n",
       "      <td>1</td>\n",
       "      <td>1</td>\n",
       "      <td>1</td>\n",
       "      <td>0</td>\n",
       "      <td>1</td>\n",
       "      <td>...</td>\n",
       "      <td>1</td>\n",
       "      <td>1</td>\n",
       "      <td>1</td>\n",
       "      <td>0</td>\n",
       "      <td>0</td>\n",
       "      <td>0</td>\n",
       "      <td>0</td>\n",
       "      <td>0</td>\n",
       "      <td>0</td>\n",
       "      <td>1</td>\n",
       "    </tr>\n",
       "    <tr>\n",
       "      <th>2</th>\n",
       "      <td>gastric cancer-porfimer sodium</td>\n",
       "      <td>1</td>\n",
       "      <td>1</td>\n",
       "      <td>1</td>\n",
       "      <td>1</td>\n",
       "      <td>1</td>\n",
       "      <td>1</td>\n",
       "      <td>1</td>\n",
       "      <td>1</td>\n",
       "      <td>1</td>\n",
       "      <td>...</td>\n",
       "      <td>0</td>\n",
       "      <td>0</td>\n",
       "      <td>0</td>\n",
       "      <td>0</td>\n",
       "      <td>0</td>\n",
       "      <td>0</td>\n",
       "      <td>0</td>\n",
       "      <td>0</td>\n",
       "      <td>0</td>\n",
       "      <td>1</td>\n",
       "    </tr>\n",
       "  </tbody>\n",
       "</table>\n",
       "<p>3 rows × 1648 columns</p>\n",
       "</div>"
      ],
      "text/plain": [
       "                     Disease-Drug  sub2  sub3  sub4  sub10  sub11  sub12  \\\n",
       "0  gallbladder cancer-doxorubicin     1     1     0      1      1      1   \n",
       "1    kaposi's sarcoma-doxorubicin     1     1     0      1      1      1   \n",
       "2  gastric cancer-porfimer sodium     1     1     1      1      1      1   \n",
       "\n",
       "   sub13  sub14  sub15  ...    hsa-mir-7-1  hsa-mir-7-2  hsa-mir-7-3  \\\n",
       "0      1      0      1  ...              0            0            0   \n",
       "1      1      0      1  ...              1            1            1   \n",
       "2      1      1      1  ...              0            0            0   \n",
       "\n",
       "   hsa-mir-765  hsa-mir-9-1  hsa-mir-9-2  hsa-mir-9-3  hsa-mir-92a-1  \\\n",
       "0            0            0            0            0              0   \n",
       "1            0            0            0            0              0   \n",
       "2            0            0            0            0              0   \n",
       "\n",
       "   hsa-mir-96  Class  \n",
       "0           1      1  \n",
       "1           0      1  \n",
       "2           0      1  \n",
       "\n",
       "[3 rows x 1648 columns]"
      ]
     },
     "execution_count": 47,
     "metadata": {},
     "output_type": "execute_result"
    }
   ],
   "source": [
    "test_data = pd.read_excel(\"combine_disease-drug_testdata.xlsx\")\n",
    "test_data[:3]"
   ]
  },
  {
   "cell_type": "code",
   "execution_count": 48,
   "metadata": {
    "collapsed": false
   },
   "outputs": [
    {
     "data": {
      "text/plain": [
       "array([[1, 1, 0, ..., 0, 0, 1],\n",
       "       [1, 1, 0, ..., 0, 0, 0]], dtype=int64)"
      ]
     },
     "execution_count": 48,
     "metadata": {},
     "output_type": "execute_result"
    }
   ],
   "source": [
    "col_test = test_data.columns\n",
    "col_test_f = col_test[1:len(col_test)-1]\n",
    "X_test = test_data[col_test_f].values\n",
    "X_test[:2]"
   ]
  },
  {
   "cell_type": "code",
   "execution_count": 49,
   "metadata": {
    "collapsed": false
   },
   "outputs": [
    {
     "data": {
      "text/plain": [
       "array([1, 1, 1], dtype=int64)"
      ]
     },
     "execution_count": 49,
     "metadata": {},
     "output_type": "execute_result"
    }
   ],
   "source": [
    "y_test = test_data['Class'].values\n",
    "y_test[:3]"
   ]
  },
  {
   "cell_type": "markdown",
   "metadata": {},
   "source": [
    "## SVM Model building "
   ]
  },
  {
   "cell_type": "markdown",
   "metadata": {},
   "source": [
    "### Linear SVC for all features (1648)"
   ]
  },
  {
   "cell_type": "code",
   "execution_count": 50,
   "metadata": {
    "collapsed": false
   },
   "outputs": [
    {
     "name": "stdout",
     "output_type": "stream",
     "text": [
      "Test set accuracy: 0.065\n",
      "Test set accuracy: 0.08\n",
      "Test set accuracy: 0.19\n",
      "Test set accuracy: 0.655\n",
      "Test set accuracy: 0.05\n",
      "Test set accuracy: 0.22\n",
      "Test set accuracy: 0.015\n",
      "Test set accuracy: 0.345\n",
      "Test set accuracy: 0.035\n",
      "Test set accuracy: 0.965\n",
      "Test set accuracy: 0.965\n",
      "Test set accuracy: 0.965\n",
      "Test set accuracy: 0.965\n",
      "Test set accuracy: 0.965\n",
      "Test set accuracy: 0.97\n",
      "Test set accuracy: 0.975\n",
      "Test set accuracy: 0.955\n",
      "Test set accuracy: 0.955\n",
      "Test set accuracy: 0.95\n"
     ]
    }
   ],
   "source": [
    "for c in range(1,20):\n",
    "    pred1 = OneVsRestClassifier(LinearSVC(penalty='l2', loss='hinge', \n",
    "                                          dual=True, tol=0.01, C=c, multi_class='ovr', fit_intercept=True, \n",
    "                                          intercept_scaling=2, class_weight=None, verbose=0, \n",
    "                                          random_state=0, max_iter=1000)).fit(X, y).predict(X_test)\n",
    "    print \"Test set accuracy:\", np.mean(pred1 == y_test)"
   ]
  },
  {
   "cell_type": "markdown",
   "metadata": {},
   "source": [
    "## SVM (Support Vector Machines) building model evaluation"
   ]
  },
  {
   "cell_type": "code",
   "execution_count": 51,
   "metadata": {
    "collapsed": false
   },
   "outputs": [
    {
     "name": "stdout",
     "output_type": "stream",
     "text": [
      "Confusion matrix, without normalization\n",
      "[[  0   0]\n",
      " [ 10 190]]\n"
     ]
    },
    {
     "data": {
      "text/plain": [
       "<matplotlib.figure.Figure at 0x1a96e5f8>"
      ]
     },
     "metadata": {},
     "output_type": "display_data"
    },
    {
     "data": {
      "image/png": "[encoded data removed]",
      "text/plain": [
       "<matplotlib.figure.Figure at 0x1a0dea90>"
      ]
     },
     "metadata": {},
     "output_type": "display_data"
    }
   ],
   "source": [
    "def plot_confusion_matrix(cm, title='Confusion matrix', cmap=plt.cm.Blues):\n",
    "    plt.imshow(cm, interpolation='nearest', cmap=cmap)\n",
    "    plt.title(title, size = 20)\n",
    "    plt.colorbar()\n",
    "    tick_marks = np.arange(len(pred1))\n",
    "    plt.xticks(size = 15)\n",
    "    plt.xticks(size = 15)\n",
    "    plt.tight_layout()\n",
    "    plt.ylabel('True label', size = 20)\n",
    "    plt.xlabel('Predicted label', size = 20)\n",
    "\n",
    "cm = confusion_matrix(y_test, pred1)\n",
    "np.set_printoptions(precision=2)\n",
    "print('Confusion matrix, without normalization')\n",
    "print(cm)\n",
    "plt.figure()\n",
    "plt.figure(figsize=(5,5))\n",
    "plot_confusion_matrix(cm)\n",
    "plt.savefig('Model_evaluation_for_1647_features.jpg', bbox_inches='tight')"
   ]
  },
  {
   "cell_type": "markdown",
   "metadata": {},
   "source": [
    "### From this chart for confusion matrix we can see, that from 200 true pairs model guess 190 and and predict them as 1 class; 10 it predict as 0 class."
   ]
  },
  {
   "cell_type": "markdown",
   "metadata": {},
   "source": [
    "# Sensitivity, specificity, precision calculating"
   ]
  },
  {
   "cell_type": "markdown",
   "metadata": {},
   "source": [
    "# Standardized equations\n",
    "\n",
    "sensitivity = recall = tp / t = tp / (tp + fn)\n",
    "\n",
    "specificity = tn / n = tn / (tn + fp)\n",
    "\n",
    "precision = tp / p = tp / (tp + fp)\n",
    "\n",
    "Equations explained\n",
    "\n",
    "Sensitivity/recall – how good a test is at detecting the positives. A test can cheat and maximize this by always returning “positive”.\n",
    "\n",
    "Specificity – how good a test is at avoiding false alarms. A test can cheat and maximize this by always returning “negative”.\n",
    "\n",
    "Precision – how many of the positively classified were relevant. A test can cheat and maximize this by only returning positive on one result it’s most confident in.\n",
    "\n",
    "The cheating is resolved by looking at both relevant metrics instead of just one. E.g. the cheating 100% sensitivity that always says “positive” has 0% specificity.\n"
   ]
  },
  {
   "cell_type": "code",
   "execution_count": 52,
   "metadata": {
    "collapsed": false
   },
   "outputs": [
    {
     "data": {
      "text/plain": [
       "(0.0, 0.95, 0.0)"
      ]
     },
     "execution_count": 52,
     "metadata": {},
     "output_type": "execute_result"
    }
   ],
   "source": [
    "def s_s(cm):\n",
    "    TP = cm[0][0]\n",
    "    FN = cm[0][1]\n",
    "    FP = cm[1][0]\n",
    "    TN = cm[1][1]\n",
    "\n",
    "    try:\n",
    "        sensitivity = float(TP)/float(TP+FN)\n",
    "    except:\n",
    "        sensitivity = 0.0\n",
    "    sensitivity\n",
    "\n",
    "    try:\n",
    "        specificity = float(TN)/float(TN+FP)\n",
    "    except:\n",
    "        specificity = 0.0\n",
    "    specificity\n",
    "\n",
    "    try:\n",
    "        precision = float(TP)/float(TP+FP)\n",
    "    except:\n",
    "        precision = 0.0\n",
    "    precision\n",
    "    \n",
    "    return sensitivity, specificity, precision\n",
    "\n",
    "\n",
    "sensitivity, specificity, precision = s_s(cm)\n",
    "sensitivity, specificity, precision"
   ]
  },
  {
   "cell_type": "markdown",
   "metadata": {},
   "source": [
    "# By using 100  features from Features importance methods of reduction"
   ]
  },
  {
   "cell_type": "code",
   "execution_count": 54,
   "metadata": {
    "collapsed": false
   },
   "outputs": [
    {
     "data": {
      "text/plain": [
       "array([[0, 0, 0, 0, 0, 0, 0, 0, 0, 0, 0, 1, 0, 0, 1, 0, 0, 0, 1, 0, 1, 0,\n",
       "        0, 0, 1, 0, 0, 0, 1, 0, 0, 1, 0, 1, 0, 0, 0, 0, 0, 0, 0, 0, 1, 0,\n",
       "        1, 0, 0, 1, 0, 1, 0, 1, 0, 1, 0, 0, 0, 0, 0, 0, 0, 0, 0, 0, 0, 0,\n",
       "        0, 0, 0, 0, 0, 0, 0, 0, 0, 0, 0, 0, 0, 0, 0, 0, 0, 0, 0, 0, 0, 0,\n",
       "        0, 0, 0, 0, 0, 0, 0, 0, 0, 0, 0, 0],\n",
       "       [0, 0, 0, 0, 1, 1, 0, 1, 0, 1, 0, 0, 0, 0, 0, 1, 1, 0, 0, 1, 0, 1,\n",
       "        1, 0, 0, 1, 0, 1, 0, 1, 1, 0, 0, 0, 0, 0, 1, 0, 0, 0, 0, 0, 0, 0,\n",
       "        0, 0, 1, 0, 0, 0, 0, 0, 0, 0, 0, 0, 0, 0, 1, 0, 0, 0, 0, 0, 0, 0,\n",
       "        0, 0, 0, 0, 0, 0, 0, 0, 0, 0, 0, 0, 0, 0, 0, 0, 0, 0, 0, 0, 0, 0,\n",
       "        0, 0, 1, 0, 0, 0, 0, 0, 0, 0, 0, 0],\n",
       "       [0, 0, 0, 0, 0, 0, 0, 0, 0, 1, 0, 0, 0, 0, 0, 1, 0, 0, 0, 0, 0, 0,\n",
       "        0, 0, 0, 0, 0, 1, 0, 0, 0, 0, 0, 0, 0, 0, 0, 0, 0, 0, 0, 0, 0, 1,\n",
       "        0, 0, 0, 0, 0, 0, 0, 0, 0, 0, 0, 0, 0, 0, 0, 0, 0, 0, 0, 0, 0, 0,\n",
       "        0, 0, 0, 0, 0, 0, 0, 0, 0, 0, 0, 0, 0, 0, 0, 0, 0, 0, 0, 0, 0, 0,\n",
       "        0, 0, 0, 0, 0, 0, 0, 0, 0, 0, 0, 0]], dtype=int64)"
      ]
     },
     "execution_count": 54,
     "metadata": {},
     "output_type": "execute_result"
    }
   ],
   "source": [
    "# get important columns from test data\n",
    "\n",
    "X_test_FI_100 = test_data[col_important].values\n",
    "\n",
    "X_test_FI_100[:3]"
   ]
  },
  {
   "cell_type": "code",
   "execution_count": 55,
   "metadata": {
    "collapsed": false
   },
   "outputs": [
    {
     "name": "stdout",
     "output_type": "stream",
     "text": [
      "Test set accuracy: 0.0\n",
      "Test set accuracy: 0.015\n",
      "Test set accuracy: 0.06\n",
      "Test set accuracy: 0.125\n",
      "Test set accuracy: 0.265\n"
     ]
    }
   ],
   "source": [
    "for c in [0.1, 1, 10, 100, 1000]:\n",
    "    model_FI = OneVsRestClassifier(LinearSVC(penalty='l2', loss='hinge', \n",
    "                                          dual=True, tol=0.01, C=c, multi_class='ovr', fit_intercept=True, \n",
    "                                          intercept_scaling=2, class_weight=None, verbose=0, \n",
    "                                          random_state=0, max_iter=1000)).fit(X_FI_100, y)\n",
    "    pred_FI = model_FI.predict(X_test_FI_100)\n",
    "    print \"Test set accuracy:\", np.mean(pred_FI == y_test)"
   ]
  },
  {
   "cell_type": "code",
   "execution_count": 56,
   "metadata": {
    "collapsed": false,
    "scrolled": true
   },
   "outputs": [
    {
     "name": "stdout",
     "output_type": "stream",
     "text": [
      "Confusion matrix, without normalization\n",
      "[[  0   0]\n",
      " [147  53]]\n"
     ]
    },
    {
     "data": {
      "text/plain": [
       "<matplotlib.figure.Figure at 0x1be47c18>"
      ]
     },
     "metadata": {},
     "output_type": "display_data"
    },
    {
     "data": {
      "image/png": "[encoded data removed]",
      "text/plain": [
       "<matplotlib.figure.Figure at 0x1be478d0>"
      ]
     },
     "metadata": {},
     "output_type": "display_data"
    }
   ],
   "source": [
    "cm = confusion_matrix(y_test, pred_FI)\n",
    "np.set_printoptions(precision=2)\n",
    "print('Confusion matrix, without normalization')\n",
    "print(cm)\n",
    "plt.figure()\n",
    "plt.figure(figsize=(5,5))\n",
    "plot_confusion_matrix(cm)\n",
    "plt.savefig('Model_evaluation_for_100_features_from_Features_importance.jpg', bbox_inches='tight')"
   ]
  },
  {
   "cell_type": "markdown",
   "metadata": {},
   "source": [
    "### From this chart for confusion matrix we can see, that from 200 true pairs model guess only 53 and and predict them as 1 class;. Other 147 pairs Disease-Drug model considers as 0 class."
   ]
  },
  {
   "cell_type": "code",
   "execution_count": 57,
   "metadata": {
    "collapsed": false
   },
   "outputs": [
    {
     "data": {
      "text/plain": [
       "(0.0, 0.265, 0.0)"
      ]
     },
     "execution_count": 57,
     "metadata": {},
     "output_type": "execute_result"
    }
   ],
   "source": [
    "sensitivity, specificity, precision = s_s(cm)\n",
    "sensitivity, specificity, precision"
   ]
  },
  {
   "cell_type": "markdown",
   "metadata": {},
   "source": [
    "# By using 20  features from Features importance methods of reduction"
   ]
  },
  {
   "cell_type": "code",
   "execution_count": 58,
   "metadata": {
    "collapsed": false
   },
   "outputs": [
    {
     "name": "stdout",
     "output_type": "stream",
     "text": [
      "Test set accuracy: 0.0\n",
      "Test set accuracy: 0.0\n",
      "Test set accuracy: 0.0\n",
      "Test set accuracy: 0.0\n",
      "Test set accuracy: 0.0\n",
      "Confusion matrix, without normalization\n",
      "[[  0   0]\n",
      " [200   0]]\n"
     ]
    },
    {
     "data": {
      "text/plain": [
       "<matplotlib.figure.Figure at 0x1be6ea90>"
      ]
     },
     "metadata": {},
     "output_type": "display_data"
    },
    {
     "data": {
      "image/png": "[encoded data removed]",
      "text/plain": [
       "<matplotlib.figure.Figure at 0x1efc1080>"
      ]
     },
     "metadata": {},
     "output_type": "display_data"
    }
   ],
   "source": [
    "# get important columns from test data\n",
    "\n",
    "X_test_FI_20 = test_data[col_important20].values\n",
    "\n",
    "for c in [0.1, 1, 10, 100, 1000]:\n",
    "    model_FI = OneVsRestClassifier(LinearSVC(penalty='l2', loss='hinge', \n",
    "                                          dual=True, tol=0.01, C=c, multi_class='ovr', fit_intercept=True, \n",
    "                                          intercept_scaling=2, class_weight=None, verbose=0, \n",
    "                                          random_state=0, max_iter=1000)).fit(X_FI_20, y)\n",
    "    pred_FI = model_FI.predict(X_test_FI_20)\n",
    "    print \"Test set accuracy:\", np.mean(pred_FI == y_test)\n",
    "    \n",
    "cm = confusion_matrix(y_test, pred_FI)\n",
    "np.set_printoptions(precision=2)\n",
    "print('Confusion matrix, without normalization')\n",
    "print(cm)\n",
    "plt.figure()\n",
    "plt.figure(figsize=(5,5))\n",
    "plot_confusion_matrix(cm)\n",
    "plt.savefig('Model_evaluation_for_20_features_from_Features_importance.jpg', bbox_inches='tight')"
   ]
  },
  {
   "cell_type": "markdown",
   "metadata": {},
   "source": [
    "### We can see that this model with 200 features does not work and gives 0.0 Accuracy"
   ]
  },
  {
   "cell_type": "code",
   "execution_count": 59,
   "metadata": {
    "collapsed": false
   },
   "outputs": [
    {
     "data": {
      "text/plain": [
       "(0.0, 0.0, 0.0)"
      ]
     },
     "execution_count": 59,
     "metadata": {},
     "output_type": "execute_result"
    }
   ],
   "source": [
    "sensitivity, specificity, precision = s_s(cm)\n",
    "sensitivity, specificity, precision"
   ]
  },
  {
   "cell_type": "markdown",
   "metadata": {},
   "source": [
    "# By using 100 features from Recursive Feature Elimination method of reduction"
   ]
  },
  {
   "cell_type": "code",
   "execution_count": 61,
   "metadata": {
    "collapsed": false
   },
   "outputs": [
    {
     "data": {
      "text/plain": [
       "array([[1, 0, 0, 0, 0, 0, 0, 0, 1, 0, 0, 1, 0, 1, 1, 1, 1, 1, 1, 1, 0, 1,\n",
       "        0, 0, 1, 0, 0, 0, 0, 0, 0, 0, 0, 0, 0, 0, 0, 0, 0, 0, 0, 0, 0, 0,\n",
       "        1, 0, 0, 0, 0, 0, 0, 0, 0, 0, 0, 0, 0, 0, 1, 1, 0, 0, 0, 0, 0, 0,\n",
       "        0, 0, 0, 1, 0, 0, 0, 0, 0, 1, 0, 0, 0, 0, 0, 0, 0, 0, 0, 0, 0, 0,\n",
       "        0, 0, 0, 0, 0, 0, 0, 0, 0, 0, 0, 0],\n",
       "       [1, 0, 0, 0, 0, 0, 0, 0, 1, 0, 0, 1, 0, 1, 1, 1, 1, 1, 1, 1, 0, 1,\n",
       "        0, 0, 1, 0, 0, 0, 0, 0, 0, 0, 0, 0, 0, 1, 0, 0, 0, 0, 0, 0, 0, 0,\n",
       "        0, 0, 0, 0, 0, 0, 0, 0, 0, 0, 0, 0, 0, 0, 0, 0, 0, 0, 0, 0, 0, 0,\n",
       "        0, 0, 0, 0, 0, 0, 1, 1, 1, 0, 0, 0, 1, 0, 1, 1, 1, 0, 0, 0, 0, 0,\n",
       "        0, 0, 0, 0, 0, 0, 0, 1, 0, 0, 0, 0],\n",
       "       [0, 0, 0, 0, 0, 0, 1, 0, 1, 0, 1, 0, 0, 0, 0, 1, 1, 0, 0, 1, 0, 0,\n",
       "        0, 0, 1, 0, 0, 0, 0, 0, 0, 0, 0, 0, 0, 1, 0, 0, 1, 0, 0, 0, 0, 0,\n",
       "        0, 0, 0, 0, 0, 0, 0, 0, 0, 0, 0, 0, 0, 0, 0, 0, 0, 0, 0, 0, 0, 0,\n",
       "        0, 0, 0, 0, 0, 0, 0, 0, 0, 0, 0, 0, 1, 0, 0, 0, 0, 0, 0, 0, 0, 0,\n",
       "        0, 0, 0, 0, 0, 0, 0, 0, 0, 0, 0, 0]], dtype=int64)"
      ]
     },
     "execution_count": 61,
     "metadata": {},
     "output_type": "execute_result"
    }
   ],
   "source": [
    "# get important columns from test data\n",
    "\n",
    "X_test_FE_100 = test_data[col_important100].values\n",
    "\n",
    "X_test_FE_100[:3]"
   ]
  },
  {
   "cell_type": "code",
   "execution_count": 62,
   "metadata": {
    "collapsed": false
   },
   "outputs": [
    {
     "name": "stdout",
     "output_type": "stream",
     "text": [
      "('hinge', 1)\n",
      "Test set accuracy: 0.02\n",
      "('squared_hinge', 1)\n",
      "Test set accuracy: 0.2\n",
      "('hinge', 11)\n",
      "Test set accuracy: 0.02\n",
      "('squared_hinge', 11)\n",
      "Test set accuracy: 0.13\n",
      "('hinge', 21)\n",
      "Test set accuracy: 0.02\n",
      "('squared_hinge', 21)\n",
      "Test set accuracy: 0.725\n",
      "('hinge', 31)\n",
      "Test set accuracy: 0.02\n",
      "('squared_hinge', 31)\n",
      "Test set accuracy: 0.935\n",
      "('hinge', 41)\n",
      "Test set accuracy: 0.065\n",
      "('squared_hinge', 41)\n",
      "Test set accuracy: 0.97\n",
      "('hinge', 51)\n",
      "Test set accuracy: 0.11\n",
      "('squared_hinge', 51)\n",
      "Test set accuracy: 0.975\n",
      "('hinge', 61)\n",
      "Test set accuracy: 0.145\n",
      "('squared_hinge', 61)\n",
      "Test set accuracy: 0.985\n"
     ]
    }
   ],
   "source": [
    "for c in range(1,70, 10):\n",
    "    for l in ['hinge', 'squared_hinge']:\n",
    "        print (l, c)\n",
    "        model_FE = OneVsRestClassifier(LinearSVC(penalty='l2', loss=l, \n",
    "                                              dual=True, tol=0.01, C=c, multi_class='ovr', fit_intercept=True, \n",
    "                                              intercept_scaling=2, class_weight=None, verbose=0, \n",
    "                                              random_state=0, max_iter=1000)).fit(X_FE_100, y)\n",
    "        pred_FE = model_FE.predict(X_test_FE_100)\n",
    "        print \"Test set accuracy:\", np.mean(pred_FE == y_test)"
   ]
  },
  {
   "cell_type": "code",
   "execution_count": 63,
   "metadata": {
    "collapsed": false
   },
   "outputs": [
    {
     "name": "stderr",
     "output_type": "stream",
     "text": [
      "C:\\Anaconda\\lib\\site-packages\\pandas\\core\\indexing.py:249: SettingWithCopyWarning: \n",
      "A value is trying to be set on a copy of a slice from a DataFrame.\n",
      "Try using .loc[row_indexer,col_indexer] = value instead\n",
      "\n",
      "See the the caveats in the documentation: http://pandas.pydata.org/pandas-docs/stable/indexing.html#indexing-view-versus-copy\n",
      "  self.obj[key] = _infer_fill_value(value)\n",
      "C:\\Anaconda\\lib\\site-packages\\pandas\\core\\indexing.py:415: SettingWithCopyWarning: \n",
      "A value is trying to be set on a copy of a slice from a DataFrame.\n",
      "Try using .loc[row_indexer,col_indexer] = value instead\n",
      "\n",
      "See the the caveats in the documentation: http://pandas.pydata.org/pandas-docs/stable/indexing.html#indexing-view-versus-copy\n",
      "  self.obj[item] = s\n"
     ]
    },
    {
     "data": {
      "text/html": [
       "<div>\n",
       "<table border=\"1\" class=\"dataframe\">\n",
       "  <thead>\n",
       "    <tr style=\"text-align: right;\">\n",
       "      <th></th>\n",
       "      <th>Disease-Drug</th>\n",
       "      <th>sub200</th>\n",
       "      <th>sub422</th>\n",
       "      <th>sub439</th>\n",
       "      <th>sub440</th>\n",
       "      <th>sub455</th>\n",
       "      <th>sub515</th>\n",
       "      <th>sub547</th>\n",
       "      <th>sub559</th>\n",
       "      <th>sub572</th>\n",
       "      <th>...</th>\n",
       "      <th>hsa-mir-335</th>\n",
       "      <th>hsa-mir-34b</th>\n",
       "      <th>hsa-mir-34c</th>\n",
       "      <th>hsa-mir-429</th>\n",
       "      <th>hsa-mir-491</th>\n",
       "      <th>hsa-mir-513a-1</th>\n",
       "      <th>hsa-mir-513a-2</th>\n",
       "      <th>hsa-mir-590</th>\n",
       "      <th>Class</th>\n",
       "      <th>Predicted_Class</th>\n",
       "    </tr>\n",
       "  </thead>\n",
       "  <tbody>\n",
       "    <tr>\n",
       "      <th>0</th>\n",
       "      <td>gallbladder cancer-doxorubicin</td>\n",
       "      <td>1</td>\n",
       "      <td>0</td>\n",
       "      <td>0</td>\n",
       "      <td>0</td>\n",
       "      <td>0</td>\n",
       "      <td>0</td>\n",
       "      <td>0</td>\n",
       "      <td>0</td>\n",
       "      <td>1</td>\n",
       "      <td>...</td>\n",
       "      <td>0</td>\n",
       "      <td>0</td>\n",
       "      <td>0</td>\n",
       "      <td>0</td>\n",
       "      <td>0</td>\n",
       "      <td>0</td>\n",
       "      <td>0</td>\n",
       "      <td>0</td>\n",
       "      <td>1</td>\n",
       "      <td>1</td>\n",
       "    </tr>\n",
       "    <tr>\n",
       "      <th>1</th>\n",
       "      <td>kaposi's sarcoma-doxorubicin</td>\n",
       "      <td>1</td>\n",
       "      <td>0</td>\n",
       "      <td>0</td>\n",
       "      <td>0</td>\n",
       "      <td>0</td>\n",
       "      <td>0</td>\n",
       "      <td>0</td>\n",
       "      <td>0</td>\n",
       "      <td>1</td>\n",
       "      <td>...</td>\n",
       "      <td>0</td>\n",
       "      <td>0</td>\n",
       "      <td>0</td>\n",
       "      <td>1</td>\n",
       "      <td>0</td>\n",
       "      <td>0</td>\n",
       "      <td>0</td>\n",
       "      <td>0</td>\n",
       "      <td>1</td>\n",
       "      <td>1</td>\n",
       "    </tr>\n",
       "    <tr>\n",
       "      <th>2</th>\n",
       "      <td>gastric cancer-porfimer sodium</td>\n",
       "      <td>0</td>\n",
       "      <td>0</td>\n",
       "      <td>0</td>\n",
       "      <td>0</td>\n",
       "      <td>0</td>\n",
       "      <td>0</td>\n",
       "      <td>1</td>\n",
       "      <td>0</td>\n",
       "      <td>1</td>\n",
       "      <td>...</td>\n",
       "      <td>0</td>\n",
       "      <td>0</td>\n",
       "      <td>0</td>\n",
       "      <td>0</td>\n",
       "      <td>0</td>\n",
       "      <td>0</td>\n",
       "      <td>0</td>\n",
       "      <td>0</td>\n",
       "      <td>1</td>\n",
       "      <td>1</td>\n",
       "    </tr>\n",
       "  </tbody>\n",
       "</table>\n",
       "<p>3 rows × 103 columns</p>\n",
       "</div>"
      ],
      "text/plain": [
       "                     Disease-Drug  sub200  sub422  sub439  sub440  sub455  \\\n",
       "0  gallbladder cancer-doxorubicin       1       0       0       0       0   \n",
       "1    kaposi's sarcoma-doxorubicin       1       0       0       0       0   \n",
       "2  gastric cancer-porfimer sodium       0       0       0       0       0   \n",
       "\n",
       "   sub515  sub547  sub559  sub572       ...         hsa-mir-335  hsa-mir-34b  \\\n",
       "0       0       0       0       1       ...                   0            0   \n",
       "1       0       0       0       1       ...                   0            0   \n",
       "2       0       1       0       1       ...                   0            0   \n",
       "\n",
       "   hsa-mir-34c  hsa-mir-429  hsa-mir-491  hsa-mir-513a-1  hsa-mir-513a-2  \\\n",
       "0            0            0            0               0               0   \n",
       "1            0            1            0               0               0   \n",
       "2            0            0            0               0               0   \n",
       "\n",
       "   hsa-mir-590  Class  Predicted_Class  \n",
       "0            0      1                1  \n",
       "1            0      1                1  \n",
       "2            0      1                1  \n",
       "\n",
       "[3 rows x 103 columns]"
      ]
     },
     "execution_count": 63,
     "metadata": {},
     "output_type": "execute_result"
    }
   ],
   "source": [
    "df_FEt = test_data[['Disease-Drug'] + col_important100 + ['Class']]\n",
    "df_FEt.loc[:, 'Predicted_Class'] = pred_FE\n",
    "df_FEt.to_csv('Test_data_from_Recursive_Feature_Elimination_100.csv', index = False)\n",
    "df_FEt[:3]"
   ]
  },
  {
   "cell_type": "code",
   "execution_count": 64,
   "metadata": {
    "collapsed": false
   },
   "outputs": [
    {
     "name": "stdout",
     "output_type": "stream",
     "text": [
      "Confusion matrix, without normalization\n",
      "[[  0   0]\n",
      " [  3 197]]\n"
     ]
    },
    {
     "data": {
      "image/png": "[encoded data removed]",
      "text/plain": [
       "<matplotlib.figure.Figure at 0x1f193f28>"
      ]
     },
     "metadata": {},
     "output_type": "display_data"
    }
   ],
   "source": [
    "cm = confusion_matrix(y_test, pred_FE)\n",
    "np.set_printoptions(precision=2)\n",
    "print('Confusion matrix, without normalization')\n",
    "print(cm)\n",
    "plt.figure()\n",
    "plot_confusion_matrix(cm)\n",
    "plt.savefig('Model_evaluation_for_100_features_from_Features_Elumination.jpg', bbox_inches='tight')"
   ]
  },
  {
   "cell_type": "code",
   "execution_count": 65,
   "metadata": {
    "collapsed": false
   },
   "outputs": [
    {
     "data": {
      "text/plain": [
       "(0.0, 0.985, 0.0)"
      ]
     },
     "execution_count": 65,
     "metadata": {},
     "output_type": "execute_result"
    }
   ],
   "source": [
    "sensitivity, specificity, precision = s_s(cm)\n",
    "sensitivity, specificity, precision"
   ]
  },
  {
   "cell_type": "markdown",
   "metadata": {},
   "source": [
    "# By using 20 features from Recursive Feature Elimination method of reduction"
   ]
  },
  {
   "cell_type": "code",
   "execution_count": 67,
   "metadata": {
    "collapsed": false
   },
   "outputs": [
    {
     "name": "stdout",
     "output_type": "stream",
     "text": [
      "('hinge', 1)\n",
      "Test set accuracy: 0.015\n",
      "('squared_hinge', 1)\n",
      "Test set accuracy: 0.05\n",
      "('hinge', 11)\n",
      "Test set accuracy: 0.02\n",
      "('squared_hinge', 11)\n",
      "Test set accuracy: 0.05\n",
      "('hinge', 21)\n",
      "Test set accuracy: 0.02\n",
      "('squared_hinge', 21)\n",
      "Test set accuracy: 0.05\n",
      "('hinge', 31)\n",
      "Test set accuracy: 0.02\n",
      "('squared_hinge', 31)\n",
      "Test set accuracy: 0.05\n",
      "('hinge', 41)\n",
      "Test set accuracy: 0.02\n",
      "('squared_hinge', 41)\n",
      "Test set accuracy: 0.05\n",
      "('hinge', 51)\n",
      "Test set accuracy: 0.02\n",
      "('squared_hinge', 51)\n",
      "Test set accuracy: 0.14\n",
      "('hinge', 61)\n",
      "Test set accuracy: 0.02\n",
      "('squared_hinge', 61)\n",
      "Test set accuracy: 0.17\n"
     ]
    }
   ],
   "source": [
    "X_test_FE_20 = test_data[col_important_FE_20].values\n",
    "\n",
    "for c in range(1,70, 10):\n",
    "    for l in ['hinge', 'squared_hinge']:\n",
    "        print (l, c)\n",
    "        model_FE = OneVsRestClassifier(LinearSVC(penalty='l2', loss=l, \n",
    "                                              dual=True, tol=0.01, C=c, multi_class='ovr', fit_intercept=True, \n",
    "                                              intercept_scaling=2, class_weight=None, verbose=0, \n",
    "                                              random_state=0, max_iter=1000)).fit(X_FE_20, y)\n",
    "        pred_FE = model_FE.predict(X_test_FE_20)\n",
    "        print \"Test set accuracy:\", np.mean(pred_FE == y_test)\n",
    "        \n",
    "        \n"
   ]
  },
  {
   "cell_type": "code",
   "execution_count": 68,
   "metadata": {
    "collapsed": false
   },
   "outputs": [
    {
     "name": "stdout",
     "output_type": "stream",
     "text": [
      "Confusion matrix, without normalization\n",
      "[[  0   0]\n",
      " [166  34]]\n"
     ]
    },
    {
     "data": {
      "image/png": "[encoded data removed]",
      "text/plain": [
       "<matplotlib.figure.Figure at 0x1a986ac8>"
      ]
     },
     "metadata": {},
     "output_type": "display_data"
    }
   ],
   "source": [
    "df_FEt = test_data[['Disease-Drug'] + col_important_FE_20 + ['Class']]\n",
    "df_FEt.loc[:, 'Predicted_Class'] = pred_FE\n",
    "df_FEt.to_csv('Test_data_from_Recursive_Feature_Elimination_20.csv', index = False)\n",
    "df_FEt[:3]\n",
    "\n",
    "cm = confusion_matrix(y_test, pred_FE)\n",
    "np.set_printoptions(precision=2)\n",
    "print('Confusion matrix, without normalization')\n",
    "print(cm)\n",
    "plt.figure()\n",
    "plot_confusion_matrix(cm)\n",
    "plt.savefig('Model_evaluation_for_20_features_from_Features_Elumination.jpg', bbox_inches='tight')"
   ]
  },
  {
   "cell_type": "code",
   "execution_count": 69,
   "metadata": {
    "collapsed": false
   },
   "outputs": [
    {
     "data": {
      "text/plain": [
       "(0.0, 0.17, 0.0)"
      ]
     },
     "execution_count": 69,
     "metadata": {},
     "output_type": "execute_result"
    }
   ],
   "source": [
    "sensitivity, specificity, precision = s_s(cm)\n",
    "sensitivity, specificity, precision"
   ]
  },
  {
   "cell_type": "markdown",
   "metadata": {},
   "source": [
    "# By using features from Principal data analysis method of reduction for 100 features"
   ]
  },
  {
   "cell_type": "code",
   "execution_count": 71,
   "metadata": {
    "collapsed": false
   },
   "outputs": [
    {
     "data": {
      "text/plain": [
       "array([[  6.91e+00,   1.17e+01,   3.61e+00,  -1.40e+00,   3.35e-01,\n",
       "          8.89e-01,   1.13e+00,  -1.45e+00,  -1.01e+00,  -6.43e-01,\n",
       "         -4.24e-01,  -6.08e-02,  -5.24e-01,   2.40e-01,  -6.62e-02,\n",
       "         -2.43e-01,   3.72e-01,  -5.90e-02,  -5.72e-01,   4.94e-01,\n",
       "          2.77e-01,   1.17e+00,  -2.32e-02,   6.30e-02,  -7.06e-01,\n",
       "          9.15e-01,   1.03e-01,  -4.48e-01,   5.92e-01,  -1.11e+00,\n",
       "         -1.37e+00,   1.27e+00,   2.24e-01,  -9.50e-01,  -1.93e-01,\n",
       "          2.33e-01,   6.60e-04,   3.64e-01,   4.81e-01,   3.71e-01,\n",
       "         -3.02e-01,  -2.42e-02,   4.36e-01,  -9.37e-02,  -2.68e-02,\n",
       "         -2.05e-01,   1.81e-01,  -1.32e-01,  -2.07e-02,   1.09e-01,\n",
       "          6.69e-03,   9.49e-02,   3.19e-02,   2.20e-01,  -3.47e-02,\n",
       "          8.13e-02,  -5.61e-02,   8.82e-02,   9.72e-02,   1.25e-01,\n",
       "         -2.03e-01,   8.85e-02,  -1.93e-02,   7.70e-02,  -2.32e-02,\n",
       "          2.26e-02,   7.54e-02,   3.49e-02,  -3.92e-03,  -4.87e-04,\n",
       "          5.39e-02,   7.12e-02,  -1.47e-01,  -5.34e-02,  -2.14e-02,\n",
       "          5.72e-02,  -8.05e-02,  -5.55e-02,  -2.20e-02,  -1.32e-01,\n",
       "          1.13e-01,   7.16e-02,   1.55e-01,   4.39e-02,  -4.75e-02,\n",
       "          1.78e-01,  -1.76e-02,   5.41e-02,  -2.45e-02,   2.02e-02,\n",
       "          9.53e-02,  -1.12e-02,   1.80e-01,   3.11e-02,  -1.32e-01,\n",
       "         -6.88e-02,  -7.50e-02,  -1.19e-01,  -1.54e-01,   1.29e-01]])"
      ]
     },
     "execution_count": 71,
     "metadata": {},
     "output_type": "execute_result"
    }
   ],
   "source": [
    "X_test_PCA_100 = pca100.transform(X_test)\n",
    "X_test_PCA_100[:1]"
   ]
  },
  {
   "cell_type": "code",
   "execution_count": 72,
   "metadata": {
    "collapsed": false
   },
   "outputs": [
    {
     "name": "stdout",
     "output_type": "stream",
     "text": [
      "('hinge', 1)\n",
      "Test set accuracy: 0.045\n",
      "('squared_hinge', 1)\n",
      "Test set accuracy: 0.15\n",
      "('hinge', 11)\n",
      "Test set accuracy: 0.305\n",
      "('squared_hinge', 11)\n",
      "Test set accuracy: 0.32\n",
      "('hinge', 21)\n",
      "Test set accuracy: 0.36\n",
      "('squared_hinge', 21)\n",
      "Test set accuracy: 0.415\n",
      "('hinge', 31)\n",
      "Test set accuracy: 0.36\n",
      "('squared_hinge', 31)\n",
      "Test set accuracy: 0.355\n",
      "('hinge', 41)\n",
      "Test set accuracy: 0.36\n",
      "('squared_hinge', 41)\n",
      "Test set accuracy: 0.355\n",
      "('hinge', 51)\n",
      "Test set accuracy: 0.36\n",
      "('squared_hinge', 51)\n",
      "Test set accuracy: 0.355\n"
     ]
    }
   ],
   "source": [
    "for c in range(1,60, 10):\n",
    "    for l in ['hinge', 'squared_hinge']:\n",
    "        print (l, c)\n",
    "        model_PCA = OneVsRestClassifier(LinearSVC(penalty='l2', loss=l, \n",
    "                                              dual=True, tol=0.01, C=c, multi_class='ovr', fit_intercept=True, \n",
    "                                              intercept_scaling=2, class_weight=None, verbose=0, \n",
    "                                              random_state=0, max_iter=1000)).fit(X_PCA_100, y)\n",
    "        pred_PCA = model_PCA.predict(X_test_PCA_100)\n",
    "        print \"Test set accuracy:\", np.mean(pred_PCA == y_test)"
   ]
  },
  {
   "cell_type": "code",
   "execution_count": 73,
   "metadata": {
    "collapsed": false
   },
   "outputs": [
    {
     "name": "stdout",
     "output_type": "stream",
     "text": [
      "Confusion matrix, without normalization\n",
      "[[  0   0]\n",
      " [129  71]]\n"
     ]
    },
    {
     "data": {
      "image/png": "[encoded data removed]",
      "text/plain": [
       "<matplotlib.figure.Figure at 0x1be40518>"
      ]
     },
     "metadata": {},
     "output_type": "display_data"
    }
   ],
   "source": [
    "cm = confusion_matrix(y_test, pred_PCA)\n",
    "np.set_printoptions(precision=2)\n",
    "print('Confusion matrix, without normalization')\n",
    "print(cm)\n",
    "plt.figure()\n",
    "plot_confusion_matrix(cm)\n",
    "plt.savefig('Model_evaluation_for_100_features_from_PCA.jpg', bbox_inches='tight')"
   ]
  },
  {
   "cell_type": "code",
   "execution_count": 74,
   "metadata": {
    "collapsed": false
   },
   "outputs": [
    {
     "data": {
      "text/plain": [
       "(0.0, 0.355, 0.0)"
      ]
     },
     "execution_count": 74,
     "metadata": {},
     "output_type": "execute_result"
    }
   ],
   "source": [
    "sensitivity, specificity, precision = s_s(cm)\n",
    "sensitivity, specificity, precision"
   ]
  },
  {
   "cell_type": "markdown",
   "metadata": {},
   "source": [
    "# ROC curve building"
   ]
  },
  {
   "cell_type": "code",
   "execution_count": 75,
   "metadata": {
    "collapsed": false
   },
   "outputs": [
    {
     "name": "stdout",
     "output_type": "stream",
     "text": [
      "Area under the ROC curve : nan\n"
     ]
    },
    {
     "data": {
      "text/plain": [
       "[]"
      ]
     },
     "execution_count": 75,
     "metadata": {},
     "output_type": "execute_result"
    },
    {
     "data": {
      "image/png": "[encoded data removed]",
      "text/plain": [
       "<matplotlib.figure.Figure at 0x1be6e5f8>"
      ]
     },
     "metadata": {},
     "output_type": "display_data"
    }
   ],
   "source": [
    "fpr, tpr, thresholds =roc_curve(y_test, pred_PCA)\n",
    "roc_auc = auc(fpr, tpr)\n",
    "print(\"Area under the ROC curve : %f\" % roc_auc)\n",
    "\n",
    "\n",
    "i = np.arange(len(tpr)) # index for df\n",
    "roc = pd.DataFrame({'fpr' : pd.Series(fpr, index=i),'tpr' : pd.Series(tpr, index = i), '1-fpr' : pd.Series(1-fpr, index = i), 'tf' : pd.Series(tpr - (1-fpr), index = i), 'thresholds' : pd.Series(thresholds, index = i)})\n",
    "roc.ix[(roc.tf-0).abs().argsort()[:1]]\n",
    "\n",
    "# Plot tpr vs 1-fpr\n",
    "fig, ax = plt.subplots()\n",
    "plt.plot(roc['tpr'])\n",
    "plt.plot(roc['1-fpr'], color = 'red')\n",
    "plt.xlabel('1-False Positive Rate')\n",
    "plt.ylabel('True Positive Rate')\n",
    "plt.title('Receiver operating characteristic')\n",
    "ax.set_xticklabels([])"
   ]
  },
  {
   "cell_type": "markdown",
   "metadata": {},
   "source": [
    "# By using features from Principal data analysis method of reduction for 20 features"
   ]
  },
  {
   "cell_type": "code",
   "execution_count": 76,
   "metadata": {
    "collapsed": false
   },
   "outputs": [
    {
     "name": "stdout",
     "output_type": "stream",
     "text": [
      "('hinge', 1)\n",
      "Test set accuracy: 0.0\n",
      "('squared_hinge', 1)\n",
      "Test set accuracy: 0.015\n",
      "('hinge', 11)\n",
      "Test set accuracy: 0.125\n",
      "('squared_hinge', 11)\n",
      "Test set accuracy: 0.29\n",
      "('hinge', 21)\n",
      "Test set accuracy: 0.295\n",
      "('squared_hinge', 21)\n",
      "Test set accuracy: 0.3\n",
      "('hinge', 31)\n",
      "Test set accuracy: 0.445\n",
      "('squared_hinge', 31)\n",
      "Test set accuracy: 0.33\n",
      "('hinge', 41)\n",
      "Test set accuracy: 0.425\n",
      "('squared_hinge', 41)\n",
      "Test set accuracy: 0.33\n",
      "('hinge', 51)\n",
      "Test set accuracy: 0.425\n",
      "('squared_hinge', 51)\n",
      "Test set accuracy: 0.33\n"
     ]
    }
   ],
   "source": [
    "X_test_PCA_20 = pca20.transform(X_test)\n",
    "\n",
    "for c in range(1,60, 10):\n",
    "    for l in ['hinge', 'squared_hinge']:\n",
    "        print (l, c)\n",
    "        model_PCA = OneVsRestClassifier(LinearSVC(penalty='l2', loss=l, \n",
    "                                              dual=True, tol=0.01, C=c, multi_class='ovr', fit_intercept=True, \n",
    "                                              intercept_scaling=2, class_weight=None, verbose=0, \n",
    "                                              random_state=0, max_iter=1000)).fit(X_PCA_20, y)\n",
    "        pred_PCA = model_PCA.predict(X_test_PCA_20)\n",
    "        print \"Test set accuracy:\", np.mean(pred_PCA == y_test)"
   ]
  },
  {
   "cell_type": "code",
   "execution_count": 77,
   "metadata": {
    "collapsed": false
   },
   "outputs": [
    {
     "name": "stdout",
     "output_type": "stream",
     "text": [
      "Confusion matrix, without normalization\n",
      "[[  0   0]\n",
      " [134  66]]\n"
     ]
    },
    {
     "data": {
      "image/png": "[encoded data removed]",
      "text/plain": [
       "<matplotlib.figure.Figure at 0x1f0cca20>"
      ]
     },
     "metadata": {},
     "output_type": "display_data"
    }
   ],
   "source": [
    "cm = confusion_matrix(y_test, pred_PCA)\n",
    "np.set_printoptions(precision=2)\n",
    "print('Confusion matrix, without normalization')\n",
    "print(cm)\n",
    "plt.figure()\n",
    "plot_confusion_matrix(cm)\n",
    "plt.savefig('Model_evaluation_for_20_features_from_PCA.jpg', bbox_inches='tight')"
   ]
  },
  {
   "cell_type": "markdown",
   "metadata": {},
   "source": [
    "# Conclusion"
   ]
  },
  {
   "cell_type": "markdown",
   "metadata": {},
   "source": [
    "### The best result we have got by using Recursive Feature Elimination method of reduction and Linear Support Vector Classifier"
   ]
  },
  {
   "cell_type": "markdown",
   "metadata": {},
   "source": [
    "###Test set accuracy equal 0.985  in this case."
   ]
  },
  {
   "cell_type": "markdown",
   "metadata": {},
   "source": [
    "### By using general table with features without any transformations we were able to get the Accuracy = 0.975"
   ]
  },
  {
   "cell_type": "markdown",
   "metadata": {},
   "source": [
    "### The reduction to 20 features gives worse results for Accuracy than reduction to 100 features"
   ]
  },
  {
   "cell_type": "markdown",
   "metadata": {},
   "source": [
    "# Final model, which we can consider as the best model"
   ]
  },
  {
   "cell_type": "code",
   "execution_count": 78,
   "metadata": {
    "collapsed": false
   },
   "outputs": [
    {
     "name": "stdout",
     "output_type": "stream",
     "text": [
      "Test set accuracy: 0.985\n"
     ]
    }
   ],
   "source": [
    "pred1 = OneVsRestClassifier(LinearSVC(penalty='l2', loss='squared_hinge', \n",
    "                                              dual=True, tol=0.01, C=61, multi_class='ovr', fit_intercept=True, \n",
    "                                              intercept_scaling=2, class_weight=None, verbose=0, \n",
    "                                              random_state=0, max_iter=1000)).fit(X_FE_100, y).predict(X_test_FE_100)\n",
    "print \"Test set accuracy:\", np.mean(pred1 == y_test)"
   ]
  },
  {
   "cell_type": "code",
   "execution_count": 79,
   "metadata": {
    "collapsed": false
   },
   "outputs": [
    {
     "name": "stdout",
     "output_type": "stream",
     "text": [
      "Confusion matrix, without normalization\n",
      "[[  0   0]\n",
      " [  3 197]]\n"
     ]
    },
    {
     "data": {
      "image/png": "[encoded data removed]",
      "text/plain": [
       "<matplotlib.figure.Figure at 0x1a991eb8>"
      ]
     },
     "metadata": {},
     "output_type": "display_data"
    }
   ],
   "source": [
    "cm = confusion_matrix(y_test, pred1)\n",
    "np.set_printoptions(precision=2)\n",
    "print('Confusion matrix, without normalization')\n",
    "print(cm)\n",
    "plt.figure()\n",
    "plot_confusion_matrix(cm)\n"
   ]
  },
  {
   "cell_type": "code",
   "execution_count": 80,
   "metadata": {
    "collapsed": false,
    "scrolled": true
   },
   "outputs": [
    {
     "data": {
      "text/html": [
       "<div>\n",
       "<table border=\"1\" class=\"dataframe\">\n",
       "  <thead>\n",
       "    <tr style=\"text-align: right;\">\n",
       "      <th></th>\n",
       "      <th>Disease-Drug</th>\n",
       "      <th>Class</th>\n",
       "      <th>Predicted_class</th>\n",
       "    </tr>\n",
       "  </thead>\n",
       "  <tbody>\n",
       "    <tr>\n",
       "      <th>0</th>\n",
       "      <td>gallbladder cancer-doxorubicin</td>\n",
       "      <td>1</td>\n",
       "      <td>1</td>\n",
       "    </tr>\n",
       "    <tr>\n",
       "      <th>1</th>\n",
       "      <td>kaposi's sarcoma-doxorubicin</td>\n",
       "      <td>1</td>\n",
       "      <td>1</td>\n",
       "    </tr>\n",
       "    <tr>\n",
       "      <th>2</th>\n",
       "      <td>gastric cancer-porfimer sodium</td>\n",
       "      <td>1</td>\n",
       "      <td>1</td>\n",
       "    </tr>\n",
       "    <tr>\n",
       "      <th>3</th>\n",
       "      <td>allograft rejection-prednisone</td>\n",
       "      <td>1</td>\n",
       "      <td>1</td>\n",
       "    </tr>\n",
       "    <tr>\n",
       "      <th>4</th>\n",
       "      <td>asthma-zafirlukast</td>\n",
       "      <td>1</td>\n",
       "      <td>1</td>\n",
       "    </tr>\n",
       "  </tbody>\n",
       "</table>\n",
       "</div>"
      ],
      "text/plain": [
       "                     Disease-Drug  Class  Predicted_class\n",
       "0  gallbladder cancer-doxorubicin      1                1\n",
       "1    kaposi's sarcoma-doxorubicin      1                1\n",
       "2  gastric cancer-porfimer sodium      1                1\n",
       "3  allograft rejection-prednisone      1                1\n",
       "4              asthma-zafirlukast      1                1"
      ]
     },
     "execution_count": 80,
     "metadata": {},
     "output_type": "execute_result"
    }
   ],
   "source": [
    "result = test_data[['Disease-Drug', 'Class']]\n",
    "result.loc[:, 'Predicted_class'] = pred1\n",
    "result[:5]"
   ]
  },
  {
   "cell_type": "code",
   "execution_count": 81,
   "metadata": {
    "collapsed": false
   },
   "outputs": [
    {
     "data": {
      "text/html": [
       "<div>\n",
       "<table border=\"1\" class=\"dataframe\">\n",
       "  <thead>\n",
       "    <tr style=\"text-align: right;\">\n",
       "      <th></th>\n",
       "      <th>Disease-Drug</th>\n",
       "      <th>Class</th>\n",
       "      <th>Predicted_class</th>\n",
       "    </tr>\n",
       "  </thead>\n",
       "  <tbody>\n",
       "    <tr>\n",
       "      <th>7</th>\n",
       "      <td>allograft rejection-methylprednisolone</td>\n",
       "      <td>1</td>\n",
       "      <td>1</td>\n",
       "    </tr>\n",
       "    <tr>\n",
       "      <th>66</th>\n",
       "      <td>allograft rejection-methylprednisolone</td>\n",
       "      <td>1</td>\n",
       "      <td>1</td>\n",
       "    </tr>\n",
       "  </tbody>\n",
       "</table>\n",
       "</div>"
      ],
      "text/plain": [
       "                              Disease-Drug  Class  Predicted_class\n",
       "7   allograft rejection-methylprednisolone      1                1\n",
       "66  allograft rejection-methylprednisolone      1                1"
      ]
     },
     "execution_count": 81,
     "metadata": {},
     "output_type": "execute_result"
    }
   ],
   "source": [
    "input_Disease_Drug = 'allograft rejection-methylprednisolone'\n",
    "result[result['Disease-Drug'] == input_Disease_Drug]"
   ]
  },
  {
   "cell_type": "code",
   "execution_count": 82,
   "metadata": {
    "collapsed": true
   },
   "outputs": [],
   "source": [
    "result.to_csv(\"Result_Disease_Drug_prediction.csv\", index = False)"
   ]
  },
  {
   "cell_type": "code",
   "execution_count": null,
   "metadata": {
    "collapsed": true
   },
   "outputs": [],
   "source": []
  },
  {
   "cell_type": "markdown",
   "metadata": {},
   "source": [
    "# Logistic Regression for 2 classes problem "
   ]
  },
  {
   "cell_type": "markdown",
   "metadata": {},
   "source": [
    "# For Features importances"
   ]
  },
  {
   "cell_type": "code",
   "execution_count": 83,
   "metadata": {
    "collapsed": false
   },
   "outputs": [
    {
     "data": {
      "text/plain": [
       "array([ 0.41,  0.25,  0.29,  0.34,  0.39,  0.33,  0.33,  0.39,  0.46,\n",
       "        0.57,  0.46,  0.43,  0.31,  0.39,  0.36,  0.3 ,  0.39,  0.29,\n",
       "        0.41,  0.36,  0.46,  0.35,  0.41,  0.49,  0.38,  0.36,  0.36,\n",
       "        0.48,  0.46,  0.34,  0.31,  0.37,  0.35,  0.41,  0.37,  0.42,\n",
       "        0.38,  0.44,  0.37,  0.49,  0.31,  0.35,  0.39,  0.44,  0.48,\n",
       "        0.51,  0.39,  0.38,  0.74,  0.38,  0.39,  0.31,  0.31,  0.36,\n",
       "        0.22,  0.46,  0.39,  0.3 ,  0.46,  0.42,  0.38,  0.49,  0.41,\n",
       "        0.36,  0.31,  0.42,  0.34,  0.49,  0.33,  0.36,  0.42,  0.38,\n",
       "        0.38,  0.48,  0.42,  0.49,  0.36,  0.42,  0.45,  0.49,  0.47,\n",
       "        0.45,  0.42,  0.25,  0.41,  0.39,  0.49,  0.36,  0.22,  0.48,\n",
       "        0.46,  0.46,  0.28,  0.38,  0.33,  0.36,  0.35,  0.35,  0.42,\n",
       "        0.3 ,  0.25,  0.38,  0.42,  0.38,  0.3 ,  0.36,  0.42,  0.42,\n",
       "        0.41,  0.45,  0.41,  0.54,  0.29,  0.36,  0.49,  0.42,  0.39,\n",
       "        0.42,  0.46,  0.37,  0.46,  0.41,  0.4 ,  0.34,  0.42,  0.45,\n",
       "        0.36,  0.38,  0.3 ,  0.54,  0.41,  0.37,  0.35,  0.37,  0.42,\n",
       "        0.39,  0.48,  0.33,  0.42,  0.35,  0.47,  0.31,  0.37,  0.5 ,\n",
       "        0.49,  0.48,  0.31,  0.49,  0.42,  0.49,  0.41,  0.36,  0.36,\n",
       "        0.29,  0.46,  0.31,  0.36,  0.31,  0.31,  0.36,  0.38,  0.24,\n",
       "        0.39,  0.34,  0.44,  0.38,  0.35,  0.3 ,  0.37,  0.46,  0.42,\n",
       "        0.49,  0.34,  0.42,  0.35,  0.35,  0.41,  0.41,  0.5 ,  0.42,\n",
       "        0.37,  0.33,  0.42,  0.39,  0.5 ,  0.49,  0.36,  0.57,  0.34,\n",
       "        0.38,  0.34,  0.42,  0.47,  0.41,  0.41,  0.31,  0.47,  0.5 ,\n",
       "        0.41,  0.38])"
      ]
     },
     "execution_count": 83,
     "metadata": {},
     "output_type": "execute_result"
    }
   ],
   "source": [
    "clf = LogisticRegression()\n",
    "clf.fit(X_FI_100, y)\n",
    "preds = clf.predict_proba(X_test_FI_100)[:,1]\n",
    "preds"
   ]
  },
  {
   "cell_type": "code",
   "execution_count": 84,
   "metadata": {
    "collapsed": false
   },
   "outputs": [
    {
     "data": {
      "text/html": [
       "<div>\n",
       "<table border=\"1\" class=\"dataframe\">\n",
       "  <thead>\n",
       "    <tr style=\"text-align: right;\">\n",
       "      <th></th>\n",
       "      <th>Disease-Drug</th>\n",
       "      <th>Class</th>\n",
       "      <th>Predicted_class</th>\n",
       "    </tr>\n",
       "  </thead>\n",
       "  <tbody>\n",
       "    <tr>\n",
       "      <th>0</th>\n",
       "      <td>gallbladder cancer-doxorubicin</td>\n",
       "      <td>1</td>\n",
       "      <td>0.409100</td>\n",
       "    </tr>\n",
       "    <tr>\n",
       "      <th>1</th>\n",
       "      <td>kaposi's sarcoma-doxorubicin</td>\n",
       "      <td>1</td>\n",
       "      <td>0.249728</td>\n",
       "    </tr>\n",
       "    <tr>\n",
       "      <th>2</th>\n",
       "      <td>gastric cancer-porfimer sodium</td>\n",
       "      <td>1</td>\n",
       "      <td>0.286641</td>\n",
       "    </tr>\n",
       "    <tr>\n",
       "      <th>3</th>\n",
       "      <td>allograft rejection-prednisone</td>\n",
       "      <td>1</td>\n",
       "      <td>0.341166</td>\n",
       "    </tr>\n",
       "    <tr>\n",
       "      <th>4</th>\n",
       "      <td>asthma-zafirlukast</td>\n",
       "      <td>1</td>\n",
       "      <td>0.388107</td>\n",
       "    </tr>\n",
       "  </tbody>\n",
       "</table>\n",
       "</div>"
      ],
      "text/plain": [
       "                     Disease-Drug  Class  Predicted_class\n",
       "0  gallbladder cancer-doxorubicin      1         0.409100\n",
       "1    kaposi's sarcoma-doxorubicin      1         0.249728\n",
       "2  gastric cancer-porfimer sodium      1         0.286641\n",
       "3  allograft rejection-prednisone      1         0.341166\n",
       "4              asthma-zafirlukast      1         0.388107"
      ]
     },
     "execution_count": 84,
     "metadata": {},
     "output_type": "execute_result"
    }
   ],
   "source": [
    "result = test_data[['Disease-Drug', 'Class']]\n",
    "result.loc[:, 'Predicted_class'] = preds\n",
    "result.to_csv('Features_Importances_with_probabilities.csv', index = False)\n",
    "result[:5]"
   ]
  },
  {
   "cell_type": "markdown",
   "metadata": {},
   "source": [
    "# For Features Eluminations"
   ]
  },
  {
   "cell_type": "code",
   "execution_count": 85,
   "metadata": {
    "collapsed": false
   },
   "outputs": [
    {
     "data": {
      "text/html": [
       "<div>\n",
       "<table border=\"1\" class=\"dataframe\">\n",
       "  <thead>\n",
       "    <tr style=\"text-align: right;\">\n",
       "      <th></th>\n",
       "      <th>Disease-Drug</th>\n",
       "      <th>Class</th>\n",
       "      <th>Predicted_class</th>\n",
       "    </tr>\n",
       "  </thead>\n",
       "  <tbody>\n",
       "    <tr>\n",
       "      <th>0</th>\n",
       "      <td>gallbladder cancer-doxorubicin</td>\n",
       "      <td>1</td>\n",
       "      <td>0.466029</td>\n",
       "    </tr>\n",
       "    <tr>\n",
       "      <th>1</th>\n",
       "      <td>kaposi's sarcoma-doxorubicin</td>\n",
       "      <td>1</td>\n",
       "      <td>0.236637</td>\n",
       "    </tr>\n",
       "    <tr>\n",
       "      <th>2</th>\n",
       "      <td>gastric cancer-porfimer sodium</td>\n",
       "      <td>1</td>\n",
       "      <td>0.278487</td>\n",
       "    </tr>\n",
       "    <tr>\n",
       "      <th>3</th>\n",
       "      <td>allograft rejection-prednisone</td>\n",
       "      <td>1</td>\n",
       "      <td>0.296384</td>\n",
       "    </tr>\n",
       "    <tr>\n",
       "      <th>4</th>\n",
       "      <td>asthma-zafirlukast</td>\n",
       "      <td>1</td>\n",
       "      <td>0.589642</td>\n",
       "    </tr>\n",
       "  </tbody>\n",
       "</table>\n",
       "</div>"
      ],
      "text/plain": [
       "                     Disease-Drug  Class  Predicted_class\n",
       "0  gallbladder cancer-doxorubicin      1         0.466029\n",
       "1    kaposi's sarcoma-doxorubicin      1         0.236637\n",
       "2  gastric cancer-porfimer sodium      1         0.278487\n",
       "3  allograft rejection-prednisone      1         0.296384\n",
       "4              asthma-zafirlukast      1         0.589642"
      ]
     },
     "execution_count": 85,
     "metadata": {},
     "output_type": "execute_result"
    }
   ],
   "source": [
    "clf = LogisticRegression()\n",
    "clf.fit(X_FE_100, y)\n",
    "preds = clf.predict_proba(X_test_FE_100)[:,1]\n",
    "result = test_data[['Disease-Drug', 'Class']]\n",
    "result.loc[:, 'Predicted_class'] = preds\n",
    "result.to_csv('Features_Eluminations_with_probabilities.csv', index = False)\n",
    "result[:5]"
   ]
  },
  {
   "cell_type": "markdown",
   "metadata": {},
   "source": [
    "# For PCA\n"
   ]
  },
  {
   "cell_type": "code",
   "execution_count": 86,
   "metadata": {
    "collapsed": false
   },
   "outputs": [
    {
     "data": {
      "text/html": [
       "<div>\n",
       "<table border=\"1\" class=\"dataframe\">\n",
       "  <thead>\n",
       "    <tr style=\"text-align: right;\">\n",
       "      <th></th>\n",
       "      <th>Disease-Drug</th>\n",
       "      <th>Class</th>\n",
       "      <th>Predicted_class</th>\n",
       "    </tr>\n",
       "  </thead>\n",
       "  <tbody>\n",
       "    <tr>\n",
       "      <th>0</th>\n",
       "      <td>gallbladder cancer-doxorubicin</td>\n",
       "      <td>1</td>\n",
       "      <td>0.450026</td>\n",
       "    </tr>\n",
       "    <tr>\n",
       "      <th>1</th>\n",
       "      <td>kaposi's sarcoma-doxorubicin</td>\n",
       "      <td>1</td>\n",
       "      <td>0.201261</td>\n",
       "    </tr>\n",
       "    <tr>\n",
       "      <th>2</th>\n",
       "      <td>gastric cancer-porfimer sodium</td>\n",
       "      <td>1</td>\n",
       "      <td>0.274687</td>\n",
       "    </tr>\n",
       "    <tr>\n",
       "      <th>3</th>\n",
       "      <td>allograft rejection-prednisone</td>\n",
       "      <td>1</td>\n",
       "      <td>0.336997</td>\n",
       "    </tr>\n",
       "    <tr>\n",
       "      <th>4</th>\n",
       "      <td>asthma-zafirlukast</td>\n",
       "      <td>1</td>\n",
       "      <td>0.593625</td>\n",
       "    </tr>\n",
       "  </tbody>\n",
       "</table>\n",
       "</div>"
      ],
      "text/plain": [
       "                     Disease-Drug  Class  Predicted_class\n",
       "0  gallbladder cancer-doxorubicin      1         0.450026\n",
       "1    kaposi's sarcoma-doxorubicin      1         0.201261\n",
       "2  gastric cancer-porfimer sodium      1         0.274687\n",
       "3  allograft rejection-prednisone      1         0.336997\n",
       "4              asthma-zafirlukast      1         0.593625"
      ]
     },
     "execution_count": 86,
     "metadata": {},
     "output_type": "execute_result"
    }
   ],
   "source": [
    "clf = LogisticRegression()\n",
    "clf.fit(X_PCA_100, y)\n",
    "preds = clf.predict_proba(X_test_PCA_100)[:,1]\n",
    "result = test_data[['Disease-Drug', 'Class']]\n",
    "result.loc[:, 'Predicted_class'] = preds\n",
    "result.to_csv('PCA_with_probabilities.csv', index = False)\n",
    "result[:5]"
   ]
  },
  {
   "cell_type": "code",
   "execution_count": null,
   "metadata": {
    "collapsed": true
   },
   "outputs": [],
   "source": []
  },
  {
   "cell_type": "code",
   "execution_count": null,
   "metadata": {
    "collapsed": true
   },
   "outputs": [],
   "source": []
  },
  {
   "cell_type": "code",
   "execution_count": null,
   "metadata": {
    "collapsed": true
   },
   "outputs": [],
   "source": []
  },
  {
   "cell_type": "markdown",
   "metadata": {},
   "source": [
    "# ONE CLASS PREDICTION"
   ]
  },
  {
   "cell_type": "markdown",
   "metadata": {},
   "source": [
    "## Read data "
   ]
  },
  {
   "cell_type": "code",
   "execution_count": 87,
   "metadata": {
    "collapsed": false
   },
   "outputs": [
    {
     "data": {
      "text/html": [
       "<div>\n",
       "<table border=\"1\" class=\"dataframe\">\n",
       "  <thead>\n",
       "    <tr style=\"text-align: right;\">\n",
       "      <th></th>\n",
       "      <th>Disease</th>\n",
       "      <th>Drug</th>\n",
       "      <th>sub1</th>\n",
       "      <th>sub2</th>\n",
       "      <th>sub3</th>\n",
       "      <th>sub4</th>\n",
       "      <th>sub5</th>\n",
       "      <th>sub6</th>\n",
       "      <th>sub7</th>\n",
       "      <th>sub8</th>\n",
       "      <th>...</th>\n",
       "      <th>hsa-mir-7-1</th>\n",
       "      <th>hsa-mir-7-2</th>\n",
       "      <th>hsa-mir-7-3</th>\n",
       "      <th>hsa-mir-708</th>\n",
       "      <th>hsa-mir-765</th>\n",
       "      <th>hsa-mir-9-1</th>\n",
       "      <th>hsa-mir-9-2</th>\n",
       "      <th>hsa-mir-9-3</th>\n",
       "      <th>hsa-mir-92a-1</th>\n",
       "      <th>hsa-mir-96</th>\n",
       "    </tr>\n",
       "  </thead>\n",
       "  <tbody>\n",
       "    <tr>\n",
       "      <th>0</th>\n",
       "      <td>acute lymphoblastic leukemia (all) (precursor ...</td>\n",
       "      <td>methotrexate</td>\n",
       "      <td>1</td>\n",
       "      <td>1</td>\n",
       "      <td>1</td>\n",
       "      <td>0</td>\n",
       "      <td>0</td>\n",
       "      <td>0</td>\n",
       "      <td>0</td>\n",
       "      <td>0</td>\n",
       "      <td>...</td>\n",
       "      <td>0</td>\n",
       "      <td>0</td>\n",
       "      <td>0</td>\n",
       "      <td>0</td>\n",
       "      <td>0</td>\n",
       "      <td>0</td>\n",
       "      <td>0</td>\n",
       "      <td>0</td>\n",
       "      <td>0</td>\n",
       "      <td>0</td>\n",
       "    </tr>\n",
       "    <tr>\n",
       "      <th>1</th>\n",
       "      <td>acute lymphoblastic leukemia (all) (precursor ...</td>\n",
       "      <td>prednisone</td>\n",
       "      <td>1</td>\n",
       "      <td>1</td>\n",
       "      <td>1</td>\n",
       "      <td>0</td>\n",
       "      <td>0</td>\n",
       "      <td>0</td>\n",
       "      <td>0</td>\n",
       "      <td>0</td>\n",
       "      <td>...</td>\n",
       "      <td>0</td>\n",
       "      <td>0</td>\n",
       "      <td>0</td>\n",
       "      <td>0</td>\n",
       "      <td>0</td>\n",
       "      <td>0</td>\n",
       "      <td>0</td>\n",
       "      <td>0</td>\n",
       "      <td>0</td>\n",
       "      <td>0</td>\n",
       "    </tr>\n",
       "    <tr>\n",
       "      <th>2</th>\n",
       "      <td>acute lymphoblastic leukemia (all) (precursor ...</td>\n",
       "      <td>nelarabine</td>\n",
       "      <td>1</td>\n",
       "      <td>1</td>\n",
       "      <td>0</td>\n",
       "      <td>0</td>\n",
       "      <td>0</td>\n",
       "      <td>0</td>\n",
       "      <td>0</td>\n",
       "      <td>0</td>\n",
       "      <td>...</td>\n",
       "      <td>0</td>\n",
       "      <td>0</td>\n",
       "      <td>0</td>\n",
       "      <td>0</td>\n",
       "      <td>0</td>\n",
       "      <td>0</td>\n",
       "      <td>0</td>\n",
       "      <td>0</td>\n",
       "      <td>0</td>\n",
       "      <td>0</td>\n",
       "    </tr>\n",
       "  </tbody>\n",
       "</table>\n",
       "<p>3 rows × 4047 columns</p>\n",
       "</div>"
      ],
      "text/plain": [
       "                                             Disease          Drug  sub1  \\\n",
       "0  acute lymphoblastic leukemia (all) (precursor ...  methotrexate     1   \n",
       "1  acute lymphoblastic leukemia (all) (precursor ...    prednisone     1   \n",
       "2  acute lymphoblastic leukemia (all) (precursor ...    nelarabine     1   \n",
       "\n",
       "   sub2  sub3  sub4  sub5  sub6  sub7  sub8     ...      hsa-mir-7-1  \\\n",
       "0     1     1     0     0     0     0     0     ...                0   \n",
       "1     1     1     0     0     0     0     0     ...                0   \n",
       "2     1     0     0     0     0     0     0     ...                0   \n",
       "\n",
       "   hsa-mir-7-2  hsa-mir-7-3  hsa-mir-708  hsa-mir-765  hsa-mir-9-1  \\\n",
       "0            0            0            0            0            0   \n",
       "1            0            0            0            0            0   \n",
       "2            0            0            0            0            0   \n",
       "\n",
       "   hsa-mir-9-2  hsa-mir-9-3  hsa-mir-92a-1  hsa-mir-96  \n",
       "0            0            0              0           0  \n",
       "1            0            0              0           0  \n",
       "2            0            0              0           0  \n",
       "\n",
       "[3 rows x 4047 columns]"
      ]
     },
     "execution_count": 87,
     "metadata": {},
     "output_type": "execute_result"
    }
   ],
   "source": [
    "# read excel file with pandas\n",
    "train_data = pd.read_excel(\"4.xlsx\")\n",
    "train_data[:3]"
   ]
  },
  {
   "cell_type": "code",
   "execution_count": 88,
   "metadata": {
    "collapsed": false
   },
   "outputs": [
    {
     "data": {
      "text/plain": [
       "638"
      ]
     },
     "execution_count": 88,
     "metadata": {},
     "output_type": "execute_result"
    }
   ],
   "source": [
    "len(train_data)"
   ]
  },
  {
   "cell_type": "code",
   "execution_count": 89,
   "metadata": {
    "collapsed": false
   },
   "outputs": [
    {
     "data": {
      "text/plain": [
       "Index([      u'Disease',          u'Drug',          u'sub1',          u'sub2',\n",
       "                u'sub3',          u'sub4',          u'sub5',          u'sub6',\n",
       "                u'sub7',          u'sub8', \n",
       "       ...\n",
       "         u'hsa-mir-7-1',   u'hsa-mir-7-2',   u'hsa-mir-7-3',   u'hsa-mir-708',\n",
       "         u'hsa-mir-765',   u'hsa-mir-9-1',   u'hsa-mir-9-2',   u'hsa-mir-9-3',\n",
       "       u'hsa-mir-92a-1',    u'hsa-mir-96'],\n",
       "      dtype='object', length=4047)"
      ]
     },
     "execution_count": 89,
     "metadata": {},
     "output_type": "execute_result"
    }
   ],
   "source": [
    "# display names of columns\n",
    "col = train_data.columns\n",
    "col"
   ]
  },
  {
   "cell_type": "code",
   "execution_count": 90,
   "metadata": {
    "collapsed": false
   },
   "outputs": [
    {
     "data": {
      "text/plain": [
       "4047"
      ]
     },
     "execution_count": 90,
     "metadata": {},
     "output_type": "execute_result"
    }
   ],
   "source": [
    "# display number of columns\n",
    "len(col)"
   ]
  },
  {
   "cell_type": "code",
   "execution_count": 91,
   "metadata": {
    "collapsed": false
   },
   "outputs": [
    {
     "data": {
      "text/html": [
       "<div>\n",
       "<table border=\"1\" class=\"dataframe\">\n",
       "  <thead>\n",
       "    <tr style=\"text-align: right;\">\n",
       "      <th></th>\n",
       "      <th>Disease</th>\n",
       "      <th>Drug</th>\n",
       "      <th>sub1</th>\n",
       "      <th>sub2</th>\n",
       "      <th>sub3</th>\n",
       "      <th>sub4</th>\n",
       "      <th>sub10</th>\n",
       "      <th>sub11</th>\n",
       "      <th>sub12</th>\n",
       "      <th>sub13</th>\n",
       "      <th>...</th>\n",
       "      <th>hsa-mir-630</th>\n",
       "      <th>hsa-mir-7-1</th>\n",
       "      <th>hsa-mir-7-2</th>\n",
       "      <th>hsa-mir-7-3</th>\n",
       "      <th>hsa-mir-765</th>\n",
       "      <th>hsa-mir-9-1</th>\n",
       "      <th>hsa-mir-9-2</th>\n",
       "      <th>hsa-mir-9-3</th>\n",
       "      <th>hsa-mir-92a-1</th>\n",
       "      <th>hsa-mir-96</th>\n",
       "    </tr>\n",
       "  </thead>\n",
       "  <tbody>\n",
       "    <tr>\n",
       "      <th>0</th>\n",
       "      <td>acute lymphoblastic leukemia (all) (precursor ...</td>\n",
       "      <td>methotrexate</td>\n",
       "      <td>1</td>\n",
       "      <td>1</td>\n",
       "      <td>1</td>\n",
       "      <td>0</td>\n",
       "      <td>1</td>\n",
       "      <td>1</td>\n",
       "      <td>1</td>\n",
       "      <td>1</td>\n",
       "      <td>...</td>\n",
       "      <td>0</td>\n",
       "      <td>0</td>\n",
       "      <td>0</td>\n",
       "      <td>0</td>\n",
       "      <td>0</td>\n",
       "      <td>0</td>\n",
       "      <td>0</td>\n",
       "      <td>0</td>\n",
       "      <td>0</td>\n",
       "      <td>0</td>\n",
       "    </tr>\n",
       "    <tr>\n",
       "      <th>1</th>\n",
       "      <td>acute lymphoblastic leukemia (all) (precursor ...</td>\n",
       "      <td>prednisone</td>\n",
       "      <td>1</td>\n",
       "      <td>1</td>\n",
       "      <td>1</td>\n",
       "      <td>0</td>\n",
       "      <td>1</td>\n",
       "      <td>1</td>\n",
       "      <td>1</td>\n",
       "      <td>1</td>\n",
       "      <td>...</td>\n",
       "      <td>0</td>\n",
       "      <td>0</td>\n",
       "      <td>0</td>\n",
       "      <td>0</td>\n",
       "      <td>0</td>\n",
       "      <td>0</td>\n",
       "      <td>0</td>\n",
       "      <td>0</td>\n",
       "      <td>0</td>\n",
       "      <td>0</td>\n",
       "    </tr>\n",
       "    <tr>\n",
       "      <th>2</th>\n",
       "      <td>acute lymphoblastic leukemia (all) (precursor ...</td>\n",
       "      <td>nelarabine</td>\n",
       "      <td>1</td>\n",
       "      <td>1</td>\n",
       "      <td>0</td>\n",
       "      <td>0</td>\n",
       "      <td>1</td>\n",
       "      <td>1</td>\n",
       "      <td>1</td>\n",
       "      <td>0</td>\n",
       "      <td>...</td>\n",
       "      <td>0</td>\n",
       "      <td>0</td>\n",
       "      <td>0</td>\n",
       "      <td>0</td>\n",
       "      <td>0</td>\n",
       "      <td>0</td>\n",
       "      <td>0</td>\n",
       "      <td>0</td>\n",
       "      <td>0</td>\n",
       "      <td>0</td>\n",
       "    </tr>\n",
       "  </tbody>\n",
       "</table>\n",
       "<p>3 rows × 1649 columns</p>\n",
       "</div>"
      ],
      "text/plain": [
       "                                             Disease          Drug  sub1  \\\n",
       "0  acute lymphoblastic leukemia (all) (precursor ...  methotrexate     1   \n",
       "1  acute lymphoblastic leukemia (all) (precursor ...    prednisone     1   \n",
       "2  acute lymphoblastic leukemia (all) (precursor ...    nelarabine     1   \n",
       "\n",
       "   sub2  sub3  sub4  sub10  sub11  sub12  sub13     ...      hsa-mir-630  \\\n",
       "0     1     1     0      1      1      1      1     ...                0   \n",
       "1     1     1     0      1      1      1      1     ...                0   \n",
       "2     1     0     0      1      1      1      0     ...                0   \n",
       "\n",
       "   hsa-mir-7-1  hsa-mir-7-2  hsa-mir-7-3  hsa-mir-765  hsa-mir-9-1  \\\n",
       "0            0            0            0            0            0   \n",
       "1            0            0            0            0            0   \n",
       "2            0            0            0            0            0   \n",
       "\n",
       "   hsa-mir-9-2  hsa-mir-9-3  hsa-mir-92a-1  hsa-mir-96  \n",
       "0            0            0              0           0  \n",
       "1            0            0              0           0  \n",
       "2            0            0              0           0  \n",
       "\n",
       "[3 rows x 1649 columns]"
      ]
     },
     "execution_count": 91,
     "metadata": {},
     "output_type": "execute_result"
    }
   ],
   "source": [
    "# delete columns  with only 0 values\n",
    "train_data = train_data.loc[:, (train_data != 0).any(axis=0)]\n",
    "train_data[:3]"
   ]
  },
  {
   "cell_type": "code",
   "execution_count": 92,
   "metadata": {
    "collapsed": false
   },
   "outputs": [
    {
     "data": {
      "text/plain": [
       "1649"
      ]
     },
     "execution_count": 92,
     "metadata": {},
     "output_type": "execute_result"
    }
   ],
   "source": [
    "# display number of columns\n",
    "col = train_data.columns\n",
    "len(col)"
   ]
  },
  {
   "cell_type": "markdown",
   "metadata": {},
   "source": [
    "# Extract Train and Test data"
   ]
  },
  {
   "cell_type": "code",
   "execution_count": 93,
   "metadata": {
    "collapsed": false
   },
   "outputs": [
    {
     "data": {
      "text/html": [
       "<div>\n",
       "<table border=\"1\" class=\"dataframe\">\n",
       "  <thead>\n",
       "    <tr style=\"text-align: right;\">\n",
       "      <th></th>\n",
       "      <th>Disease</th>\n",
       "      <th>Drug</th>\n",
       "      <th>sub1</th>\n",
       "      <th>sub2</th>\n",
       "      <th>sub3</th>\n",
       "      <th>sub4</th>\n",
       "      <th>sub10</th>\n",
       "      <th>sub11</th>\n",
       "      <th>sub12</th>\n",
       "      <th>sub13</th>\n",
       "      <th>...</th>\n",
       "      <th>hsa-mir-630</th>\n",
       "      <th>hsa-mir-7-1</th>\n",
       "      <th>hsa-mir-7-2</th>\n",
       "      <th>hsa-mir-7-3</th>\n",
       "      <th>hsa-mir-765</th>\n",
       "      <th>hsa-mir-9-1</th>\n",
       "      <th>hsa-mir-9-2</th>\n",
       "      <th>hsa-mir-9-3</th>\n",
       "      <th>hsa-mir-92a-1</th>\n",
       "      <th>hsa-mir-96</th>\n",
       "    </tr>\n",
       "  </thead>\n",
       "  <tbody>\n",
       "    <tr>\n",
       "      <th>0</th>\n",
       "      <td>hepatocellular carcinoma</td>\n",
       "      <td>doxorubicin</td>\n",
       "      <td>1</td>\n",
       "      <td>1</td>\n",
       "      <td>1</td>\n",
       "      <td>0</td>\n",
       "      <td>1</td>\n",
       "      <td>1</td>\n",
       "      <td>1</td>\n",
       "      <td>1</td>\n",
       "      <td>...</td>\n",
       "      <td>0</td>\n",
       "      <td>0</td>\n",
       "      <td>0</td>\n",
       "      <td>0</td>\n",
       "      <td>0</td>\n",
       "      <td>0</td>\n",
       "      <td>0</td>\n",
       "      <td>0</td>\n",
       "      <td>0</td>\n",
       "      <td>1</td>\n",
       "    </tr>\n",
       "    <tr>\n",
       "      <th>1</th>\n",
       "      <td>esophageal cancer</td>\n",
       "      <td>porfimer sodium</td>\n",
       "      <td>1</td>\n",
       "      <td>1</td>\n",
       "      <td>1</td>\n",
       "      <td>1</td>\n",
       "      <td>1</td>\n",
       "      <td>1</td>\n",
       "      <td>1</td>\n",
       "      <td>1</td>\n",
       "      <td>...</td>\n",
       "      <td>0</td>\n",
       "      <td>0</td>\n",
       "      <td>0</td>\n",
       "      <td>0</td>\n",
       "      <td>0</td>\n",
       "      <td>0</td>\n",
       "      <td>0</td>\n",
       "      <td>0</td>\n",
       "      <td>0</td>\n",
       "      <td>0</td>\n",
       "    </tr>\n",
       "    <tr>\n",
       "      <th>2</th>\n",
       "      <td>oral cancer</td>\n",
       "      <td>docetaxel</td>\n",
       "      <td>1</td>\n",
       "      <td>1</td>\n",
       "      <td>1</td>\n",
       "      <td>1</td>\n",
       "      <td>1</td>\n",
       "      <td>1</td>\n",
       "      <td>1</td>\n",
       "      <td>1</td>\n",
       "      <td>...</td>\n",
       "      <td>0</td>\n",
       "      <td>0</td>\n",
       "      <td>0</td>\n",
       "      <td>0</td>\n",
       "      <td>0</td>\n",
       "      <td>0</td>\n",
       "      <td>0</td>\n",
       "      <td>0</td>\n",
       "      <td>0</td>\n",
       "      <td>0</td>\n",
       "    </tr>\n",
       "    <tr>\n",
       "      <th>3</th>\n",
       "      <td>prostate cancer</td>\n",
       "      <td>flutamide</td>\n",
       "      <td>1</td>\n",
       "      <td>1</td>\n",
       "      <td>0</td>\n",
       "      <td>0</td>\n",
       "      <td>1</td>\n",
       "      <td>1</td>\n",
       "      <td>1</td>\n",
       "      <td>0</td>\n",
       "      <td>...</td>\n",
       "      <td>0</td>\n",
       "      <td>0</td>\n",
       "      <td>0</td>\n",
       "      <td>0</td>\n",
       "      <td>0</td>\n",
       "      <td>0</td>\n",
       "      <td>0</td>\n",
       "      <td>0</td>\n",
       "      <td>0</td>\n",
       "      <td>0</td>\n",
       "    </tr>\n",
       "    <tr>\n",
       "      <th>4</th>\n",
       "      <td>oral cancer</td>\n",
       "      <td>docetaxel</td>\n",
       "      <td>1</td>\n",
       "      <td>1</td>\n",
       "      <td>1</td>\n",
       "      <td>1</td>\n",
       "      <td>1</td>\n",
       "      <td>1</td>\n",
       "      <td>1</td>\n",
       "      <td>1</td>\n",
       "      <td>...</td>\n",
       "      <td>0</td>\n",
       "      <td>0</td>\n",
       "      <td>0</td>\n",
       "      <td>0</td>\n",
       "      <td>0</td>\n",
       "      <td>0</td>\n",
       "      <td>0</td>\n",
       "      <td>0</td>\n",
       "      <td>0</td>\n",
       "      <td>0</td>\n",
       "    </tr>\n",
       "    <tr>\n",
       "      <th>5</th>\n",
       "      <td>breast cancer</td>\n",
       "      <td>tamoxifen</td>\n",
       "      <td>1</td>\n",
       "      <td>1</td>\n",
       "      <td>1</td>\n",
       "      <td>0</td>\n",
       "      <td>1</td>\n",
       "      <td>1</td>\n",
       "      <td>1</td>\n",
       "      <td>1</td>\n",
       "      <td>...</td>\n",
       "      <td>0</td>\n",
       "      <td>0</td>\n",
       "      <td>0</td>\n",
       "      <td>0</td>\n",
       "      <td>0</td>\n",
       "      <td>0</td>\n",
       "      <td>0</td>\n",
       "      <td>0</td>\n",
       "      <td>0</td>\n",
       "      <td>0</td>\n",
       "    </tr>\n",
       "    <tr>\n",
       "      <th>6</th>\n",
       "      <td>breast cancer</td>\n",
       "      <td>letrozole</td>\n",
       "      <td>1</td>\n",
       "      <td>1</td>\n",
       "      <td>0</td>\n",
       "      <td>0</td>\n",
       "      <td>1</td>\n",
       "      <td>1</td>\n",
       "      <td>1</td>\n",
       "      <td>1</td>\n",
       "      <td>...</td>\n",
       "      <td>0</td>\n",
       "      <td>0</td>\n",
       "      <td>0</td>\n",
       "      <td>0</td>\n",
       "      <td>0</td>\n",
       "      <td>0</td>\n",
       "      <td>0</td>\n",
       "      <td>0</td>\n",
       "      <td>0</td>\n",
       "      <td>0</td>\n",
       "    </tr>\n",
       "    <tr>\n",
       "      <th>7</th>\n",
       "      <td>gastric cancer</td>\n",
       "      <td>etoposide</td>\n",
       "      <td>1</td>\n",
       "      <td>1</td>\n",
       "      <td>1</td>\n",
       "      <td>1</td>\n",
       "      <td>1</td>\n",
       "      <td>1</td>\n",
       "      <td>1</td>\n",
       "      <td>1</td>\n",
       "      <td>...</td>\n",
       "      <td>0</td>\n",
       "      <td>0</td>\n",
       "      <td>0</td>\n",
       "      <td>0</td>\n",
       "      <td>0</td>\n",
       "      <td>0</td>\n",
       "      <td>0</td>\n",
       "      <td>0</td>\n",
       "      <td>0</td>\n",
       "      <td>0</td>\n",
       "    </tr>\n",
       "    <tr>\n",
       "      <th>8</th>\n",
       "      <td>breast cancer</td>\n",
       "      <td>tamoxifen</td>\n",
       "      <td>1</td>\n",
       "      <td>1</td>\n",
       "      <td>1</td>\n",
       "      <td>0</td>\n",
       "      <td>1</td>\n",
       "      <td>1</td>\n",
       "      <td>1</td>\n",
       "      <td>1</td>\n",
       "      <td>...</td>\n",
       "      <td>0</td>\n",
       "      <td>0</td>\n",
       "      <td>0</td>\n",
       "      <td>0</td>\n",
       "      <td>0</td>\n",
       "      <td>1</td>\n",
       "      <td>1</td>\n",
       "      <td>1</td>\n",
       "      <td>0</td>\n",
       "      <td>0</td>\n",
       "    </tr>\n",
       "    <tr>\n",
       "      <th>9</th>\n",
       "      <td>gastric cancer</td>\n",
       "      <td>porfimer sodium</td>\n",
       "      <td>1</td>\n",
       "      <td>1</td>\n",
       "      <td>1</td>\n",
       "      <td>1</td>\n",
       "      <td>1</td>\n",
       "      <td>1</td>\n",
       "      <td>1</td>\n",
       "      <td>1</td>\n",
       "      <td>...</td>\n",
       "      <td>0</td>\n",
       "      <td>0</td>\n",
       "      <td>0</td>\n",
       "      <td>0</td>\n",
       "      <td>0</td>\n",
       "      <td>0</td>\n",
       "      <td>0</td>\n",
       "      <td>0</td>\n",
       "      <td>0</td>\n",
       "      <td>0</td>\n",
       "    </tr>\n",
       "  </tbody>\n",
       "</table>\n",
       "<p>10 rows × 1649 columns</p>\n",
       "</div>"
      ],
      "text/plain": [
       "                    Disease             Drug  sub1  sub2  sub3  sub4  sub10  \\\n",
       "0  hepatocellular carcinoma      doxorubicin     1     1     1     0      1   \n",
       "1         esophageal cancer  porfimer sodium     1     1     1     1      1   \n",
       "2               oral cancer        docetaxel     1     1     1     1      1   \n",
       "3           prostate cancer        flutamide     1     1     0     0      1   \n",
       "4               oral cancer        docetaxel     1     1     1     1      1   \n",
       "5             breast cancer        tamoxifen     1     1     1     0      1   \n",
       "6             breast cancer        letrozole     1     1     0     0      1   \n",
       "7            gastric cancer        etoposide     1     1     1     1      1   \n",
       "8             breast cancer        tamoxifen     1     1     1     0      1   \n",
       "9            gastric cancer  porfimer sodium     1     1     1     1      1   \n",
       "\n",
       "   sub11  sub12  sub13     ...      hsa-mir-630  hsa-mir-7-1  hsa-mir-7-2  \\\n",
       "0      1      1      1     ...                0            0            0   \n",
       "1      1      1      1     ...                0            0            0   \n",
       "2      1      1      1     ...                0            0            0   \n",
       "3      1      1      0     ...                0            0            0   \n",
       "4      1      1      1     ...                0            0            0   \n",
       "5      1      1      1     ...                0            0            0   \n",
       "6      1      1      1     ...                0            0            0   \n",
       "7      1      1      1     ...                0            0            0   \n",
       "8      1      1      1     ...                0            0            0   \n",
       "9      1      1      1     ...                0            0            0   \n",
       "\n",
       "   hsa-mir-7-3  hsa-mir-765  hsa-mir-9-1  hsa-mir-9-2  hsa-mir-9-3  \\\n",
       "0            0            0            0            0            0   \n",
       "1            0            0            0            0            0   \n",
       "2            0            0            0            0            0   \n",
       "3            0            0            0            0            0   \n",
       "4            0            0            0            0            0   \n",
       "5            0            0            0            0            0   \n",
       "6            0            0            0            0            0   \n",
       "7            0            0            0            0            0   \n",
       "8            0            0            1            1            1   \n",
       "9            0            0            0            0            0   \n",
       "\n",
       "   hsa-mir-92a-1  hsa-mir-96  \n",
       "0              0           1  \n",
       "1              0           0  \n",
       "2              0           0  \n",
       "3              0           0  \n",
       "4              0           0  \n",
       "5              0           0  \n",
       "6              0           0  \n",
       "7              0           0  \n",
       "8              0           0  \n",
       "9              0           0  \n",
       "\n",
       "[10 rows x 1649 columns]"
      ]
     },
     "execution_count": 93,
     "metadata": {},
     "output_type": "execute_result"
    }
   ],
   "source": [
    "# randomly select 200 rows for testing\n",
    "random_index = random.sample(train_data.index, 200)\n",
    "train_data_200 = train_data.ix[random_index]\n",
    "train_data_200.index = range(len(train_data_200))\n",
    "train_data_200[:10]"
   ]
  },
  {
   "cell_type": "code",
   "execution_count": 94,
   "metadata": {
    "collapsed": false
   },
   "outputs": [
    {
     "data": {
      "text/plain": [
       "200"
      ]
     },
     "execution_count": 94,
     "metadata": {},
     "output_type": "execute_result"
    }
   ],
   "source": [
    "len(train_data_200)"
   ]
  },
  {
   "cell_type": "code",
   "execution_count": 95,
   "metadata": {
    "collapsed": false
   },
   "outputs": [
    {
     "data": {
      "text/plain": [
       "438"
      ]
     },
     "execution_count": 95,
     "metadata": {},
     "output_type": "execute_result"
    }
   ],
   "source": [
    "train_data_400 = train_data.drop(random_index)\n",
    "train_data_400.index = range(len(train_data_400))\n",
    "len(train_data_400)"
   ]
  },
  {
   "cell_type": "code",
   "execution_count": 96,
   "metadata": {
    "collapsed": false
   },
   "outputs": [
    {
     "data": {
      "text/plain": [
       "array([[1, 1, 1, ..., 0, 0, 0],\n",
       "       [1, 1, 0, ..., 0, 0, 0],\n",
       "       [1, 1, 1, ..., 0, 0, 0],\n",
       "       ..., \n",
       "       [1, 1, 1, ..., 0, 0, 0],\n",
       "       [1, 1, 0, ..., 0, 0, 0],\n",
       "       [1, 0, 0, ..., 0, 0, 0]], dtype=int64)"
      ]
     },
     "execution_count": 96,
     "metadata": {},
     "output_type": "execute_result"
    }
   ],
   "source": [
    "X_train = train_data_400[col[2:]].values\n",
    "X_train"
   ]
  },
  {
   "cell_type": "code",
   "execution_count": 97,
   "metadata": {
    "collapsed": false
   },
   "outputs": [
    {
     "data": {
      "text/plain": [
       "array([[1, 1, 1, ..., 0, 0, 1],\n",
       "       [1, 1, 1, ..., 0, 0, 0],\n",
       "       [1, 1, 1, ..., 0, 0, 0],\n",
       "       ..., \n",
       "       [1, 1, 1, ..., 0, 0, 0],\n",
       "       [1, 1, 1, ..., 0, 0, 0],\n",
       "       [1, 1, 1, ..., 0, 0, 0]], dtype=int64)"
      ]
     },
     "execution_count": 97,
     "metadata": {},
     "output_type": "execute_result"
    }
   ],
   "source": [
    "X_test = train_data_200[col[2:]].values\n",
    "X_test"
   ]
  },
  {
   "cell_type": "markdown",
   "metadata": {},
   "source": [
    "# One Class SVM model building and evaluation with all features"
   ]
  },
  {
   "cell_type": "code",
   "execution_count": 98,
   "metadata": {
    "collapsed": false
   },
   "outputs": [
    {
     "name": "stdout",
     "output_type": "stream",
     "text": [
      "Test Accuracy =  0.96\n",
      "Best parameters  (10, 'sigmoid', 0.01)\n"
     ]
    }
   ],
   "source": [
    "a = 0.0\n",
    "p = []\n",
    "for t in [0.0001, 0.001, 0.01, 0.1, 1, 10]: \n",
    "    for k in ['linear', 'poly', 'rbf', 'sigmoid']:\n",
    "        for g in [0.0001, 0.001, 0.01, 0.1, 1]:\n",
    "            #print (t,k,g)\n",
    "            clf = svm.OneClassSVM(tol=t, nu=0.1, kernel=k, gamma=g, verbose=0, \n",
    "                                                          random_state=0)\n",
    "            clf.fit(X_train)\n",
    "            y_pred_train = clf.predict(X_train)\n",
    "            y_pred_test = clf.predict(X_test)\n",
    "            n_error_train = y_pred_train[y_pred_train == 1].size\n",
    "            n_error_test = y_pred_test[y_pred_test == 1].size\n",
    "            #print float(n_error_train)/float(len(X_train)), float(n_error_test)/float(len(X_test))\n",
    "            if float(n_error_test)/float(len(X_test)) > a:\n",
    "                a = float(n_error_test)/float(len(X_test))\n",
    "                p.append((t,k,g))\n",
    "print 'Test Accuracy = ', a\n",
    "print 'Best parameters ', p[len(p)-1]"
   ]
  },
  {
   "cell_type": "markdown",
   "metadata": {},
   "source": [
    "# One Class SVM model with PCA for dimensionaly reduction (100)"
   ]
  },
  {
   "cell_type": "code",
   "execution_count": 99,
   "metadata": {
    "collapsed": false
   },
   "outputs": [
    {
     "data": {
      "text/html": [
       "<div>\n",
       "<table border=\"1\" class=\"dataframe\">\n",
       "  <thead>\n",
       "    <tr style=\"text-align: right;\">\n",
       "      <th></th>\n",
       "      <th>0</th>\n",
       "      <th>1</th>\n",
       "      <th>2</th>\n",
       "      <th>3</th>\n",
       "      <th>4</th>\n",
       "      <th>5</th>\n",
       "      <th>6</th>\n",
       "      <th>7</th>\n",
       "      <th>8</th>\n",
       "      <th>9</th>\n",
       "      <th>...</th>\n",
       "      <th>92</th>\n",
       "      <th>93</th>\n",
       "      <th>94</th>\n",
       "      <th>95</th>\n",
       "      <th>96</th>\n",
       "      <th>97</th>\n",
       "      <th>98</th>\n",
       "      <th>99</th>\n",
       "      <th>Disease</th>\n",
       "      <th>Drug</th>\n",
       "    </tr>\n",
       "  </thead>\n",
       "  <tbody>\n",
       "    <tr>\n",
       "      <th>0</th>\n",
       "      <td>2.471888</td>\n",
       "      <td>-13.592664</td>\n",
       "      <td>-3.189350</td>\n",
       "      <td>0.895049</td>\n",
       "      <td>-0.321357</td>\n",
       "      <td>0.790141</td>\n",
       "      <td>0.152635</td>\n",
       "      <td>-0.787517</td>\n",
       "      <td>0.568980</td>\n",
       "      <td>-0.783676</td>\n",
       "      <td>...</td>\n",
       "      <td>0.097334</td>\n",
       "      <td>0.042560</td>\n",
       "      <td>-0.185125</td>\n",
       "      <td>-0.107797</td>\n",
       "      <td>-0.141498</td>\n",
       "      <td>0.197533</td>\n",
       "      <td>-0.114232</td>\n",
       "      <td>-0.064543</td>\n",
       "      <td>hepatocellular carcinoma</td>\n",
       "      <td>doxorubicin</td>\n",
       "    </tr>\n",
       "    <tr>\n",
       "      <th>1</th>\n",
       "      <td>-4.955039</td>\n",
       "      <td>2.304024</td>\n",
       "      <td>-0.567610</td>\n",
       "      <td>2.017806</td>\n",
       "      <td>-6.238570</td>\n",
       "      <td>4.528305</td>\n",
       "      <td>4.542774</td>\n",
       "      <td>2.911332</td>\n",
       "      <td>2.037902</td>\n",
       "      <td>-1.020637</td>\n",
       "      <td>...</td>\n",
       "      <td>-0.017609</td>\n",
       "      <td>0.063558</td>\n",
       "      <td>-0.236300</td>\n",
       "      <td>-0.208707</td>\n",
       "      <td>0.066338</td>\n",
       "      <td>-0.087156</td>\n",
       "      <td>0.138042</td>\n",
       "      <td>0.119959</td>\n",
       "      <td>esophageal cancer</td>\n",
       "      <td>porfimer sodium</td>\n",
       "    </tr>\n",
       "    <tr>\n",
       "      <th>2</th>\n",
       "      <td>8.153192</td>\n",
       "      <td>2.376555</td>\n",
       "      <td>-0.682259</td>\n",
       "      <td>-2.419119</td>\n",
       "      <td>-1.593602</td>\n",
       "      <td>-0.651689</td>\n",
       "      <td>-0.067578</td>\n",
       "      <td>-0.579909</td>\n",
       "      <td>0.358635</td>\n",
       "      <td>-0.112027</td>\n",
       "      <td>...</td>\n",
       "      <td>-0.132917</td>\n",
       "      <td>-0.084022</td>\n",
       "      <td>0.207144</td>\n",
       "      <td>0.111259</td>\n",
       "      <td>0.131847</td>\n",
       "      <td>-0.183453</td>\n",
       "      <td>0.174929</td>\n",
       "      <td>0.052807</td>\n",
       "      <td>oral cancer</td>\n",
       "      <td>docetaxel</td>\n",
       "    </tr>\n",
       "  </tbody>\n",
       "</table>\n",
       "<p>3 rows × 102 columns</p>\n",
       "</div>"
      ],
      "text/plain": [
       "          0          1         2         3         4         5         6  \\\n",
       "0  2.471888 -13.592664 -3.189350  0.895049 -0.321357  0.790141  0.152635   \n",
       "1 -4.955039   2.304024 -0.567610  2.017806 -6.238570  4.528305  4.542774   \n",
       "2  8.153192   2.376555 -0.682259 -2.419119 -1.593602 -0.651689 -0.067578   \n",
       "\n",
       "          7         8         9       ...               92        93  \\\n",
       "0 -0.787517  0.568980 -0.783676       ...         0.097334  0.042560   \n",
       "1  2.911332  2.037902 -1.020637       ...        -0.017609  0.063558   \n",
       "2 -0.579909  0.358635 -0.112027       ...        -0.132917 -0.084022   \n",
       "\n",
       "         94        95        96        97        98        99  \\\n",
       "0 -0.185125 -0.107797 -0.141498  0.197533 -0.114232 -0.064543   \n",
       "1 -0.236300 -0.208707  0.066338 -0.087156  0.138042  0.119959   \n",
       "2  0.207144  0.111259  0.131847 -0.183453  0.174929  0.052807   \n",
       "\n",
       "                    Disease             Drug  \n",
       "0  hepatocellular carcinoma      doxorubicin  \n",
       "1         esophageal cancer  porfimer sodium  \n",
       "2               oral cancer        docetaxel  \n",
       "\n",
       "[3 rows x 102 columns]"
      ]
     },
     "execution_count": 99,
     "metadata": {},
     "output_type": "execute_result"
    }
   ],
   "source": [
    "# use PCA algorithm for features selection\n",
    "nf = 100\n",
    "pca = PCA(n_components=nf)\n",
    "\n",
    "# X is the matrix transposed (n samples on the rows, m features on the columns)\n",
    "pca.fit(X_train)\n",
    "\n",
    "X_train_PCA = pca.transform(X_train)\n",
    "X_test_PCA = pca.transform(X_test)\n",
    "\n",
    "X_train_PCA_df = pd.DataFrame(X_train_PCA)\n",
    "X_train_PCA_df.loc[:, 'Disease'] = train_data_400.loc[:, 'Disease']\n",
    "X_train_PCA_df.loc[:, 'Drug'] = train_data_400.loc[:, 'Drug']\n",
    "X_train_PCA_df.to_csv('Train_data_PCA_100_1_class.csv', index = False)\n",
    "X_train_PCA_df[:3]\n",
    "\n",
    "X_test_PCA_df = pd.DataFrame(X_test_PCA)\n",
    "X_test_PCA_df.loc[:, 'Disease'] = train_data_200.loc[:, 'Disease']\n",
    "X_test_PCA_df.loc[:, 'Drug'] = train_data_200.loc[:, 'Drug']\n",
    "X_test_PCA_df.to_csv('Test_data_PCA_100_1_class.csv', index = False)\n",
    "X_test_PCA_df[:3]"
   ]
  },
  {
   "cell_type": "code",
   "execution_count": 100,
   "metadata": {
    "collapsed": false
   },
   "outputs": [
    {
     "name": "stdout",
     "output_type": "stream",
     "text": [
      "Test Accuracy =  0.965\n",
      "Best parameters  (1, 'sigmoid', 1)\n"
     ]
    }
   ],
   "source": [
    "a = 0.0\n",
    "p = []\n",
    "for t in [0.0001, 0.001, 0.01, 0.1, 1, 10]: \n",
    "    for k in ['linear', 'poly', 'rbf', 'sigmoid']:\n",
    "        for g in [0.0001, 0.001, 0.01, 0.1, 1]:\n",
    "            #print (t,k,g)\n",
    "            clf = svm.OneClassSVM(tol=t, nu=0.1, kernel=k, gamma=g, verbose=0, \n",
    "                                                          random_state=0)\n",
    "            clf.fit(X_train_PCA)\n",
    "            y_pred_train = clf.predict(X_train_PCA)\n",
    "            y_pred_test = clf.predict(X_test_PCA)\n",
    "            n_error_train = y_pred_train[y_pred_train == 1].size\n",
    "            n_error_test = y_pred_test[y_pred_test == 1].size\n",
    "            #print float(n_error_train)/float(len(X_train)), float(n_error_test)/float(len(X_test))\n",
    "            if float(n_error_test)/float(len(X_test)) > a:\n",
    "                a = float(n_error_test)/float(len(X_test))\n",
    "                p.append((t,k,g))\n",
    "print 'Test Accuracy = ', a\n",
    "print 'Best parameters ', p[len(p)-1]"
   ]
  },
  {
   "cell_type": "markdown",
   "metadata": {},
   "source": [
    "# One Class SVM model with PCA for dimensionaly reduction (20)"
   ]
  },
  {
   "cell_type": "code",
   "execution_count": 101,
   "metadata": {
    "collapsed": false
   },
   "outputs": [
    {
     "data": {
      "text/html": [
       "<div>\n",
       "<table border=\"1\" class=\"dataframe\">\n",
       "  <thead>\n",
       "    <tr style=\"text-align: right;\">\n",
       "      <th></th>\n",
       "      <th>0</th>\n",
       "      <th>1</th>\n",
       "      <th>2</th>\n",
       "      <th>3</th>\n",
       "      <th>4</th>\n",
       "      <th>5</th>\n",
       "      <th>6</th>\n",
       "      <th>7</th>\n",
       "      <th>8</th>\n",
       "      <th>9</th>\n",
       "      <th>...</th>\n",
       "      <th>12</th>\n",
       "      <th>13</th>\n",
       "      <th>14</th>\n",
       "      <th>15</th>\n",
       "      <th>16</th>\n",
       "      <th>17</th>\n",
       "      <th>18</th>\n",
       "      <th>19</th>\n",
       "      <th>Disease</th>\n",
       "      <th>Drug</th>\n",
       "    </tr>\n",
       "  </thead>\n",
       "  <tbody>\n",
       "    <tr>\n",
       "      <th>0</th>\n",
       "      <td>2.471888</td>\n",
       "      <td>-13.592664</td>\n",
       "      <td>-3.189350</td>\n",
       "      <td>0.895049</td>\n",
       "      <td>-0.321357</td>\n",
       "      <td>0.790141</td>\n",
       "      <td>0.152635</td>\n",
       "      <td>-0.787517</td>\n",
       "      <td>0.568980</td>\n",
       "      <td>-0.783676</td>\n",
       "      <td>...</td>\n",
       "      <td>-0.213327</td>\n",
       "      <td>-0.091613</td>\n",
       "      <td>0.209553</td>\n",
       "      <td>0.006553</td>\n",
       "      <td>0.126892</td>\n",
       "      <td>-0.669436</td>\n",
       "      <td>0.436612</td>\n",
       "      <td>-0.312131</td>\n",
       "      <td>hepatocellular carcinoma</td>\n",
       "      <td>doxorubicin</td>\n",
       "    </tr>\n",
       "    <tr>\n",
       "      <th>1</th>\n",
       "      <td>-4.955039</td>\n",
       "      <td>2.304024</td>\n",
       "      <td>-0.567610</td>\n",
       "      <td>2.017806</td>\n",
       "      <td>-6.238570</td>\n",
       "      <td>4.528305</td>\n",
       "      <td>4.542774</td>\n",
       "      <td>2.911332</td>\n",
       "      <td>2.037902</td>\n",
       "      <td>-1.020637</td>\n",
       "      <td>...</td>\n",
       "      <td>-0.381090</td>\n",
       "      <td>-0.304844</td>\n",
       "      <td>-0.385381</td>\n",
       "      <td>0.226702</td>\n",
       "      <td>-0.051576</td>\n",
       "      <td>0.052062</td>\n",
       "      <td>-0.062971</td>\n",
       "      <td>0.346260</td>\n",
       "      <td>esophageal cancer</td>\n",
       "      <td>porfimer sodium</td>\n",
       "    </tr>\n",
       "    <tr>\n",
       "      <th>2</th>\n",
       "      <td>8.153192</td>\n",
       "      <td>2.376555</td>\n",
       "      <td>-0.682259</td>\n",
       "      <td>-2.419119</td>\n",
       "      <td>-1.593602</td>\n",
       "      <td>-0.651689</td>\n",
       "      <td>-0.067578</td>\n",
       "      <td>-0.579909</td>\n",
       "      <td>0.358635</td>\n",
       "      <td>-0.112027</td>\n",
       "      <td>...</td>\n",
       "      <td>-0.009720</td>\n",
       "      <td>0.012834</td>\n",
       "      <td>-0.141618</td>\n",
       "      <td>0.077121</td>\n",
       "      <td>0.096744</td>\n",
       "      <td>0.017757</td>\n",
       "      <td>0.119552</td>\n",
       "      <td>0.161370</td>\n",
       "      <td>oral cancer</td>\n",
       "      <td>docetaxel</td>\n",
       "    </tr>\n",
       "  </tbody>\n",
       "</table>\n",
       "<p>3 rows × 22 columns</p>\n",
       "</div>"
      ],
      "text/plain": [
       "          0          1         2         3         4         5         6  \\\n",
       "0  2.471888 -13.592664 -3.189350  0.895049 -0.321357  0.790141  0.152635   \n",
       "1 -4.955039   2.304024 -0.567610  2.017806 -6.238570  4.528305  4.542774   \n",
       "2  8.153192   2.376555 -0.682259 -2.419119 -1.593602 -0.651689 -0.067578   \n",
       "\n",
       "          7         8         9       ...               12        13  \\\n",
       "0 -0.787517  0.568980 -0.783676       ...        -0.213327 -0.091613   \n",
       "1  2.911332  2.037902 -1.020637       ...        -0.381090 -0.304844   \n",
       "2 -0.579909  0.358635 -0.112027       ...        -0.009720  0.012834   \n",
       "\n",
       "         14        15        16        17        18        19  \\\n",
       "0  0.209553  0.006553  0.126892 -0.669436  0.436612 -0.312131   \n",
       "1 -0.385381  0.226702 -0.051576  0.052062 -0.062971  0.346260   \n",
       "2 -0.141618  0.077121  0.096744  0.017757  0.119552  0.161370   \n",
       "\n",
       "                    Disease             Drug  \n",
       "0  hepatocellular carcinoma      doxorubicin  \n",
       "1         esophageal cancer  porfimer sodium  \n",
       "2               oral cancer        docetaxel  \n",
       "\n",
       "[3 rows x 22 columns]"
      ]
     },
     "execution_count": 101,
     "metadata": {},
     "output_type": "execute_result"
    }
   ],
   "source": [
    "# use PCA algorithm for features selection\n",
    "nf = 20\n",
    "pca = PCA(n_components=nf)\n",
    "\n",
    "# X is the matrix transposed (n samples on the rows, m features on the columns)\n",
    "pca.fit(X_train)\n",
    "\n",
    "X_train_PCA_20 = pca.transform(X_train)\n",
    "X_test_PCA_20 = pca.transform(X_test)\n",
    "\n",
    "X_train_PCA_df = pd.DataFrame(X_train_PCA_20)\n",
    "X_train_PCA_df.loc[:, 'Disease'] = train_data_400.loc[:, 'Disease']\n",
    "X_train_PCA_df.loc[:, 'Drug'] = train_data_400.loc[:, 'Drug']\n",
    "X_train_PCA_df.to_csv('Train_data_PCA_20_1_class.csv', index = False)\n",
    "X_train_PCA_df[:3]\n",
    "\n",
    "X_test_PCA_df = pd.DataFrame(X_test_PCA_20)\n",
    "X_test_PCA_df.loc[:, 'Disease'] = train_data_200.loc[:, 'Disease']\n",
    "X_test_PCA_df.loc[:, 'Drug'] = train_data_200.loc[:, 'Drug']\n",
    "X_test_PCA_df.to_csv('Test_data_PCA_20_1_class.csv', index = False)\n",
    "X_test_PCA_df[:3]"
   ]
  },
  {
   "cell_type": "code",
   "execution_count": 102,
   "metadata": {
    "collapsed": false
   },
   "outputs": [
    {
     "name": "stdout",
     "output_type": "stream",
     "text": [
      "Test Accuracy =  0.975\n",
      "Best parameters  (0.0001, 'rbf', 0.001)\n"
     ]
    }
   ],
   "source": [
    "a = 0.0\n",
    "p = []\n",
    "for t in [0.0001, 0.001, 0.01, 0.1, 1, 10]: \n",
    "    for k in ['linear', 'poly', 'rbf', 'sigmoid']:\n",
    "        for g in [0.0001, 0.001, 0.01, 0.1, 1]:\n",
    "            #print (t,k,g)\n",
    "            clf = svm.OneClassSVM(tol=t, nu=0.1, kernel=k, gamma=g, verbose=0, \n",
    "                                                          random_state=0)\n",
    "            clf.fit(X_train_PCA_20)\n",
    "            y_pred_train = clf.predict(X_train_PCA_20)\n",
    "            y_pred_test = clf.predict(X_test_PCA_20)\n",
    "            n_error_train = y_pred_train[y_pred_train == 1].size\n",
    "            n_error_test = y_pred_test[y_pred_test == 1].size\n",
    "            #print float(n_error_train)/float(len(X_train)), float(n_error_test)/float(len(X_test))\n",
    "            if float(n_error_test)/float(len(X_test)) > a:\n",
    "                a = float(n_error_test)/float(len(X_test))\n",
    "                p.append((t,k,g))\n",
    "print 'Test Accuracy = ', a\n",
    "print 'Best parameters ', p[len(p)-1]"
   ]
  },
  {
   "cell_type": "markdown",
   "metadata": {},
   "source": [
    "# Features importance for dimentionaly reduction - to 20 features"
   ]
  },
  {
   "cell_type": "code",
   "execution_count": 103,
   "metadata": {
    "collapsed": false
   },
   "outputs": [
    {
     "data": {
      "text/plain": [
       "Index([         u'sub1',          u'sub2',          u'sub3',          u'sub4',\n",
       "               u'sub10',         u'sub11',         u'sub12',         u'sub13',\n",
       "               u'sub14',         u'sub15', \n",
       "       ...\n",
       "         u'hsa-mir-630',   u'hsa-mir-7-1',   u'hsa-mir-7-2',   u'hsa-mir-7-3',\n",
       "         u'hsa-mir-765',   u'hsa-mir-9-1',   u'hsa-mir-9-2',   u'hsa-mir-9-3',\n",
       "       u'hsa-mir-92a-1',    u'hsa-mir-96'],\n",
       "      dtype='object', length=1647)"
      ]
     },
     "execution_count": 103,
     "metadata": {},
     "output_type": "execute_result"
    }
   ],
   "source": [
    "features = col[2:]\n",
    "features"
   ]
  },
  {
   "cell_type": "code",
   "execution_count": 104,
   "metadata": {
    "collapsed": false
   },
   "outputs": [
    {
     "data": {
      "text/plain": [
       "1647"
      ]
     },
     "execution_count": 104,
     "metadata": {},
     "output_type": "execute_result"
    }
   ],
   "source": [
    "len(features)"
   ]
  },
  {
   "cell_type": "code",
   "execution_count": 105,
   "metadata": {
    "collapsed": false
   },
   "outputs": [
    {
     "data": {
      "text/plain": [
       "(u'sub571',\n",
       " u'cancer',\n",
       " u'adenomas',\n",
       " u'sub700',\n",
       " u'arteriosclerosis',\n",
       " u'sub413',\n",
       " u'leukocytosis',\n",
       " u'tubb6',\n",
       " u'sub635',\n",
       " u'sinus.congestion',\n",
       " u'sub338',\n",
       " u'sub685',\n",
       " u'sub393',\n",
       " u'tubb1',\n",
       " u'kcnmb4',\n",
       " u'sub424',\n",
       " u'hsa-mir-138-1',\n",
       " u'sub359',\n",
       " u'salivary.gland.enlargement',\n",
       " u'gum.hemorrhage')"
      ]
     },
     "execution_count": 105,
     "metadata": {},
     "output_type": "execute_result"
    }
   ],
   "source": [
    "a = random.sample(list(features),len(features))\n",
    "comb = list(itertools.islice(itertools.combinations(a, 20), 500000))\n",
    "comb[0]"
   ]
  },
  {
   "cell_type": "code",
   "execution_count": 106,
   "metadata": {
    "collapsed": false
   },
   "outputs": [
    {
     "name": "stdout",
     "output_type": "stream",
     "text": [
      "Test Accuracy =  1.0\n",
      "Best features  (287148, (u'sub571', u'cancer', u'adenomas', u'sub700', u'arteriosclerosis', u'sub413', u'leukocytosis', u'tubb6', u'sub635', u'sinus.congestion', u'sub338', u'sub685', u'sub393', u'tubb1', u'kcnmb4', u'sub424', u'hsa-mir-138-1', u'sub359', u'hsa-mir-125b-2', u'sub443'))\n"
     ]
    }
   ],
   "source": [
    "a = 0.0\n",
    "p = []\n",
    "for i in xrange(len(comb)):\n",
    "    #print i\n",
    "    X_train_FS_20 = train_data_400[list(comb[i])].values\n",
    "    X_test_FS_20 = train_data_200[list(comb[i])].values\n",
    "    clf = svm.OneClassSVM(tol=10, nu=0.1, kernel='sigmoid', gamma=1, verbose=0, \n",
    "                                                              random_state=0)\n",
    "    clf.fit(X_train_FS_20)\n",
    "    y_pred_train = clf.predict(X_train_FS_20)\n",
    "    y_pred_test = clf.predict(X_test_FS_20)\n",
    "    n_error_train = y_pred_train[y_pred_train == 1].size\n",
    "    n_error_test = y_pred_test[y_pred_test == 1].size\n",
    "\n",
    "    if float(n_error_test)/float(len(X_test)) > a:\n",
    "                a = float(n_error_test)/float(len(X_test))\n",
    "                p = (i, comb[i])\n",
    "print 'Test Accuracy = ', a \n",
    "print 'Best features ', p"
   ]
  },
  {
   "cell_type": "code",
   "execution_count": 107,
   "metadata": {
    "collapsed": true
   },
   "outputs": [],
   "source": [
    "df = train_data_400[list(comb[p[0]])]\n",
    "df.to_csv('Train_data_from_Features_Selection20.csv', index = False)"
   ]
  },
  {
   "cell_type": "markdown",
   "metadata": {},
   "source": [
    "# Important features comparison"
   ]
  },
  {
   "cell_type": "markdown",
   "metadata": {},
   "source": [
    "### Display features from Features Elumination reduction for 2 classes problem"
   ]
  },
  {
   "cell_type": "code",
   "execution_count": 131,
   "metadata": {
    "collapsed": false
   },
   "outputs": [
    {
     "data": {
      "text/plain": [
       "[u'sub422',\n",
       " u'ESR.increased',\n",
       " u'grin1',\n",
       " u'kcnh7',\n",
       " u'kcnn2',\n",
       " u'nos2',\n",
       " u'gstp1.y',\n",
       " u'lrrk2',\n",
       " u'met.y',\n",
       " u'mlh1',\n",
       " u'mmp2.y',\n",
       " u'pten',\n",
       " u'hsa-mir-155',\n",
       " u'hsa-mir-15a',\n",
       " u'hsa-mir-17',\n",
       " u'hsa-mir-195',\n",
       " u'hsa-mir-29b-1',\n",
       " u'hsa-mir-29b-2',\n",
       " u'hsa-mir-34b',\n",
       " u'hsa-mir-513a-1']"
      ]
     },
     "execution_count": 131,
     "metadata": {},
     "output_type": "execute_result"
    }
   ],
   "source": [
    "FE_columns = col_important_FE_20\n",
    "FE_columns"
   ]
  },
  {
   "cell_type": "markdown",
   "metadata": {},
   "source": [
    "### Display features from Features Selection reduction for 1 class problem"
   ]
  },
  {
   "cell_type": "code",
   "execution_count": 132,
   "metadata": {
    "collapsed": false
   },
   "outputs": [
    {
     "data": {
      "text/plain": [
       "[u'sub571',\n",
       " u'cancer',\n",
       " u'adenomas',\n",
       " u'sub700',\n",
       " u'arteriosclerosis',\n",
       " u'sub413',\n",
       " u'leukocytosis',\n",
       " u'tubb6',\n",
       " u'sub635',\n",
       " u'sinus.congestion',\n",
       " u'sub338',\n",
       " u'sub685',\n",
       " u'sub393',\n",
       " u'tubb1',\n",
       " u'kcnmb4',\n",
       " u'sub424',\n",
       " u'hsa-mir-138-1',\n",
       " u'sub359',\n",
       " u'hsa-mir-125b-2',\n",
       " u'sub443']"
      ]
     },
     "execution_count": 132,
     "metadata": {},
     "output_type": "execute_result"
    }
   ],
   "source": [
    "FS_columns = list(p[1])\n",
    "FS_columns"
   ]
  },
  {
   "cell_type": "code",
   "execution_count": 133,
   "metadata": {
    "collapsed": true
   },
   "outputs": [],
   "source": [
    "def unique(s):\n",
    "    \n",
    "\n",
    "    n = len(s)\n",
    "    if n == 0:\n",
    "        return []\n",
    "\n",
    "   \n",
    "    u = {}\n",
    "    try:\n",
    "        for x in s:\n",
    "            u[x] = 1\n",
    "    except TypeError:\n",
    "        del u  # move on to the next method\n",
    "    else:\n",
    "        return u.keys()\n",
    "\n",
    "   \n",
    "    try:\n",
    "        t = list(s)\n",
    "        t.sort()\n",
    "    except TypeError:\n",
    "        del t  # move on to the next method\n",
    "    else:\n",
    "        assert n > 0\n",
    "        last = t[0]\n",
    "        lasti = i = 1\n",
    "        while i < n:\n",
    "            if t[i] != last:\n",
    "                t[lasti] = last = t[i]\n",
    "                lasti += 1\n",
    "            i += 1\n",
    "        return t[:lasti]\n",
    "\n",
    "    # Brute force is all that's left.\n",
    "    u = []\n",
    "    for x in s:\n",
    "        if x not in u:\n",
    "            u.append(x)\n",
    "    return u"
   ]
  },
  {
   "cell_type": "code",
   "execution_count": 134,
   "metadata": {
    "collapsed": false
   },
   "outputs": [
    {
     "data": {
      "text/plain": [
       "[u'hsa-mir-15a',\n",
       " u'cancer',\n",
       " u'sub443',\n",
       " u'tubb6',\n",
       " u'ESR.increased',\n",
       " u'leukocytosis',\n",
       " u'sub338',\n",
       " u'sub424',\n",
       " u'sub422',\n",
       " u'kcnn2',\n",
       " u'sub393',\n",
       " u'sub359',\n",
       " u'gstp1.y',\n",
       " u'nos2',\n",
       " u'arteriosclerosis',\n",
       " u'lrrk2',\n",
       " u'hsa-mir-513a-1',\n",
       " u'pten',\n",
       " u'hsa-mir-34b',\n",
       " u'sinus.congestion',\n",
       " u'grin1',\n",
       " u'adenomas',\n",
       " u'hsa-mir-125b-2',\n",
       " u'kcnmb4',\n",
       " u'hsa-mir-17',\n",
       " u'sub700',\n",
       " u'kcnh7',\n",
       " u'mlh1',\n",
       " u'mmp2.y',\n",
       " u'sub571',\n",
       " u'hsa-mir-155',\n",
       " u'sub635',\n",
       " u'tubb1',\n",
       " u'sub413',\n",
       " u'hsa-mir-29b-1',\n",
       " u'hsa-mir-29b-2',\n",
       " u'sub685',\n",
       " u'met.y',\n",
       " u'hsa-mir-195',\n",
       " u'hsa-mir-138-1']"
      ]
     },
     "execution_count": 134,
     "metadata": {},
     "output_type": "execute_result"
    }
   ],
   "source": [
    "general = []\n",
    "\n",
    "for i in FE_columns:\n",
    "    general.append(i)\n",
    "for i in FS_columns:\n",
    "    general.append(i)\n",
    "    \n",
    "general = unique(general)\n",
    "general"
   ]
  },
  {
   "cell_type": "code",
   "execution_count": 135,
   "metadata": {
    "collapsed": true
   },
   "outputs": [],
   "source": [
    "\n",
    "        \n",
    "FE = []\n",
    "for i in general:\n",
    "    if i in FE_columns:\n",
    "        FE.append(1)\n",
    "    else:\n",
    "        FE.append(0)\n",
    "        \n",
    "FS = []\n",
    "for i in general:\n",
    "    if i in FS_columns:\n",
    "        FS.append(1)\n",
    "    else:\n",
    "        FS.append(0)"
   ]
  },
  {
   "cell_type": "code",
   "execution_count": 137,
   "metadata": {
    "collapsed": false,
    "scrolled": true
   },
   "outputs": [
    {
     "data": {
      "image/png": "[encoded data removed]",
      "text/plain": [
       "<matplotlib.figure.Figure at 0x2ac34a20>"
      ]
     },
     "metadata": {},
     "output_type": "display_data"
    }
   ],
   "source": [
    "%matplotlib inline\n",
    "\n",
    "\n",
    "X = range(len(general))\n",
    "plt.figure(figsize=(20,10))\n",
    "plt.title('Important features overlapping', size = 18)\n",
    "\n",
    "\n",
    "p2 = plt.bar(X, FE, color = 'r')\n",
    "p3 = plt.bar(X, FS, color = 'g', bottom = FE)\n",
    "plt.xlabel('Features names', size = 18)\n",
    "plt.xticks(X,  general, rotation = 90, size = 18)\n",
    "plt.yticks(size = 18)\n",
    "plt.legend((p2[0], p3[0]), ('Features estimation (2 classes)', 'Features selection (1 class)'), loc='center right', bbox_to_anchor=(1.2, 0.5))\n",
    "plt.savefig('Important features overlapping.jpg', bbox_inches='tight')\n",
    "plt.show()"
   ]
  },
  {
   "cell_type": "markdown",
   "metadata": {},
   "source": [
    "# Similarity calculating"
   ]
  },
  {
   "cell_type": "code",
   "execution_count": 138,
   "metadata": {
    "collapsed": true
   },
   "outputs": [],
   "source": [
    "def similar(x,y):\n",
    "    si = 0\n",
    "    for a,b in zip(x, y):\n",
    "        if a == b:\n",
    "            si += 1\n",
    "    return (float(si)/float(len(x))) * 100\n",
    "\n",
    "def counter_cosine_similarity(c1, c2):\n",
    "    terms = set(c1).union(c2)\n",
    "    dotprod = sum(c1.get(k, 0) * c2.get(k, 0) for k in terms)\n",
    "    magA = math.sqrt(sum(c1.get(k, 0)**2 for k in terms))\n",
    "    magB = math.sqrt(sum(c2.get(k, 0)**2 for k in terms))\n",
    "    return dotprod / (magA * magB)"
   ]
  },
  {
   "cell_type": "markdown",
   "metadata": {},
   "source": [
    "### Between Features importances and Features Selection"
   ]
  },
  {
   "cell_type": "code",
   "execution_count": 139,
   "metadata": {
    "collapsed": false
   },
   "outputs": [
    {
     "name": "stdout",
     "output_type": "stream",
     "text": [
      "Percent of similarity 0.0 %\n"
     ]
    }
   ],
   "source": [
    "print 'Percent of similarity ' + str(similar(FI_columns,FS_columns)) + ' %'"
   ]
  },
  {
   "cell_type": "markdown",
   "metadata": {},
   "source": [
    "### Between Features selection and Features Estimation"
   ]
  },
  {
   "cell_type": "code",
   "execution_count": 140,
   "metadata": {
    "collapsed": false
   },
   "outputs": [
    {
     "name": "stdout",
     "output_type": "stream",
     "text": [
      "Percent of similarity 0.0 %\n"
     ]
    }
   ],
   "source": [
    "print 'Percent of similarity ' + str(similar(FS_columns,FE_columns)) + ' %'"
   ]
  },
  {
   "cell_type": "markdown",
   "metadata": {},
   "source": [
    "# Display the type of the most important features from Features selection 1 Class"
   ]
  },
  {
   "cell_type": "code",
   "execution_count": 141,
   "metadata": {
    "collapsed": false
   },
   "outputs": [
    {
     "name": "stdout",
     "output_type": "stream",
     "text": [
      "{'sharing_targets': 3, 'side_effect': 5, 'sharing_genes': 0, 'chemical_str': 10, 'miRNAs': 2}\n"
     ]
    },
    {
     "data": {
      "text/plain": [
       "<matplotlib.figure.Figure at 0x1be98828>"
      ]
     },
     "metadata": {},
     "output_type": "display_data"
    },
    {
     "data": {
      "image/png": "[encoded data removed]",
      "text/plain": [
       "<matplotlib.figure.Figure at 0x22122c88>"
      ]
     },
     "metadata": {},
     "output_type": "display_data"
    }
   ],
   "source": [
    "# create empty dictionary\n",
    "types_dic = dict()\n",
    "for name in ['chemical_str', 'side_effect', 'sharing_targets', 'sharing_genes', 'miRNAs']:\n",
    "    types_dic[name] = []\n",
    "\n",
    "    \n",
    "for i in xrange(len(FS_columns)):\n",
    "    if FS_columns[i] in chemical_str.columns:\n",
    "        types_dic['chemical_str'] = types_dic['chemical_str'] + [FS_columns[i]]\n",
    "    elif FS_columns[i] in side_effect.columns:\n",
    "        types_dic['side_effect'] = types_dic['side_effect'] + [FS_columns[i]]\n",
    "    elif FS_columns[i] in sharing_targets.columns:\n",
    "        types_dic['sharing_targets'] = types_dic['sharing_targets'] + [FS_columns[i]]\n",
    "    elif FS_columns[i] in sharing_genes.columns:\n",
    "        types_dic['sharing_genes'] = types_dic['sharing_genes'] + [FS_columns[i]]\n",
    "    elif FS_columns[i] in miRNAs.columns:\n",
    "        types_dic['miRNAs'] = types_dic['miRNAs'] + [FS_columns[i]]\n",
    "        \n",
    "        \n",
    "# percent calculate\n",
    "percent = dict()\n",
    "for name in ['chemical_str', 'side_effect', 'sharing_targets', 'sharing_genes', 'miRNAs']:\n",
    "    percent[name] = len(types_dic[name])\n",
    "\n",
    "print percent\n",
    "\n",
    "plt.figure()\n",
    "plt.figure(figsize=(10,5))\n",
    "plt.title(\"Percent of features from each type in most 100 important features set\", size = 15)\n",
    "plt.bar(range(5), percent.values(), color=\"r\",align=\"center\")\n",
    "plt.xticks(range(5),  ['chemical_str', 'side_effect', 'sharing_targets', \n",
    "                        'sharing_genes', 'miRNAs'], rotation = 45, size = 15)\n",
    "plt.yticks(size = 15)\n",
    "plt.savefig('Features_Selection_percent_of_features_20_1_class.jpg', bbox_inches='tight')\n",
    "plt.show()"
   ]
  },
  {
   "cell_type": "markdown",
   "metadata": {},
   "source": [
    "# Display the type of the most important features from Features Elumination for 2 Classes"
   ]
  },
  {
   "cell_type": "code",
   "execution_count": 142,
   "metadata": {
    "collapsed": false
   },
   "outputs": [
    {
     "name": "stdout",
     "output_type": "stream",
     "text": [
      "{'sharing_targets': 4, 'side_effect': 1, 'sharing_genes': 6, 'chemical_str': 1, 'miRNAs': 8}\n"
     ]
    },
    {
     "data": {
      "text/plain": [
       "<matplotlib.figure.Figure at 0x1f2d0898>"
      ]
     },
     "metadata": {},
     "output_type": "display_data"
    },
    {
     "data": {
      "image/png": "[encoded data removed]",
      "text/plain": [
       "<matplotlib.figure.Figure at 0x1f44fe80>"
      ]
     },
     "metadata": {},
     "output_type": "display_data"
    }
   ],
   "source": [
    "# create empty dictionary\n",
    "types_dic = dict()\n",
    "for name in ['chemical_str', 'side_effect', 'sharing_targets', 'sharing_genes', 'miRNAs']:\n",
    "    types_dic[name] = []\n",
    "\n",
    "    \n",
    "for i in xrange(len(col_important_FE_20)):\n",
    "    if col_important_FE_20[i] in chemical_str.columns:\n",
    "        types_dic['chemical_str'] = types_dic['chemical_str'] + [col_important_FE_20[i]]\n",
    "    elif col_important_FE_20[i] in side_effect.columns:\n",
    "        types_dic['side_effect'] = types_dic['side_effect'] + [col_important_FE_20[i]]\n",
    "    elif col_important_FE_20[i] in sharing_targets.columns:\n",
    "        types_dic['sharing_targets'] = types_dic['sharing_targets'] + [col_important_FE_20[i]]\n",
    "    elif col_important_FE_20[i] in sharing_genes.columns:\n",
    "        types_dic['sharing_genes'] = types_dic['sharing_genes'] + [col_important_FE_20[i]]\n",
    "    elif col_important_FE_20[i] in miRNAs.columns:\n",
    "        types_dic['miRNAs'] = types_dic['miRNAs'] + [col_important_FE_20[i]]\n",
    "\n",
    "        \n",
    "        \n",
    "# percent calculate\n",
    "percent2 = dict()\n",
    "for name in ['chemical_str', 'side_effect', 'sharing_targets', 'sharing_genes', 'miRNAs']:\n",
    "    percent2[name] = len(types_dic[name])\n",
    "\n",
    "print percent2\n",
    "\n",
    "plt.figure()\n",
    "plt.figure(figsize=(10,5))\n",
    "plt.title(\"Percent of features from each type in most 100 important features set\", size = 15)\n",
    "plt.bar(range(5), percent2.values(), color=\"g\",align=\"center\")\n",
    "plt.xticks(range(5),  ['chemical_str', 'side_effect', 'sharing_targets', \n",
    "                        'sharing_genes', 'miRNAs'], rotation = 45, size = 15)\n",
    "plt.yticks(size = 15)\n",
    "plt.savefig('Features_Elumination_percent_of_features_20.jpg', bbox_inches='tight')\n",
    "plt.show()"
   ]
  },
  {
   "cell_type": "code",
   "execution_count": 143,
   "metadata": {
    "collapsed": false
   },
   "outputs": [
    {
     "name": "stdout",
     "output_type": "stream",
     "text": [
      "From Features Selection for 1 class {'sharing_targets': 3, 'side_effect': 5, 'sharing_genes': 0, 'chemical_str': 10, 'miRNAs': 2}\n",
      "From Features Elumination for 2 classes {'sharing_targets': 4, 'side_effect': 1, 'sharing_genes': 6, 'chemical_str': 1, 'miRNAs': 8}\n"
     ]
    }
   ],
   "source": [
    "print 'From Features Selection for 1 class', percent\n",
    "print 'From Features Elumination for 2 classes', percent2"
   ]
  },
  {
   "cell_type": "markdown",
   "metadata": {},
   "source": [
    "# Table with Accuracy results"
   ]
  },
  {
   "cell_type": "code",
   "execution_count": 124,
   "metadata": {
    "collapsed": false
   },
   "outputs": [
    {
     "data": {
      "text/html": [
       "<div>\n",
       "<table border=\"1\" class=\"dataframe\">\n",
       "  <thead>\n",
       "    <tr style=\"text-align: right;\">\n",
       "      <th></th>\n",
       "      <th>Accuracy For 2 classes problem  with 100 features</th>\n",
       "      <th>Accuracy For 2 classes problem  with 20 features</th>\n",
       "      <th>Accuracy For 1 class problem  with 20 features</th>\n",
       "      <th>All 1647 features for 2 class problem</th>\n",
       "    </tr>\n",
       "  </thead>\n",
       "  <tbody>\n",
       "    <tr>\n",
       "      <th>Reduction with Features Importnaces</th>\n",
       "      <td>0</td>\n",
       "      <td>0</td>\n",
       "      <td>0</td>\n",
       "      <td>0</td>\n",
       "    </tr>\n",
       "    <tr>\n",
       "      <th>Reduction with Features Eluminations</th>\n",
       "      <td>0</td>\n",
       "      <td>0</td>\n",
       "      <td>0</td>\n",
       "      <td>0</td>\n",
       "    </tr>\n",
       "    <tr>\n",
       "      <th>Reduction with PCA</th>\n",
       "      <td>0</td>\n",
       "      <td>0</td>\n",
       "      <td>0</td>\n",
       "      <td>0</td>\n",
       "    </tr>\n",
       "    <tr>\n",
       "      <th>Reduction with Features Selection</th>\n",
       "      <td>0</td>\n",
       "      <td>0</td>\n",
       "      <td>0</td>\n",
       "      <td>0</td>\n",
       "    </tr>\n",
       "    <tr>\n",
       "      <th>All 1647 features</th>\n",
       "      <td>0</td>\n",
       "      <td>0</td>\n",
       "      <td>0</td>\n",
       "      <td>0</td>\n",
       "    </tr>\n",
       "  </tbody>\n",
       "</table>\n",
       "</div>"
      ],
      "text/plain": [
       "                                      Accuracy For 2 classes problem  with 100 features  \\\n",
       "Reduction with Features Importnaces                                                   0   \n",
       "Reduction with Features Eluminations                                                  0   \n",
       "Reduction with PCA                                                                    0   \n",
       "Reduction with Features Selection                                                     0   \n",
       "All 1647 features                                                                     0   \n",
       "\n",
       "                                      Accuracy For 2 classes problem  with 20 features  \\\n",
       "Reduction with Features Importnaces                                                  0   \n",
       "Reduction with Features Eluminations                                                 0   \n",
       "Reduction with PCA                                                                   0   \n",
       "Reduction with Features Selection                                                    0   \n",
       "All 1647 features                                                                    0   \n",
       "\n",
       "                                      Accuracy For 1 class problem  with 20 features  \\\n",
       "Reduction with Features Importnaces                                                0   \n",
       "Reduction with Features Eluminations                                               0   \n",
       "Reduction with PCA                                                                 0   \n",
       "Reduction with Features Selection                                                  0   \n",
       "All 1647 features                                                                  0   \n",
       "\n",
       "                                      All 1647 features for 2 class problem  \n",
       "Reduction with Features Importnaces                                       0  \n",
       "Reduction with Features Eluminations                                      0  \n",
       "Reduction with PCA                                                        0  \n",
       "Reduction with Features Selection                                         0  \n",
       "All 1647 features                                                         0  "
      ]
     },
     "execution_count": 124,
     "metadata": {},
     "output_type": "execute_result"
    }
   ],
   "source": [
    "df = pd.DataFrame(columns = ['Accuracy For 2 classes problem  with 100 features', 'Accuracy For 2 classes problem  with 20 features',\n",
    "                             'Accuracy For 1 class problem  with 20 features', 'All 1647 features for 2 class problem'                            \n",
    "                            ], index = ['Reduction with Features Importnaces', \n",
    "                            'Reduction with Features Eluminations', 'Reduction with PCA', \n",
    "                                                                                        'Reduction with Features Selection',\n",
    "                                                                                        'All 1647 features'\n",
    "                                                                                        ])\n",
    "df = df.fillna(0.0)\n",
    "df"
   ]
  },
  {
   "cell_type": "code",
   "execution_count": 125,
   "metadata": {
    "collapsed": false
   },
   "outputs": [
    {
     "data": {
      "text/plain": [
       "Index([u'Accuracy For 2 classes problem  with 100 features',\n",
       "       u'Accuracy For 2 classes problem  with 20 features',\n",
       "       u'Accuracy For 1 class problem  with 20 features',\n",
       "       u'All 1647 features for 2 class problem'],\n",
       "      dtype='object')"
      ]
     },
     "execution_count": 125,
     "metadata": {},
     "output_type": "execute_result"
    }
   ],
   "source": [
    "df.columns"
   ]
  },
  {
   "cell_type": "code",
   "execution_count": 126,
   "metadata": {
    "collapsed": false
   },
   "outputs": [],
   "source": [
    "df['Accuracy For 2 classes problem  with 100 features']['Reduction with Features Importnaces'] = 0.265\n",
    "df['Accuracy For 2 classes problem  with 20 features']['Reduction with Features Importnaces'] = 0.0\n",
    "df['Accuracy For 2 classes problem  with 100 features']['Reduction with Features Eluminations'] = 0.985\n",
    "df['Accuracy For 2 classes problem  with 20 features']['Reduction with Features Eluminations'] = 0.17\n",
    "df['Accuracy For 2 classes problem  with 100 features']['Reduction with PCA'] = 0.415\n",
    "df['Accuracy For 2 classes problem  with 20 features']['Reduction with PCA'] = 0.445\n",
    "df['All 1647 features for 2 class problem']['All 1647 features'] = 0.96\n",
    "df['Accuracy For 1 class problem  with 20 features']['All 1647 features'] = 0.965\n",
    "df['Accuracy For 1 class problem  with 20 features']['Reduction with PCA'] = 0.99\n",
    "df['Accuracy For 1 class problem  with 20 features']['Reduction with Features Selection'] = 1.0"
   ]
  },
  {
   "cell_type": "code",
   "execution_count": 127,
   "metadata": {
    "collapsed": false
   },
   "outputs": [
    {
     "data": {
      "text/html": [
       "<div>\n",
       "<table border=\"1\" class=\"dataframe\">\n",
       "  <thead>\n",
       "    <tr style=\"text-align: right;\">\n",
       "      <th></th>\n",
       "      <th>Accuracy For 2 classes problem  with 100 features</th>\n",
       "      <th>Accuracy For 2 classes problem  with 20 features</th>\n",
       "      <th>Accuracy For 1 class problem  with 20 features</th>\n",
       "      <th>All 1647 features for 2 class problem</th>\n",
       "    </tr>\n",
       "  </thead>\n",
       "  <tbody>\n",
       "    <tr>\n",
       "      <th>Reduction with Features Importnaces</th>\n",
       "      <td>0.265</td>\n",
       "      <td>0.000</td>\n",
       "      <td>0.000</td>\n",
       "      <td>0.00</td>\n",
       "    </tr>\n",
       "    <tr>\n",
       "      <th>Reduction with Features Eluminations</th>\n",
       "      <td>0.985</td>\n",
       "      <td>0.170</td>\n",
       "      <td>0.000</td>\n",
       "      <td>0.00</td>\n",
       "    </tr>\n",
       "    <tr>\n",
       "      <th>Reduction with PCA</th>\n",
       "      <td>0.415</td>\n",
       "      <td>0.445</td>\n",
       "      <td>0.990</td>\n",
       "      <td>0.00</td>\n",
       "    </tr>\n",
       "    <tr>\n",
       "      <th>Reduction with Features Selection</th>\n",
       "      <td>0.000</td>\n",
       "      <td>0.000</td>\n",
       "      <td>1.000</td>\n",
       "      <td>0.00</td>\n",
       "    </tr>\n",
       "    <tr>\n",
       "      <th>All 1647 features</th>\n",
       "      <td>0.000</td>\n",
       "      <td>0.000</td>\n",
       "      <td>0.965</td>\n",
       "      <td>0.96</td>\n",
       "    </tr>\n",
       "  </tbody>\n",
       "</table>\n",
       "</div>"
      ],
      "text/plain": [
       "                                      Accuracy For 2 classes problem  with 100 features  \\\n",
       "Reduction with Features Importnaces                                               0.265   \n",
       "Reduction with Features Eluminations                                              0.985   \n",
       "Reduction with PCA                                                                0.415   \n",
       "Reduction with Features Selection                                                 0.000   \n",
       "All 1647 features                                                                 0.000   \n",
       "\n",
       "                                      Accuracy For 2 classes problem  with 20 features  \\\n",
       "Reduction with Features Importnaces                                              0.000   \n",
       "Reduction with Features Eluminations                                             0.170   \n",
       "Reduction with PCA                                                               0.445   \n",
       "Reduction with Features Selection                                                0.000   \n",
       "All 1647 features                                                                0.000   \n",
       "\n",
       "                                      Accuracy For 1 class problem  with 20 features  \\\n",
       "Reduction with Features Importnaces                                            0.000   \n",
       "Reduction with Features Eluminations                                           0.000   \n",
       "Reduction with PCA                                                             0.990   \n",
       "Reduction with Features Selection                                              1.000   \n",
       "All 1647 features                                                              0.965   \n",
       "\n",
       "                                      All 1647 features for 2 class problem  \n",
       "Reduction with Features Importnaces                                    0.00  \n",
       "Reduction with Features Eluminations                                   0.00  \n",
       "Reduction with PCA                                                     0.00  \n",
       "Reduction with Features Selection                                      0.00  \n",
       "All 1647 features                                                      0.96  "
      ]
     },
     "execution_count": 127,
     "metadata": {},
     "output_type": "execute_result"
    }
   ],
   "source": [
    "df"
   ]
  },
  {
   "cell_type": "code",
   "execution_count": 128,
   "metadata": {
    "collapsed": false,
    "scrolled": true
   },
   "outputs": [
    {
     "data": {
      "image/png": "[encoded data removed]",
      "text/plain": [
       "<matplotlib.figure.Figure at 0x3fadba8>"
      ]
     },
     "metadata": {},
     "output_type": "display_data"
    }
   ],
   "source": [
    "\n",
    "df.plot(kind='bar', stacked=True, figsize = (15, 5))\n",
    "plt.savefig('Accuracy.jpg', bbox_inches='tight')"
   ]
  },
  {
   "cell_type": "code",
   "execution_count": 129,
   "metadata": {
    "collapsed": false
   },
   "outputs": [
    {
     "data": {
      "image/png": "[encoded data removed]",
      "text/plain": [
       "<matplotlib.figure.Figure at 0x1f12add8>"
      ]
     },
     "metadata": {},
     "output_type": "display_data"
    }
   ],
   "source": [
    "df.plot(kind='barh', stacked=True, figsize=(16, 6));\n",
    "plt.savefig('Accuracy2.jpg', bbox_inches='tight')"
   ]
  },
  {
   "cell_type": "code",
   "execution_count": 130,
   "metadata": {
    "collapsed": false
   },
   "outputs": [
    {
     "data": {
      "image/png": "[encoded data removed]",
      "text/plain": [
       "<matplotlib.figure.Figure at 0x1f5fbac8>"
      ]
     },
     "metadata": {},
     "output_type": "display_data"
    }
   ],
   "source": [
    "df.plot(kind='bar', colormap='Greens', legend = 'right', figsize=(16, 6))\n",
    "plt.savefig('Accuracy3.jpg', bbox_inches='tight')"
   ]
  },
  {
   "cell_type": "code",
   "execution_count": null,
   "metadata": {
    "collapsed": true
   },
   "outputs": [],
   "source": []
  },
  {
   "cell_type": "code",
   "execution_count": null,
   "metadata": {
    "collapsed": true
   },
   "outputs": [],
   "source": []
  },
  {
   "cell_type": "code",
   "execution_count": null,
   "metadata": {
    "collapsed": true
   },
   "outputs": [],
   "source": []
  },
  {
   "cell_type": "code",
   "execution_count": null,
   "metadata": {
    "collapsed": true
   },
   "outputs": [],
   "source": []
  }
 ],
 "metadata": {
  "kernelspec": {
   "display_name": "Python 2",
   "language": "python",
   "name": "python2"
  },
  "language_info": {
   "codemirror_mode": {
    "name": "ipython",
    "version": 2
   },
   "file_extension": ".py",
   "mimetype": "text/x-python",
   "name": "python",
   "nbconvert_exporter": "python",
   "pygments_lexer": "ipython2",
   "version": "2.7.10"
  }
 },
 "nbformat": 4,
 "nbformat_minor": 0
}
